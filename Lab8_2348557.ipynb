{
  "cells": [
    {
      "cell_type": "markdown",
      "metadata": {
        "id": "view-in-github",
        "colab_type": "text"
      },
      "source": [
        "<a href=\"https://colab.research.google.com/github/shilpeemaitra/Lab/blob/main/Lab8_2348557.ipynb\" target=\"_parent\"><img src=\"https://colab.research.google.com/assets/colab-badge.svg\" alt=\"Open In Colab\"/></a>"
      ]
    },
    {
      "cell_type": "markdown",
      "id": "abd8bcc0",
      "metadata": {
        "id": "abd8bcc0"
      },
      "source": [
        "## Importing the dataset and getting first impressions"
      ]
    },
    {
      "cell_type": "code",
      "execution_count": null,
      "id": "466f88d5",
      "metadata": {
        "id": "466f88d5"
      },
      "outputs": [],
      "source": [
        "import numpy as np\n",
        "import pandas as pd\n",
        "import matplotlib.pyplot as plt\n",
        "import seaborn as sns\n",
        "import warnings\n",
        "\n",
        "sns.set_palette('viridis')\n",
        "warnings.filterwarnings('ignore')"
      ]
    },
    {
      "cell_type": "code",
      "execution_count": null,
      "id": "a1adde66",
      "metadata": {
        "id": "a1adde66"
      },
      "outputs": [],
      "source": [
        "#importing the dataset\n",
        "df = pd.read_csv('spam.csv', encoding='latin-1')"
      ]
    },
    {
      "cell_type": "code",
      "execution_count": null,
      "id": "0ff102ef",
      "metadata": {
        "id": "0ff102ef",
        "outputId": "e30cfb5f-e877-4247-8765-8369b3d04928"
      },
      "outputs": [
        {
          "data": {
            "text/html": [
              "<div>\n",
              "<style scoped>\n",
              "    .dataframe tbody tr th:only-of-type {\n",
              "        vertical-align: middle;\n",
              "    }\n",
              "\n",
              "    .dataframe tbody tr th {\n",
              "        vertical-align: top;\n",
              "    }\n",
              "\n",
              "    .dataframe thead th {\n",
              "        text-align: right;\n",
              "    }\n",
              "</style>\n",
              "<table border=\"1\" class=\"dataframe\">\n",
              "  <thead>\n",
              "    <tr style=\"text-align: right;\">\n",
              "      <th></th>\n",
              "      <th>v1</th>\n",
              "      <th>v2</th>\n",
              "      <th>Unnamed: 2</th>\n",
              "      <th>Unnamed: 3</th>\n",
              "      <th>Unnamed: 4</th>\n",
              "    </tr>\n",
              "  </thead>\n",
              "  <tbody>\n",
              "    <tr>\n",
              "      <th>0</th>\n",
              "      <td>ham</td>\n",
              "      <td>Go until jurong point, crazy.. Available only ...</td>\n",
              "      <td>NaN</td>\n",
              "      <td>NaN</td>\n",
              "      <td>NaN</td>\n",
              "    </tr>\n",
              "    <tr>\n",
              "      <th>1</th>\n",
              "      <td>ham</td>\n",
              "      <td>Ok lar... Joking wif u oni...</td>\n",
              "      <td>NaN</td>\n",
              "      <td>NaN</td>\n",
              "      <td>NaN</td>\n",
              "    </tr>\n",
              "    <tr>\n",
              "      <th>2</th>\n",
              "      <td>spam</td>\n",
              "      <td>Free entry in 2 a wkly comp to win FA Cup fina...</td>\n",
              "      <td>NaN</td>\n",
              "      <td>NaN</td>\n",
              "      <td>NaN</td>\n",
              "    </tr>\n",
              "    <tr>\n",
              "      <th>3</th>\n",
              "      <td>ham</td>\n",
              "      <td>U dun say so early hor... U c already then say...</td>\n",
              "      <td>NaN</td>\n",
              "      <td>NaN</td>\n",
              "      <td>NaN</td>\n",
              "    </tr>\n",
              "    <tr>\n",
              "      <th>4</th>\n",
              "      <td>ham</td>\n",
              "      <td>Nah I don't think he goes to usf, he lives aro...</td>\n",
              "      <td>NaN</td>\n",
              "      <td>NaN</td>\n",
              "      <td>NaN</td>\n",
              "    </tr>\n",
              "  </tbody>\n",
              "</table>\n",
              "</div>"
            ],
            "text/plain": [
              "     v1                                                 v2 Unnamed: 2  \\\n",
              "0   ham  Go until jurong point, crazy.. Available only ...        NaN   \n",
              "1   ham                      Ok lar... Joking wif u oni...        NaN   \n",
              "2  spam  Free entry in 2 a wkly comp to win FA Cup fina...        NaN   \n",
              "3   ham  U dun say so early hor... U c already then say...        NaN   \n",
              "4   ham  Nah I don't think he goes to usf, he lives aro...        NaN   \n",
              "\n",
              "  Unnamed: 3 Unnamed: 4  \n",
              "0        NaN        NaN  \n",
              "1        NaN        NaN  \n",
              "2        NaN        NaN  \n",
              "3        NaN        NaN  \n",
              "4        NaN        NaN  "
            ]
          },
          "execution_count": 3,
          "metadata": {},
          "output_type": "execute_result"
        }
      ],
      "source": [
        "df.head()"
      ]
    },
    {
      "cell_type": "code",
      "execution_count": null,
      "id": "9fa6ae42",
      "metadata": {
        "id": "9fa6ae42"
      },
      "outputs": [],
      "source": [
        "#cleaning the dataset\n",
        "df = df.drop(columns=[\"Unnamed: 2\", \"Unnamed: 3\", \"Unnamed: 4\"],axis=1)\n",
        "df.columns = ['label', 'text']"
      ]
    },
    {
      "cell_type": "code",
      "execution_count": null,
      "id": "acd38634",
      "metadata": {
        "id": "acd38634",
        "outputId": "9e2ecd27-d768-477d-87ab-1bf3f36242da"
      },
      "outputs": [
        {
          "data": {
            "text/html": [
              "<div>\n",
              "<style scoped>\n",
              "    .dataframe tbody tr th:only-of-type {\n",
              "        vertical-align: middle;\n",
              "    }\n",
              "\n",
              "    .dataframe tbody tr th {\n",
              "        vertical-align: top;\n",
              "    }\n",
              "\n",
              "    .dataframe thead th {\n",
              "        text-align: right;\n",
              "    }\n",
              "</style>\n",
              "<table border=\"1\" class=\"dataframe\">\n",
              "  <thead>\n",
              "    <tr style=\"text-align: right;\">\n",
              "      <th></th>\n",
              "      <th>label</th>\n",
              "      <th>text</th>\n",
              "    </tr>\n",
              "  </thead>\n",
              "  <tbody>\n",
              "    <tr>\n",
              "      <th>0</th>\n",
              "      <td>ham</td>\n",
              "      <td>Go until jurong point, crazy.. Available only ...</td>\n",
              "    </tr>\n",
              "    <tr>\n",
              "      <th>1</th>\n",
              "      <td>ham</td>\n",
              "      <td>Ok lar... Joking wif u oni...</td>\n",
              "    </tr>\n",
              "    <tr>\n",
              "      <th>2</th>\n",
              "      <td>spam</td>\n",
              "      <td>Free entry in 2 a wkly comp to win FA Cup fina...</td>\n",
              "    </tr>\n",
              "    <tr>\n",
              "      <th>3</th>\n",
              "      <td>ham</td>\n",
              "      <td>U dun say so early hor... U c already then say...</td>\n",
              "    </tr>\n",
              "    <tr>\n",
              "      <th>4</th>\n",
              "      <td>ham</td>\n",
              "      <td>Nah I don't think he goes to usf, he lives aro...</td>\n",
              "    </tr>\n",
              "  </tbody>\n",
              "</table>\n",
              "</div>"
            ],
            "text/plain": [
              "  label                                               text\n",
              "0   ham  Go until jurong point, crazy.. Available only ...\n",
              "1   ham                      Ok lar... Joking wif u oni...\n",
              "2  spam  Free entry in 2 a wkly comp to win FA Cup fina...\n",
              "3   ham  U dun say so early hor... U c already then say...\n",
              "4   ham  Nah I don't think he goes to usf, he lives aro..."
            ]
          },
          "execution_count": 5,
          "metadata": {},
          "output_type": "execute_result"
        }
      ],
      "source": [
        "df.head()"
      ]
    },
    {
      "cell_type": "code",
      "execution_count": null,
      "id": "7bc335b4",
      "metadata": {
        "id": "7bc335b4",
        "outputId": "046a4c46-12c6-4fcd-a6ff-ad2c9251acef"
      },
      "outputs": [
        {
          "data": {
            "image/png": "[encoded data removed]",
            "text/plain": [
              "<Figure size 640x480 with 1 Axes>"
            ]
          },
          "metadata": {},
          "output_type": "display_data"
        }
      ],
      "source": [
        "sns.histplot(df.label)\n",
        "plt.title('Number of ham and spam emails')\n",
        "plt.show()"
      ]
    },
    {
      "cell_type": "markdown",
      "id": "a2bc1298",
      "metadata": {
        "id": "a2bc1298"
      },
      "source": [
        "Clearly, there is huge class imbalance in the given dataset."
      ]
    },
    {
      "cell_type": "code",
      "execution_count": null,
      "id": "9b2ffdf3",
      "metadata": {
        "id": "9b2ffdf3",
        "outputId": "bf65eb26-ad59-4177-c4cd-5be3f6de8a32"
      },
      "outputs": [
        {
          "data": {
            "text/plain": [
              "label\n",
              "ham     0.865937\n",
              "spam    0.134063\n",
              "Name: proportion, dtype: float64"
            ]
          },
          "execution_count": 7,
          "metadata": {},
          "output_type": "execute_result"
        }
      ],
      "source": [
        "df.label.value_counts(normalize=True)"
      ]
    },
    {
      "cell_type": "markdown",
      "id": "05feb918",
      "metadata": {
        "id": "05feb918"
      },
      "source": [
        "Clearly, the stratification works perfectly."
      ]
    },
    {
      "cell_type": "markdown",
      "id": "8852710b",
      "metadata": {
        "id": "8852710b"
      },
      "source": [
        "## Feature Engineering"
      ]
    },
    {
      "cell_type": "code",
      "execution_count": null,
      "id": "79ea7a22",
      "metadata": {
        "id": "79ea7a22",
        "outputId": "0036e369-aa67-435f-a400-44e5c0f868c4"
      },
      "outputs": [
        {
          "data": {
            "text/plain": [
              "<5572x8404 sparse matrix of type '<class 'numpy.int64'>'\n",
              "\twith 43478 stored elements in Compressed Sparse Row format>"
            ]
          },
          "execution_count": 8,
          "metadata": {},
          "output_type": "execute_result"
        }
      ],
      "source": [
        "#removing stop words\n",
        "from sklearn.feature_extraction import text\n",
        "\n",
        "f = text.CountVectorizer(stop_words='english')\n",
        "X = f.fit_transform(df['text'])\n",
        "X"
      ]
    },
    {
      "cell_type": "markdown",
      "id": "f26eaf02",
      "metadata": {
        "id": "f26eaf02"
      },
      "source": [
        "In this sparse matrix, 1 appears wherever the stop word `j` appears in the text `i`."
      ]
    },
    {
      "cell_type": "code",
      "execution_count": null,
      "id": "8e46e075",
      "metadata": {
        "id": "8e46e075"
      },
      "outputs": [],
      "source": [
        "y = df.label.apply(lambda x:0 if x=='ham' else 1)"
      ]
    },
    {
      "cell_type": "code",
      "execution_count": null,
      "id": "9b2a8a78",
      "metadata": {
        "id": "9b2a8a78"
      },
      "outputs": [],
      "source": [
        "from sklearn.model_selection import train_test_split\n",
        "\n",
        "X_train, X_test, y_train, y_test = train_test_split(X, y,\n",
        "                                                   stratify=y,\n",
        "                                                   test_size=0.2,\n",
        "                                                   random_state=42)"
      ]
    },
    {
      "cell_type": "code",
      "execution_count": null,
      "id": "872c2543",
      "metadata": {
        "id": "872c2543",
        "outputId": "bc0ef512-7458-423f-e9bb-38b19f72b44b"
      },
      "outputs": [
        {
          "data": {
            "text/plain": [
              "(label\n",
              " 0    0.865829\n",
              " 1    0.134171\n",
              " Name: proportion, dtype: float64,\n",
              " label\n",
              " 0    0.866368\n",
              " 1    0.133632\n",
              " Name: proportion, dtype: float64)"
            ]
          },
          "execution_count": 11,
          "metadata": {},
          "output_type": "execute_result"
        }
      ],
      "source": [
        "#let's see if stratification worked or not\n",
        "y_train.value_counts(normalize=True), y_test.value_counts(normalize=True)"
      ]
    },
    {
      "cell_type": "markdown",
      "id": "1315516c",
      "metadata": {
        "id": "1315516c"
      },
      "source": [
        "## Naive Bayes"
      ]
    },
    {
      "cell_type": "code",
      "execution_count": null,
      "id": "c3836fbe",
      "metadata": {
        "id": "c3836fbe"
      },
      "outputs": [],
      "source": [
        "from sklearn.naive_bayes import MultinomialNB\n",
        "\n",
        "#the default Laplace smoothing parameter is alpha=1\n",
        "nb = MultinomialNB()\n",
        "nb.fit(X_train, y_train)\n",
        "\n",
        "y_pred = nb.predict(X_test)"
      ]
    },
    {
      "cell_type": "code",
      "execution_count": null,
      "id": "19838589",
      "metadata": {
        "id": "19838589",
        "outputId": "75fd62f7-3a25-4027-c29a-502ff850f778"
      },
      "outputs": [
        {
          "data": {
            "text/plain": [
              "array([[952,  14],\n",
              "       [  7, 142]], dtype=int64)"
            ]
          },
          "execution_count": 13,
          "metadata": {},
          "output_type": "execute_result"
        }
      ],
      "source": [
        "from sklearn.metrics import confusion_matrix, fbeta_score\n",
        "\n",
        "confusion_matrix(y_test, y_pred)"
      ]
    },
    {
      "cell_type": "markdown",
      "id": "c05f5f79",
      "metadata": {
        "id": "c05f5f79"
      },
      "source": [
        "Since this is a spam filtering model, we want to focus more on the false positives which is why our chosen metric for evaluation will be F-beta score with beta<1 (for maximizing precision)."
      ]
    },
    {
      "cell_type": "code",
      "execution_count": null,
      "id": "1d1ba191",
      "metadata": {
        "id": "1d1ba191",
        "outputId": "78790349-aed1-4826-f200-a906066de893"
      },
      "outputs": [
        {
          "data": {
            "text/plain": [
              "0.9102564102564102"
            ]
          },
          "execution_count": 14,
          "metadata": {},
          "output_type": "execute_result"
        }
      ],
      "source": [
        "fbeta_score(y_test, y_pred, beta=0)"
      ]
    },
    {
      "cell_type": "markdown",
      "id": "fafe310a",
      "metadata": {
        "id": "fafe310a"
      },
      "source": [
        "## Hyperparameter Tuning"
      ]
    },
    {
      "cell_type": "code",
      "execution_count": null,
      "id": "b8354e43",
      "metadata": {
        "id": "b8354e43",
        "outputId": "a2cf2dc1-11d6-43cf-8677-da080a09176d"
      },
      "outputs": [
        {
          "data": {
            "text/html": [
              "<style>#sk-container-id-4 {color: black;}#sk-container-id-4 pre{padding: 0;}#sk-container-id-4 div.sk-toggleable {background-color: white;}#sk-container-id-4 label.sk-toggleable__label {cursor: pointer;display: block;width: 100%;margin-bottom: 0;padding: 0.3em;box-sizing: border-box;text-align: center;}#sk-container-id-4 label.sk-toggleable__label-arrow:before {content: \"▸\";float: left;margin-right: 0.25em;color: #696969;}#sk-container-id-4 label.sk-toggleable__label-arrow:hover:before {color: black;}#sk-container-id-4 div.sk-estimator:hover label.sk-toggleable__label-arrow:before {color: black;}#sk-container-id-4 div.sk-toggleable__content {max-height: 0;max-width: 0;overflow: hidden;text-align: left;background-color: #f0f8ff;}#sk-container-id-4 div.sk-toggleable__content pre {margin: 0.2em;color: black;border-radius: 0.25em;background-color: #f0f8ff;}#sk-container-id-4 input.sk-toggleable__control:checked~div.sk-toggleable__content {max-height: 200px;max-width: 100%;overflow: auto;}#sk-container-id-4 input.sk-toggleable__control:checked~label.sk-toggleable__label-arrow:before {content: \"▾\";}#sk-container-id-4 div.sk-estimator input.sk-toggleable__control:checked~label.sk-toggleable__label {background-color: #d4ebff;}#sk-container-id-4 div.sk-label input.sk-toggleable__control:checked~label.sk-toggleable__label {background-color: #d4ebff;}#sk-container-id-4 input.sk-hidden--visually {border: 0;clip: rect(1px 1px 1px 1px);clip: rect(1px, 1px, 1px, 1px);height: 1px;margin: -1px;overflow: hidden;padding: 0;position: absolute;width: 1px;}#sk-container-id-4 div.sk-estimator {font-family: monospace;background-color: #f0f8ff;border: 1px dotted black;border-radius: 0.25em;box-sizing: border-box;margin-bottom: 0.5em;}#sk-container-id-4 div.sk-estimator:hover {background-color: #d4ebff;}#sk-container-id-4 div.sk-parallel-item::after {content: \"\";width: 100%;border-bottom: 1px solid gray;flex-grow: 1;}#sk-container-id-4 div.sk-label:hover label.sk-toggleable__label {background-color: #d4ebff;}#sk-container-id-4 div.sk-serial::before {content: \"\";position: absolute;border-left: 1px solid gray;box-sizing: border-box;top: 0;bottom: 0;left: 50%;z-index: 0;}#sk-container-id-4 div.sk-serial {display: flex;flex-direction: column;align-items: center;background-color: white;padding-right: 0.2em;padding-left: 0.2em;position: relative;}#sk-container-id-4 div.sk-item {position: relative;z-index: 1;}#sk-container-id-4 div.sk-parallel {display: flex;align-items: stretch;justify-content: center;background-color: white;position: relative;}#sk-container-id-4 div.sk-item::before, #sk-container-id-4 div.sk-parallel-item::before {content: \"\";position: absolute;border-left: 1px solid gray;box-sizing: border-box;top: 0;bottom: 0;left: 50%;z-index: -1;}#sk-container-id-4 div.sk-parallel-item {display: flex;flex-direction: column;z-index: 1;position: relative;background-color: white;}#sk-container-id-4 div.sk-parallel-item:first-child::after {align-self: flex-end;width: 50%;}#sk-container-id-4 div.sk-parallel-item:last-child::after {align-self: flex-start;width: 50%;}#sk-container-id-4 div.sk-parallel-item:only-child::after {width: 0;}#sk-container-id-4 div.sk-dashed-wrapped {border: 1px dashed gray;margin: 0 0.4em 0.5em 0.4em;box-sizing: border-box;padding-bottom: 0.4em;background-color: white;}#sk-container-id-4 div.sk-label label {font-family: monospace;font-weight: bold;display: inline-block;line-height: 1.2em;}#sk-container-id-4 div.sk-label-container {text-align: center;}#sk-container-id-4 div.sk-container {/* jupyter's `normalize.less` sets `[hidden] { display: none; }` but bootstrap.min.css set `[hidden] { display: none !important; }` so we also need the `!important` here to be able to override the default hidden behavior on the sphinx rendered scikit-learn.org. See: https://github.com/scikit-learn/scikit-learn/issues/21755 */display: inline-block !important;position: relative;}#sk-container-id-4 div.sk-text-repr-fallback {display: none;}</style><div id=\"sk-container-id-4\" class=\"sk-top-container\"><div class=\"sk-text-repr-fallback\"><pre>GridSearchCV(cv=10, estimator=MultinomialNB(),\n",
              "             param_grid={&#x27;alpha&#x27;: array([ 0. ,  0.1,  0.2,  0.3,  0.4,  0.5,  0.6,  0.7,  0.8,  0.9,  1. ,\n",
              "        1.1,  1.2,  1.3,  1.4,  1.5,  1.6,  1.7,  1.8,  1.9,  2. ,  2.1,\n",
              "        2.2,  2.3,  2.4,  2.5,  2.6,  2.7,  2.8,  2.9,  3. ,  3.1,  3.2,\n",
              "        3.3,  3.4,  3.5,  3.6,  3.7,  3.8,  3.9,  4. ,  4.1,  4.2,  4.3,\n",
              "        4.4,  4.5,  4.6,  4.7,  4.8,  4.9,  5. ,  5.1,  5.2,  5.3,  5.4,\n",
              "        5.5,  5.6,  5.7,  5.8,  5.9,  6. ,  6.1,  6.2,  6.3,  6.4,  6.5,\n",
              "        6.6,  6.7,  6.8,  6.9,  7. ,  7....\n",
              "       14.3, 14.4, 14.5, 14.6, 14.7, 14.8, 14.9, 15. , 15.1, 15.2, 15.3,\n",
              "       15.4, 15.5, 15.6, 15.7, 15.8, 15.9, 16. , 16.1, 16.2, 16.3, 16.4,\n",
              "       16.5, 16.6, 16.7, 16.8, 16.9, 17. , 17.1, 17.2, 17.3, 17.4, 17.5,\n",
              "       17.6, 17.7, 17.8, 17.9, 18. , 18.1, 18.2, 18.3, 18.4, 18.5, 18.6,\n",
              "       18.7, 18.8, 18.9, 19. , 19.1, 19.2, 19.3, 19.4, 19.5, 19.6, 19.7,\n",
              "       19.8, 19.9])},\n",
              "             refit=&#x27;f1&#x27;,\n",
              "             scoring={&#x27;f0&#x27;: make_scorer(fbeta_score, beta=0),\n",
              "                      &#x27;f1&#x27;: make_scorer(fbeta_score, beta=1)})</pre><b>In a Jupyter environment, please rerun this cell to show the HTML representation or trust the notebook. <br />On GitHub, the HTML representation is unable to render, please try loading this page with nbviewer.org.</b></div><div class=\"sk-container\" hidden><div class=\"sk-item sk-dashed-wrapped\"><div class=\"sk-label-container\"><div class=\"sk-label sk-toggleable\"><input class=\"sk-toggleable__control sk-hidden--visually\" id=\"sk-estimator-id-10\" type=\"checkbox\" ><label for=\"sk-estimator-id-10\" class=\"sk-toggleable__label sk-toggleable__label-arrow\">GridSearchCV</label><div class=\"sk-toggleable__content\"><pre>GridSearchCV(cv=10, estimator=MultinomialNB(),\n",
              "             param_grid={&#x27;alpha&#x27;: array([ 0. ,  0.1,  0.2,  0.3,  0.4,  0.5,  0.6,  0.7,  0.8,  0.9,  1. ,\n",
              "        1.1,  1.2,  1.3,  1.4,  1.5,  1.6,  1.7,  1.8,  1.9,  2. ,  2.1,\n",
              "        2.2,  2.3,  2.4,  2.5,  2.6,  2.7,  2.8,  2.9,  3. ,  3.1,  3.2,\n",
              "        3.3,  3.4,  3.5,  3.6,  3.7,  3.8,  3.9,  4. ,  4.1,  4.2,  4.3,\n",
              "        4.4,  4.5,  4.6,  4.7,  4.8,  4.9,  5. ,  5.1,  5.2,  5.3,  5.4,\n",
              "        5.5,  5.6,  5.7,  5.8,  5.9,  6. ,  6.1,  6.2,  6.3,  6.4,  6.5,\n",
              "        6.6,  6.7,  6.8,  6.9,  7. ,  7....\n",
              "       14.3, 14.4, 14.5, 14.6, 14.7, 14.8, 14.9, 15. , 15.1, 15.2, 15.3,\n",
              "       15.4, 15.5, 15.6, 15.7, 15.8, 15.9, 16. , 16.1, 16.2, 16.3, 16.4,\n",
              "       16.5, 16.6, 16.7, 16.8, 16.9, 17. , 17.1, 17.2, 17.3, 17.4, 17.5,\n",
              "       17.6, 17.7, 17.8, 17.9, 18. , 18.1, 18.2, 18.3, 18.4, 18.5, 18.6,\n",
              "       18.7, 18.8, 18.9, 19. , 19.1, 19.2, 19.3, 19.4, 19.5, 19.6, 19.7,\n",
              "       19.8, 19.9])},\n",
              "             refit=&#x27;f1&#x27;,\n",
              "             scoring={&#x27;f0&#x27;: make_scorer(fbeta_score, beta=0),\n",
              "                      &#x27;f1&#x27;: make_scorer(fbeta_score, beta=1)})</pre></div></div></div><div class=\"sk-parallel\"><div class=\"sk-parallel-item\"><div class=\"sk-item\"><div class=\"sk-label-container\"><div class=\"sk-label sk-toggleable\"><input class=\"sk-toggleable__control sk-hidden--visually\" id=\"sk-estimator-id-11\" type=\"checkbox\" ><label for=\"sk-estimator-id-11\" class=\"sk-toggleable__label sk-toggleable__label-arrow\">estimator: MultinomialNB</label><div class=\"sk-toggleable__content\"><pre>MultinomialNB()</pre></div></div></div><div class=\"sk-serial\"><div class=\"sk-item\"><div class=\"sk-estimator sk-toggleable\"><input class=\"sk-toggleable__control sk-hidden--visually\" id=\"sk-estimator-id-12\" type=\"checkbox\" ><label for=\"sk-estimator-id-12\" class=\"sk-toggleable__label sk-toggleable__label-arrow\">MultinomialNB</label><div class=\"sk-toggleable__content\"><pre>MultinomialNB()</pre></div></div></div></div></div></div></div></div></div></div>"
            ],
            "text/plain": [
              "GridSearchCV(cv=10, estimator=MultinomialNB(),\n",
              "             param_grid={'alpha': array([ 0. ,  0.1,  0.2,  0.3,  0.4,  0.5,  0.6,  0.7,  0.8,  0.9,  1. ,\n",
              "        1.1,  1.2,  1.3,  1.4,  1.5,  1.6,  1.7,  1.8,  1.9,  2. ,  2.1,\n",
              "        2.2,  2.3,  2.4,  2.5,  2.6,  2.7,  2.8,  2.9,  3. ,  3.1,  3.2,\n",
              "        3.3,  3.4,  3.5,  3.6,  3.7,  3.8,  3.9,  4. ,  4.1,  4.2,  4.3,\n",
              "        4.4,  4.5,  4.6,  4.7,  4.8,  4.9,  5. ,  5.1,  5.2,  5.3,  5.4,\n",
              "        5.5,  5.6,  5.7,  5.8,  5.9,  6. ,  6.1,  6.2,  6.3,  6.4,  6.5,\n",
              "        6.6,  6.7,  6.8,  6.9,  7. ,  7....\n",
              "       14.3, 14.4, 14.5, 14.6, 14.7, 14.8, 14.9, 15. , 15.1, 15.2, 15.3,\n",
              "       15.4, 15.5, 15.6, 15.7, 15.8, 15.9, 16. , 16.1, 16.2, 16.3, 16.4,\n",
              "       16.5, 16.6, 16.7, 16.8, 16.9, 17. , 17.1, 17.2, 17.3, 17.4, 17.5,\n",
              "       17.6, 17.7, 17.8, 17.9, 18. , 18.1, 18.2, 18.3, 18.4, 18.5, 18.6,\n",
              "       18.7, 18.8, 18.9, 19. , 19.1, 19.2, 19.3, 19.4, 19.5, 19.6, 19.7,\n",
              "       19.8, 19.9])},\n",
              "             refit='f1',\n",
              "             scoring={'f0': make_scorer(fbeta_score, beta=0),\n",
              "                      'f1': make_scorer(fbeta_score, beta=1)})"
            ]
          },
          "execution_count": 44,
          "metadata": {},
          "output_type": "execute_result"
        }
      ],
      "source": [
        "from sklearn.model_selection import GridSearchCV\n",
        "from sklearn.metrics import make_scorer\n",
        "\n",
        "nb=MultinomialNB()\n",
        "grid = GridSearchCV(estimator=nb,\n",
        "                    param_grid={'alpha':np.arange(0, 20, 0.1)},\n",
        "                    scoring={'f0':make_scorer(fbeta_score, beta=0),\n",
        "                             'f1':make_scorer(fbeta_score, beta=1)},\n",
        "                    cv=10,\n",
        "                    verbose=0,\n",
        "                    refit='f1') #we're minimizing the false positives without completely neglecting the false negatives\n",
        "\n",
        "grid.fit(X_train, y_train)"
      ]
    },
    {
      "cell_type": "code",
      "execution_count": null,
      "id": "190fb83b",
      "metadata": {
        "id": "190fb83b",
        "outputId": "8169aaf7-9631-4518-e51f-87d06dad2de6"
      },
      "outputs": [
        {
          "data": {
            "text/plain": [
              "{'alpha': 3.1}"
            ]
          },
          "execution_count": 45,
          "metadata": {},
          "output_type": "execute_result"
        }
      ],
      "source": [
        "grid.best_params_"
      ]
    },
    {
      "cell_type": "code",
      "execution_count": null,
      "id": "e0879c61",
      "metadata": {
        "id": "e0879c61"
      },
      "outputs": [],
      "source": [
        "#training naive bayes with best_params_\n",
        "nb_best = MultinomialNB(alpha=3.1)\n",
        "\n",
        "nb_best.fit(X_train, y_train)\n",
        "\n",
        "y_pred_best = nb_best.predict(X_test)"
      ]
    },
    {
      "cell_type": "code",
      "execution_count": null,
      "id": "54508ad0",
      "metadata": {
        "id": "54508ad0",
        "outputId": "a9d0b9b9-8d4a-49ef-ee82-3911231ac0bc"
      },
      "outputs": [
        {
          "data": {
            "text/plain": [
              "0.9513888888888888"
            ]
          },
          "execution_count": 32,
          "metadata": {},
          "output_type": "execute_result"
        }
      ],
      "source": [
        "fbeta_score(y_test, y_pred_best, beta=0)"
      ]
    },
    {
      "cell_type": "code",
      "execution_count": null,
      "id": "a0b455f9",
      "metadata": {
        "id": "a0b455f9",
        "outputId": "3b6fa1c5-9ce4-4799-ae0a-0b974400fb1b"
      },
      "outputs": [
        {
          "data": {
            "image/png": "[encoded data removed]",
            "text/plain": [
              "<Figure size 640x480 with 2 Axes>"
            ]
          },
          "metadata": {},
          "output_type": "display_data"
        }
      ],
      "source": [
        "sns.heatmap(confusion_matrix(y_test, y_pred_best),\n",
        "            annot=True,\n",
        "            cmap='Blues')\n",
        "plt.title('Confusion Matrix')\n",
        "plt.show()"
      ]
    },
    {
      "cell_type": "markdown",
      "id": "2b9aef6e",
      "metadata": {
        "id": "2b9aef6e"
      },
      "source": [
        "We have therefore minimized the false positives while keeping false negatives to a minimum.\n",
        "\n",
        "Note - If we set `refit` to `f0`, we could've eliminated false positives completely but that model would've had very less recall."
      ]
    },
    {
      "cell_type": "markdown",
      "id": "4877004d",
      "metadata": {
        "id": "4877004d"
      },
      "source": [
        "## Plotting the ROC Curve"
      ]
    },
    {
      "cell_type": "code",
      "execution_count": null,
      "id": "fa610d7d",
      "metadata": {
        "id": "fa610d7d",
        "outputId": "f28369a2-e953-4ea5-b022-753cc0da7c5b"
      },
      "outputs": [
        {
          "data": {
            "image/png": "[encoded data removed]",
            "text/plain": [
              "<Figure size 640x480 with 1 Axes>"
            ]
          },
          "metadata": {},
          "output_type": "display_data"
        }
      ],
      "source": [
        "from sklearn.metrics import roc_curve, roc_auc_score\n",
        "\n",
        "fpr, tpr, threshold = roc_curve(y_test, nb_best.predict_proba(X_test)[:,1])\n",
        "\n",
        "plt.plot(fpr, tpr, color='#00008B')\n",
        "plt.plot([0, 1], [0, 1],'r--')\n",
        "plt.xlabel('False Positive Rate')\n",
        "plt.ylabel('True Positive Rate')\n",
        "plt.title('Reciever Operating Characteristic')\n",
        "plt.show()"
      ]
    },
    {
      "cell_type": "markdown",
      "id": "ebcc5457",
      "metadata": {
        "id": "ebcc5457"
      },
      "source": [
        "From the ROC curve, we can find the threshold that minimizes the False Positive Rate and maximizes the True Positive Rate."
      ]
    },
    {
      "cell_type": "markdown",
      "id": "19de46b4",
      "metadata": {
        "id": "19de46b4"
      },
      "source": [
        "## Plotting the Precision-Recall Curve"
      ]
    },
    {
      "cell_type": "code",
      "execution_count": null,
      "id": "be809fc4",
      "metadata": {
        "id": "be809fc4",
        "outputId": "254279bc-feab-4727-cd41-da6921746559"
      },
      "outputs": [
        {
          "data": {
            "image/png": "[encoded data removed]",
            "text/plain": [
              "<Figure size 640x480 with 1 Axes>"
            ]
          },
          "metadata": {},
          "output_type": "display_data"
        }
      ],
      "source": [
        "from sklearn.metrics import precision_recall_curve\n",
        "\n",
        "precision, recall, threshold = precision_recall_curve(y_test, nb_best.predict_proba(X_test)[:,1])\n",
        "plt.plot(recall, precision, color='#00008B')\n",
        "plt.xlabel('Recall')\n",
        "plt.ylabel('Precision')\n",
        "plt.title('Precision v/s Recall')\n",
        "plt.show()"
      ]
    },
    {
      "cell_type": "markdown",
      "id": "169d29d1",
      "metadata": {
        "id": "169d29d1"
      },
      "source": [
        "For email spam detection, we have seen previously that our motive is to maximize precision."
      ]
    },
    {
      "cell_type": "markdown",
      "id": "caf57bc4",
      "metadata": {
        "id": "caf57bc4"
      },
      "source": [
        "## Feature Importance Graph"
      ]
    },
    {
      "cell_type": "code",
      "execution_count": null,
      "id": "20396f09",
      "metadata": {
        "id": "20396f09",
        "outputId": "0537b42d-610b-4828-94cb-5eb67a965b52"
      },
      "outputs": [
        {
          "data": {
            "text/plain": [
              "array(['00', '000', '000pes', ..., 'ûïharry', 'ûò', 'ûówell'],\n",
              "      dtype=object)"
            ]
          },
          "execution_count": 36,
          "metadata": {},
          "output_type": "execute_result"
        }
      ],
      "source": [
        "#getting the feature names\n",
        "feature_names = f.get_feature_names_out()\n",
        "feature_names"
      ]
    },
    {
      "cell_type": "code",
      "execution_count": null,
      "id": "7f3913c6",
      "metadata": {
        "id": "7f3913c6"
      },
      "outputs": [],
      "source": [
        "#making a dictionary of words with feature importances\n",
        "feature_dict = dict(zip(feature_names, nb_best.feature_log_prob_[1]))"
      ]
    },
    {
      "cell_type": "code",
      "execution_count": null,
      "id": "55ee0a4a",
      "metadata": {
        "id": "55ee0a4a",
        "outputId": "89be9a96-3d2d-4ab4-cf53-b6fadf56e3f3"
      },
      "outputs": [
        {
          "data": {
            "text/plain": [
              "[('free', -5.268617975505726),\n",
              " ('txt', -5.56526051752877),\n",
              " ('ur', -5.682033776627144),\n",
              " ('stop', -5.882520985850248),\n",
              " ('text', -5.882520985850248),\n",
              " ('claim', -5.902909051888911),\n",
              " ('mobile', -5.9557754839249295),\n",
              " ('reply', -6.0001778942440565),\n",
              " ('www', -6.046643860207288),\n",
              " ('prize', -6.228727633145646),\n",
              " ('cash', -6.257673214030723),\n",
              " ('uk', -6.28748168032855),\n",
              " ('won', -6.3182060632595665),\n",
              " ('just', -6.3499044382467575),\n",
              " ('new', -6.416484763328325),\n",
              " ('send', -6.416484763328325),\n",
              " ('150p', -6.433846310524226),\n",
              " ('win', -6.4515146146575395),\n",
              " ('urgent', -6.4695007110273215),\n",
              " ('nokia', -6.487816241333755)]"
            ]
          },
          "execution_count": 38,
          "metadata": {},
          "output_type": "execute_result"
        }
      ],
      "source": [
        "#getting the top 20 features\n",
        "top_twenty = sorted(feature_dict.items(), key=lambda x: x[1], reverse=True)[:20]\n",
        "top_twenty"
      ]
    },
    {
      "cell_type": "code",
      "execution_count": null,
      "id": "c07b7bdf",
      "metadata": {
        "id": "c07b7bdf",
        "outputId": "495ca1ee-6ec8-4e80-bfb2-476c6bdb1f67"
      },
      "outputs": [
        {
          "data": {
            "image/png": "[encoded data removed]",
            "text/plain": [
              "<Figure size 1200x800 with 1 Axes>"
            ]
          },
          "metadata": {},
          "output_type": "display_data"
        }
      ],
      "source": [
        "#plotting the important features\n",
        "plt.figure(figsize=(12, 8))\n",
        "sns.barplot(y=[1/np.abs(i[1]) for i in top_twenty], x=[i[0] for i in top_twenty])\n",
        "plt.xlabel('Words')\n",
        "plt.ylabel('Importance in classifying a message as spam')\n",
        "plt.title('Feature Importance (Top 20)')\n",
        "plt.show()"
      ]
    },
    {
      "cell_type": "markdown",
      "id": "3c0d033a",
      "metadata": {
        "id": "3c0d033a"
      },
      "source": [
        "## Model Evaluation Metrics"
      ]
    },
    {
      "cell_type": "code",
      "execution_count": null,
      "id": "df97928f",
      "metadata": {
        "id": "df97928f",
        "outputId": "8b5fe50d-0326-4885-c39a-d458af0cfa31"
      },
      "outputs": [
        {
          "name": "stdout",
          "output_type": "stream",
          "text": [
            "For the given dataset, the accuracy score using the trained model is 0.9829596412556054\n",
            "For the given dataset, the precision score using the trained model is 0.9513888888888888\n",
            "For the given dataset, the recall score using the trained model is 0.9194630872483222\n",
            "For the given dataset, the roc_auc score using the trained model is 0.956108355218364\n"
          ]
        }
      ],
      "source": [
        "from sklearn.metrics import accuracy_score, precision_score, recall_score, roc_auc_score\n",
        "\n",
        "metrics = [\n",
        "    accuracy_score(y_test, y_pred_best),\n",
        "    precision_score(y_test, y_pred_best),\n",
        "    recall_score(y_test, y_pred_best),\n",
        "    roc_auc_score(y_test, y_pred_best)\n",
        "]\n",
        "\n",
        "metrics_it = iter(metrics)\n",
        "metric_names = ['accuracy', 'precision', 'recall', 'roc_auc']\n",
        "\n",
        "for _ in metric_names:\n",
        "    print(f'For the given dataset, the {_} score using the trained model is {next(metrics_it)}')"
      ]
    },
    {
      "cell_type": "code",
      "execution_count": null,
      "id": "4260d4d8",
      "metadata": {
        "id": "4260d4d8",
        "outputId": "2f4c72f7-4eb8-4d28-d0c4-513339b0d715"
      },
      "outputs": [
        {
          "data": {
            "image/png": "[encoded data removed]",
            "text/plain": [
              "<Figure size 640x480 with 1 Axes>"
            ]
          },
          "metadata": {},
          "output_type": "display_data"
        }
      ],
      "source": [
        "#plotting the same\n",
        "sns.set_palette('viridis')\n",
        "sns.barplot(y=metrics, x=metric_names)\n",
        "plt.xlabel('Metrics')\n",
        "plt.ylabel('Value')\n",
        "plt.title('Values of different metrics')\n",
        "plt.show()"
      ]
    },
    {
      "cell_type": "markdown",
      "id": "0220ff1a",
      "metadata": {
        "id": "0220ff1a"
      },
      "source": [
        "## Threshold Selection Graph\n",
        "\n",
        "This section is not valid for Naive Bayes as there is no threshold.\n",
        "\n",
        "\n"
      ]
    },
    {
      "cell_type": "code",
      "source": [],
      "metadata": {
        "id": "4IrFQ_QoUW27"
      },
      "id": "4IrFQ_QoUW27",
      "execution_count": null,
      "outputs": []
    }
  ],
  "metadata": {
    "kernelspec": {
      "display_name": "Python 3 (ipykernel)",
      "language": "python",
      "name": "python3"
    },
    "language_info": {
      "codemirror_mode": {
        "name": "ipython",
        "version": 3
      },
      "file_extension": ".py",
      "mimetype": "text/x-python",
      "name": "python",
      "nbconvert_exporter": "python",
      "pygments_lexer": "ipython3",
      "version": "3.11.3"
    },
    "colab": {
      "provenance": [],
      "include_colab_link": true
    }
  },
  "nbformat": 4,
  "nbformat_minor": 5
}