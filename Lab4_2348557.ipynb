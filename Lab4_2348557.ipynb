{
  "nbformat": 4,
  "nbformat_minor": 0,
  "metadata": {
    "colab": {
      "provenance": [],
      "authorship_tag": "ABX9TyN9u/mVaw4yub3ClToLLhtL",
      "include_colab_link": true
    },
    "kernelspec": {
      "name": "python3",
      "display_name": "Python 3"
    },
    "language_info": {
      "name": "python"
    }
  },
  "cells": [
    {
      "cell_type": "markdown",
      "metadata": {
        "id": "view-in-github",
        "colab_type": "text"
      },
      "source": [
        "<a href=\"https://colab.research.google.com/github/shilpeemaitra/Lab/blob/main/Lab4_2348557.ipynb\" target=\"_parent\"><img src=\"https://colab.research.google.com/assets/colab-badge.svg\" alt=\"Open In Colab\"/></a>"
      ]
    },
    {
      "cell_type": "code",
      "execution_count": null,
      "metadata": {
        "id": "QsgPF_Z7KHw1"
      },
      "outputs": [],
      "source": [
        "#importing necessary libraries\n",
        "import pandas as pd\n",
        "import numpy as np\n",
        "import matplotlib.pyplot as plt\n",
        "import time\n",
        "import threading\n",
        "import warnings\n",
        "warnings.filterwarnings('ignore')\n",
        "from mlxtend.frequent_patterns import apriori\n",
        "from mlxtend.frequent_patterns import fpgrowth\n",
        "from mlxtend.frequent_patterns import association_rules"
      ]
    },
    {
      "cell_type": "code",
      "source": [
        "#loading the data set\n",
        "data=pd.read_csv('/content/Groceries_dataset.csv')\n",
        "data.head()"
      ],
      "metadata": {
        "id": "aa48mRcqKz7w"
      },
      "execution_count": null,
      "outputs": []
    },
    {
      "cell_type": "code",
      "source": [
        "#creating new column and assigning value 1 to every row\n",
        "data['Quantity']=1"
      ],
      "metadata": {
        "id": "MsK2oHPvK9ru"
      },
      "execution_count": null,
      "outputs": []
    },
    {
      "cell_type": "code",
      "source": [
        "#creating new dataframe with distinct items as columns and memeber number as rows\n",
        "transactions=data.groupby(['Member_number','itemDescription'])['Quantity'].sum().unstack().reset_index().set_index('Member_number')"
      ],
      "metadata": {
        "id": "s9kGM_nRK-RS"
      },
      "execution_count": null,
      "outputs": []
    },
    {
      "cell_type": "code",
      "source": [
        "#assigning 0 to all null values\n",
        "transactions=transactions.fillna(0)"
      ],
      "metadata": {
        "id": "tYTvHTM_LDdK"
      },
      "execution_count": null,
      "outputs": []
    },
    {
      "cell_type": "code",
      "source": [
        "#converting the dataframe into 0s and 1s\n",
        "def encode(x):\n",
        "  if x<=0:\n",
        "    return 0\n",
        "  elif x>=0:\n",
        "    return 1\n",
        "transactionsdf=transactions.applymap(encode)"
      ],
      "metadata": {
        "id": "pADx9F7PO_1J"
      },
      "execution_count": null,
      "outputs": []
    },
    {
      "cell_type": "code",
      "source": [],
      "metadata": {
        "id": "FYSnRY3mPAM8"
      },
      "execution_count": null,
      "outputs": []
    },
    {
      "cell_type": "code",
      "source": [
        "#initializing the event object for inter-thread communication\n",
        "aprioricompleted=threading.Event()\n",
        "fpcompleted=threading.Event()"
      ],
      "metadata": {
        "id": "eD74LGPHprPX"
      },
      "execution_count": null,
      "outputs": []
    },
    {
      "cell_type": "code",
      "source": [
        "#setting execution time for both algorithms as 0\n",
        "executiontime=[0,0]"
      ],
      "metadata": {
        "id": "q-dccxdVPDDA"
      },
      "execution_count": null,
      "outputs": []
    },
    {
      "cell_type": "code",
      "source": [
        "#creating a function to execute apriori algorithm with used input values and displaying the best choices\n",
        "def runapi(support,confidence):\n",
        "  stime=time.time()\n",
        "  aprioriresults=apriori(transactionsdf,min_support=support,use_colnames=True)\n",
        "  rules=association_rules(aprioriresults,metric='confidence',min_threshold=confidence)\n",
        "  bestchoice=rules.sort_values(by='lift',ascending=False)\n",
        "  print(\"According to Apriori Best choices are\")\n",
        "  print(bestchoice[['antecedents','consequents','lift']][:10])\n",
        "#storing the time taken by apriori to complete the execution\n",
        "  executiontime[0]=time.time()-stime\n",
        "#sets the internal flag to true, awakening all the waiting threads.\n",
        "  aprioricompleted.set()"
      ],
      "metadata": {
        "id": "Eymvux_9PFfx"
      },
      "execution_count": null,
      "outputs": []
    },
    {
      "cell_type": "code",
      "source": [
        "#creating a function to execute apriori algorithm with used input values and displaying the best choices\n",
        "def runfp(support,confidence):\n",
        "  stime=time.time()\n",
        "  fpresults=fpgrowth(transactionsdf,min_support=support,use_colnames=True)\n",
        "  rules=association_rules(fpresults,metric='confidence',min_threshold=confidence)\n",
        "  bestchoice=rules.sort_values(by='lift',ascending=False)\n",
        "  print(\"According to FP Growth Best choices are\")\n",
        "  print(bestchoice[['antecedents','consequents','lift']][:10])\n",
        "  #storing the time taken by apriori to complete the execution\n",
        "  executiontime[1]=time.time()-stime\n",
        "  #sets the internal flag to true, awakening all the waiting threads.\n",
        "  fpcompleted.set()"
      ],
      "metadata": {
        "id": "2Dn5MKjePH76"
      },
      "execution_count": null,
      "outputs": []
    },
    {
      "cell_type": "code",
      "source": [
        "#user input for support and confidence and calling both the functions\n",
        "support=float(input(\"Enter minimum support: \"))\n",
        "confidence=float(input(\"Enter confidence threshold: \"))\n",
        "apithread=threading.Thread(target=runapi(support,confidence))\n",
        "fpthread=threading.Thread(target=runfp(support,confidence))"
      ],
      "metadata": {
        "id": "HtSvhAYZPJ8K"
      },
      "execution_count": null,
      "outputs": []
    },
    {
      "cell_type": "code",
      "source": [
        "#starting the thread\n",
        "apithread.start()\n",
        "fpthread.start()\n",
        "#making thread wait until the execution of set() is not done\n",
        "aprioricompleted.wait()\n",
        "fpcompleted.wait()\n",
        "#blocking the calling thread until the thread object gets terminated\n",
        "apithread.join()\n",
        "fpthread.join()"
      ],
      "metadata": {
        "id": "N87fWLxjQckL"
      },
      "execution_count": null,
      "outputs": []
    },
    {
      "cell_type": "code",
      "source": [
        "#plotting the results of both the algorithms and deciding the best fit\n",
        "algorithms=['Apriori','FP Growth']\n",
        "plt.bar(algorithms,executiontime)\n",
        "plt.xlabel('Algorithms')\n",
        "plt.ylabel('Execution Time')\n",
        "plt.title('Apriori vs FP_Growth')\n",
        "plt.show()\n",
        "if executiontime[0]<executiontime[1]:\n",
        "  print(\"Apriori is faster\")\n",
        "elif executiontime[0]>executiontime[1]:\n",
        "  print(\"FP_Growth is faster\")\n",
        "else:\n",
        "  print(\"Both are equal\")"
      ],
      "metadata": {
        "id": "ItnbSWU_RL1_"
      },
      "execution_count": null,
      "outputs": []
    },
    {
      "cell_type": "code",
      "source": [],
      "metadata": {
        "id": "Gmw4XIGjRdce"
      },
      "execution_count": null,
      "outputs": []
    }
  ]
}