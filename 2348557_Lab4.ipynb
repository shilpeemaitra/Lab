{
  "nbformat": 4,
  "nbformat_minor": 0,
  "metadata": {
    "colab": {
      "provenance": [],
      "authorship_tag": "ABX9TyMuR+hHv4NVoxNuocb47GaD",
      "include_colab_link": true
    },
    "kernelspec": {
      "name": "python3",
      "display_name": "Python 3"
    },
    "language_info": {
      "name": "python"
    }
  },
  "cells": [
    {
      "cell_type": "markdown",
      "metadata": {
        "id": "view-in-github",
        "colab_type": "text"
      },
      "source": [
        "<a href=\"https://colab.research.google.com/github/shilpeemaitra/Lab/blob/main/2348557_Lab4.ipynb\" target=\"_parent\"><img src=\"https://colab.research.google.com/assets/colab-badge.svg\" alt=\"Open In Colab\"/></a>"
      ]
    },
    {
      "cell_type": "code",
      "execution_count": 3,
      "metadata": {
        "id": "QsgPF_Z7KHw1",
        "colab": {
          "base_uri": "https://localhost:8080/"
        },
        "outputId": "7a44889b-ec7e-49ba-cdfb-3df9802c6ebf"
      },
      "outputs": [
        {
          "output_type": "stream",
          "name": "stderr",
          "text": [
            "/usr/local/lib/python3.10/dist-packages/ipykernel/ipkernel.py:283: DeprecationWarning: `should_run_async` will not call `transform_cell` automatically in the future. Please pass the result to `transformed_cell` argument and any exception that happen during thetransform in `preprocessing_exc_tuple` in IPython 7.17 and above.\n",
            "  and should_run_async(code)\n"
          ]
        }
      ],
      "source": [
        "#importing necessary libraries\n",
        "import pandas as pd\n",
        "import numpy as np\n",
        "import matplotlib.pyplot as plt\n",
        "import time\n",
        "import threading\n",
        "import warnings\n",
        "warnings.filterwarnings('ignore')\n",
        "from mlxtend.frequent_patterns import apriori\n",
        "from mlxtend.frequent_patterns import fpgrowth\n",
        "from mlxtend.frequent_patterns import association_rules"
      ]
    },
    {
      "cell_type": "code",
      "source": [
        "#loading the data set\n",
        "data=pd.read_csv('/content/Groceries_dataset.csv')\n",
        "data.head()"
      ],
      "metadata": {
        "id": "aa48mRcqKz7w",
        "colab": {
          "base_uri": "https://localhost:8080/",
          "height": 206
        },
        "outputId": "6164a7bf-b093-4919-cb0a-2be89474ea38"
      },
      "execution_count": 4,
      "outputs": [
        {
          "output_type": "execute_result",
          "data": {
            "text/plain": [
              "   Member_number        Date   itemDescription\n",
              "0           1808  21-07-2015    tropical fruit\n",
              "1           2552  05-01-2015        whole milk\n",
              "2           2300  19-09-2015         pip fruit\n",
              "3           1187  12-12-2015  other vegetables\n",
              "4           3037  01-02-2015        whole milk"
            ],
            "text/html": [
              "\n",
              "  <div id=\"df-6fcdb716-ef29-41d7-a0fe-a57893b93e65\" class=\"colab-df-container\">\n",
              "    <div>\n",
              "<style scoped>\n",
              "    .dataframe tbody tr th:only-of-type {\n",
              "        vertical-align: middle;\n",
              "    }\n",
              "\n",
              "    .dataframe tbody tr th {\n",
              "        vertical-align: top;\n",
              "    }\n",
              "\n",
              "    .dataframe thead th {\n",
              "        text-align: right;\n",
              "    }\n",
              "</style>\n",
              "<table border=\"1\" class=\"dataframe\">\n",
              "  <thead>\n",
              "    <tr style=\"text-align: right;\">\n",
              "      <th></th>\n",
              "      <th>Member_number</th>\n",
              "      <th>Date</th>\n",
              "      <th>itemDescription</th>\n",
              "    </tr>\n",
              "  </thead>\n",
              "  <tbody>\n",
              "    <tr>\n",
              "      <th>0</th>\n",
              "      <td>1808</td>\n",
              "      <td>21-07-2015</td>\n",
              "      <td>tropical fruit</td>\n",
              "    </tr>\n",
              "    <tr>\n",
              "      <th>1</th>\n",
              "      <td>2552</td>\n",
              "      <td>05-01-2015</td>\n",
              "      <td>whole milk</td>\n",
              "    </tr>\n",
              "    <tr>\n",
              "      <th>2</th>\n",
              "      <td>2300</td>\n",
              "      <td>19-09-2015</td>\n",
              "      <td>pip fruit</td>\n",
              "    </tr>\n",
              "    <tr>\n",
              "      <th>3</th>\n",
              "      <td>1187</td>\n",
              "      <td>12-12-2015</td>\n",
              "      <td>other vegetables</td>\n",
              "    </tr>\n",
              "    <tr>\n",
              "      <th>4</th>\n",
              "      <td>3037</td>\n",
              "      <td>01-02-2015</td>\n",
              "      <td>whole milk</td>\n",
              "    </tr>\n",
              "  </tbody>\n",
              "</table>\n",
              "</div>\n",
              "    <div class=\"colab-df-buttons\">\n",
              "\n",
              "  <div class=\"colab-df-container\">\n",
              "    <button class=\"colab-df-convert\" onclick=\"convertToInteractive('df-6fcdb716-ef29-41d7-a0fe-a57893b93e65')\"\n",
              "            title=\"Convert this dataframe to an interactive table.\"\n",
              "            style=\"display:none;\">\n",
              "\n",
              "  <svg xmlns=\"http://www.w3.org/2000/svg\" height=\"24px\" viewBox=\"0 -960 960 960\">\n",
              "    <path d=\"M120-120v-720h720v720H120Zm60-500h600v-160H180v160Zm220 220h160v-160H400v160Zm0 220h160v-160H400v160ZM180-400h160v-160H180v160Zm440 0h160v-160H620v160ZM180-180h160v-160H180v160Zm440 0h160v-160H620v160Z\"/>\n",
              "  </svg>\n",
              "    </button>\n",
              "\n",
              "  <style>\n",
              "    .colab-df-container {\n",
              "      display:flex;\n",
              "      gap: 12px;\n",
              "    }\n",
              "\n",
              "    .colab-df-convert {\n",
              "      background-color: #E8F0FE;\n",
              "      border: none;\n",
              "      border-radius: 50%;\n",
              "      cursor: pointer;\n",
              "      display: none;\n",
              "      fill: #1967D2;\n",
              "      height: 32px;\n",
              "      padding: 0 0 0 0;\n",
              "      width: 32px;\n",
              "    }\n",
              "\n",
              "    .colab-df-convert:hover {\n",
              "      background-color: #E2EBFA;\n",
              "      box-shadow: 0px 1px 2px rgba(60, 64, 67, 0.3), 0px 1px 3px 1px rgba(60, 64, 67, 0.15);\n",
              "      fill: #174EA6;\n",
              "    }\n",
              "\n",
              "    .colab-df-buttons div {\n",
              "      margin-bottom: 4px;\n",
              "    }\n",
              "\n",
              "    [theme=dark] .colab-df-convert {\n",
              "      background-color: #3B4455;\n",
              "      fill: #D2E3FC;\n",
              "    }\n",
              "\n",
              "    [theme=dark] .colab-df-convert:hover {\n",
              "      background-color: #434B5C;\n",
              "      box-shadow: 0px 1px 3px 1px rgba(0, 0, 0, 0.15);\n",
              "      filter: drop-shadow(0px 1px 2px rgba(0, 0, 0, 0.3));\n",
              "      fill: #FFFFFF;\n",
              "    }\n",
              "  </style>\n",
              "\n",
              "    <script>\n",
              "      const buttonEl =\n",
              "        document.querySelector('#df-6fcdb716-ef29-41d7-a0fe-a57893b93e65 button.colab-df-convert');\n",
              "      buttonEl.style.display =\n",
              "        google.colab.kernel.accessAllowed ? 'block' : 'none';\n",
              "\n",
              "      async function convertToInteractive(key) {\n",
              "        const element = document.querySelector('#df-6fcdb716-ef29-41d7-a0fe-a57893b93e65');\n",
              "        const dataTable =\n",
              "          await google.colab.kernel.invokeFunction('convertToInteractive',\n",
              "                                                    [key], {});\n",
              "        if (!dataTable) return;\n",
              "\n",
              "        const docLinkHtml = 'Like what you see? Visit the ' +\n",
              "          '<a target=\"_blank\" href=https://colab.research.google.com/notebooks/data_table.ipynb>data table notebook</a>'\n",
              "          + ' to learn more about interactive tables.';\n",
              "        element.innerHTML = '';\n",
              "        dataTable['output_type'] = 'display_data';\n",
              "        await google.colab.output.renderOutput(dataTable, element);\n",
              "        const docLink = document.createElement('div');\n",
              "        docLink.innerHTML = docLinkHtml;\n",
              "        element.appendChild(docLink);\n",
              "      }\n",
              "    </script>\n",
              "  </div>\n",
              "\n",
              "\n",
              "<div id=\"df-4942061a-b677-4e8a-8725-399ab06c1943\">\n",
              "  <button class=\"colab-df-quickchart\" onclick=\"quickchart('df-4942061a-b677-4e8a-8725-399ab06c1943')\"\n",
              "            title=\"Suggest charts.\"\n",
              "            style=\"display:none;\">\n",
              "\n",
              "<svg xmlns=\"http://www.w3.org/2000/svg\" height=\"24px\"viewBox=\"0 0 24 24\"\n",
              "     width=\"24px\">\n",
              "    <g>\n",
              "        <path d=\"M19 3H5c-1.1 0-2 .9-2 2v14c0 1.1.9 2 2 2h14c1.1 0 2-.9 2-2V5c0-1.1-.9-2-2-2zM9 17H7v-7h2v7zm4 0h-2V7h2v10zm4 0h-2v-4h2v4z\"/>\n",
              "    </g>\n",
              "</svg>\n",
              "  </button>\n",
              "\n",
              "<style>\n",
              "  .colab-df-quickchart {\n",
              "    background-color: #E8F0FE;\n",
              "    border: none;\n",
              "    border-radius: 50%;\n",
              "    cursor: pointer;\n",
              "    display: none;\n",
              "    fill: #1967D2;\n",
              "    height: 32px;\n",
              "    padding: 0 0 0 0;\n",
              "    width: 32px;\n",
              "  }\n",
              "\n",
              "  .colab-df-quickchart:hover {\n",
              "    background-color: #E2EBFA;\n",
              "    box-shadow: 0px 1px 2px rgba(60, 64, 67, 0.3), 0px 1px 3px 1px rgba(60, 64, 67, 0.15);\n",
              "    fill: #174EA6;\n",
              "  }\n",
              "\n",
              "  [theme=dark] .colab-df-quickchart {\n",
              "    background-color: #3B4455;\n",
              "    fill: #D2E3FC;\n",
              "  }\n",
              "\n",
              "  [theme=dark] .colab-df-quickchart:hover {\n",
              "    background-color: #434B5C;\n",
              "    box-shadow: 0px 1px 3px 1px rgba(0, 0, 0, 0.15);\n",
              "    filter: drop-shadow(0px 1px 2px rgba(0, 0, 0, 0.3));\n",
              "    fill: #FFFFFF;\n",
              "  }\n",
              "</style>\n",
              "\n",
              "  <script>\n",
              "    async function quickchart(key) {\n",
              "      const charts = await google.colab.kernel.invokeFunction(\n",
              "          'suggestCharts', [key], {});\n",
              "    }\n",
              "    (() => {\n",
              "      let quickchartButtonEl =\n",
              "        document.querySelector('#df-4942061a-b677-4e8a-8725-399ab06c1943 button');\n",
              "      quickchartButtonEl.style.display =\n",
              "        google.colab.kernel.accessAllowed ? 'block' : 'none';\n",
              "    })();\n",
              "  </script>\n",
              "</div>\n",
              "    </div>\n",
              "  </div>\n"
            ]
          },
          "metadata": {},
          "execution_count": 4
        }
      ]
    },
    {
      "cell_type": "code",
      "source": [
        "#creating new column and assigning value 1 to every row\n",
        "data['Quantity']=1"
      ],
      "metadata": {
        "id": "MsK2oHPvK9ru"
      },
      "execution_count": 5,
      "outputs": []
    },
    {
      "cell_type": "code",
      "source": [
        "#creating new dataframe with distinct items as columns and memeber number as rows\n",
        "transactions=data.groupby(['Member_number','itemDescription'])['Quantity'].sum().unstack().reset_index().set_index('Member_number')"
      ],
      "metadata": {
        "id": "s9kGM_nRK-RS"
      },
      "execution_count": 6,
      "outputs": []
    },
    {
      "cell_type": "code",
      "source": [
        "#assigning 0 to all null values\n",
        "transactions=transactions.fillna(0)"
      ],
      "metadata": {
        "id": "tYTvHTM_LDdK"
      },
      "execution_count": 7,
      "outputs": []
    },
    {
      "cell_type": "code",
      "source": [
        "#converting the dataframe into 0s and 1s\n",
        "def encode(x):\n",
        "  if x<=0:\n",
        "    return 0\n",
        "  elif x>=0:\n",
        "    return 1\n",
        "transactionsdf=transactions.applymap(encode)"
      ],
      "metadata": {
        "id": "pADx9F7PO_1J"
      },
      "execution_count": 8,
      "outputs": []
    },
    {
      "cell_type": "code",
      "source": [],
      "metadata": {
        "id": "FYSnRY3mPAM8"
      },
      "execution_count": 8,
      "outputs": []
    },
    {
      "cell_type": "code",
      "source": [
        "#initializing the event object for inter-thread communication\n",
        "aprioricompleted=threading.Event()\n",
        "fpcompleted=threading.Event()"
      ],
      "metadata": {
        "id": "eD74LGPHprPX"
      },
      "execution_count": 9,
      "outputs": []
    },
    {
      "cell_type": "code",
      "source": [
        "#setting execution time for both algorithms as 0\n",
        "executiontime=[0,0]"
      ],
      "metadata": {
        "id": "q-dccxdVPDDA"
      },
      "execution_count": 10,
      "outputs": []
    },
    {
      "cell_type": "code",
      "source": [
        "\n",
        "#creating a function to execute apriori algorithm with used input values and displaying the best choices\n",
        "def runapi(support,confidence):\n",
        "  stime=time.time()\n",
        "  aprioriresults=apriori(transactionsdf,min_support=support,use_colnames=True)\n",
        "  rules=association_rules(aprioriresults,metric='confidence',min_threshold=confidence)\n",
        "  bestchoice=rules.sort_values(by='lift',ascending=False)\n",
        "  print(\"According to Apriori Best choices are\")\n",
        "  print(bestchoice[['antecedents','consequents','lift']][:10])\n",
        "#storing the time taken by apriori to complete the execution\n",
        "  executiontime[0]=time.time()-stime\n",
        "#sets the internal flag to true, awakening all the waiting threads.\n",
        "  aprioricompleted.set()"
      ],
      "metadata": {
        "id": "Eymvux_9PFfx"
      },
      "execution_count": 11,
      "outputs": []
    },
    {
      "cell_type": "code",
      "source": [
        "#creating a function to execute apriori algorithm with used input values and displaying the best choices\n",
        "def runfp(support,confidence):\n",
        "  stime=time.time()\n",
        "  fpresults=fpgrowth(transactionsdf,min_support=support,use_colnames=True)\n",
        "  rules=association_rules(fpresults,metric='confidence',min_threshold=confidence)\n",
        "  bestchoice=rules.sort_values(by='lift',ascending=False)\n",
        "  print(\"According to FP Growth Best choices are\")\n",
        "  print(bestchoice[['antecedents','consequents','lift']][:10])\n",
        "  #storing the time taken by apriori to complete the execution\n",
        "  executiontime[1]=time.time()-stime\n",
        "  #sets the internal flag to true, awakening all the waiting threads.\n",
        "  fpcompleted.set()"
      ],
      "metadata": {
        "id": "2Dn5MKjePH76"
      },
      "execution_count": 12,
      "outputs": []
    },
    {
      "cell_type": "code",
      "source": [
        "#user input for support and confidence and calling both the functions\n",
        "support=float(input(\"Enter minimum support: \"))\n",
        "confidence=float(input(\"Enter confidence threshold: \"))\n",
        "apithread=threading.Thread(target=runapi(support,confidence))\n",
        "fpthread=threading.Thread(target=runfp(support,confidence))"
      ],
      "metadata": {
        "id": "HtSvhAYZPJ8K",
        "colab": {
          "base_uri": "https://localhost:8080/"
        },
        "outputId": "2914eb6e-7399-4f3d-a467-2774d4c3e2ef"
      },
      "execution_count": 14,
      "outputs": [
        {
          "output_type": "stream",
          "name": "stdout",
          "text": [
            "Enter minimum support: 0.005\n",
            "Enter confidence threshold: 0.2\n",
            "According to Apriori Best choices are\n",
            "                                 antecedents                  consequents  \\\n",
            "21911      (rolls/buns, brown bread, yogurt)  (shopping bags, whole milk)   \n",
            "21914    (shopping bags, rolls/buns, yogurt)    (whole milk, brown bread)   \n",
            "21909      (whole milk, brown bread, yogurt)  (shopping bags, rolls/buns)   \n",
            "23152               (soda, whole milk, pork)    (root vegetables, yogurt)   \n",
            "23149        (pork, root vegetables, yogurt)           (soda, whole milk)   \n",
            "21899        (soda, whole milk, brown bread)  (shopping bags, rolls/buns)   \n",
            "13703                    (curd, canned beer)    (whole milk, brown bread)   \n",
            "13801                  (shopping bags, curd)    (whole milk, brown bread)   \n",
            "12270               (bottled water, chicken)         (whole milk, butter)   \n",
            "16289  (coffee, root vegetables, rolls/buns)                (frankfurter)   \n",
            "\n",
            "           lift  \n",
            "21911  3.703486  \n",
            "21914  3.363370  \n",
            "21909  3.312177  \n",
            "23152  3.181589  \n",
            "23149  3.171123  \n",
            "21899  3.148869  \n",
            "13703  3.134881  \n",
            "13801  3.115409  \n",
            "12270  3.115160  \n",
            "16289  3.094633  \n",
            "According to FP Growth Best choices are\n",
            "                                 antecedents                  consequents  \\\n",
            "17702      (rolls/buns, brown bread, yogurt)  (shopping bags, whole milk)   \n",
            "17705    (shopping bags, rolls/buns, yogurt)    (whole milk, brown bread)   \n",
            "17700      (whole milk, brown bread, yogurt)  (shopping bags, rolls/buns)   \n",
            "22284               (soda, whole milk, pork)    (root vegetables, yogurt)   \n",
            "22281        (pork, root vegetables, yogurt)           (soda, whole milk)   \n",
            "17773        (soda, whole milk, brown bread)  (shopping bags, rolls/buns)   \n",
            "4999                     (curd, canned beer)    (whole milk, brown bread)   \n",
            "4988                   (shopping bags, curd)    (whole milk, brown bread)   \n",
            "13058               (bottled water, chicken)         (whole milk, butter)   \n",
            "15624  (coffee, root vegetables, rolls/buns)                (frankfurter)   \n",
            "\n",
            "           lift  \n",
            "17702  3.703486  \n",
            "17705  3.363370  \n",
            "17700  3.312177  \n",
            "22284  3.181589  \n",
            "22281  3.171123  \n",
            "17773  3.148869  \n",
            "4999   3.134881  \n",
            "4988   3.115409  \n",
            "13058  3.115160  \n",
            "15624  3.094633  \n"
          ]
        }
      ]
    },
    {
      "cell_type": "code",
      "source": [
        "#starting the thread\n",
        "apithread.start()\n",
        "fpthread.start()\n",
        "#making thread wait until the execution of set() is not done\n",
        "aprioricompleted.wait()\n",
        "fpcompleted.wait()\n",
        "#blocking the calling thread until the thread object gets terminated\n",
        "apithread.join()\n",
        "fpthread.join()"
      ],
      "metadata": {
        "id": "N87fWLxjQckL"
      },
      "execution_count": 15,
      "outputs": []
    },
    {
      "cell_type": "code",
      "source": [
        "#plotting the results of both the algorithms and deciding the best fit\n",
        "algorithms=['Apriori','FP Growth']\n",
        "plt.bar(algorithms,executiontime)\n",
        "plt.xlabel('Algorithms')\n",
        "plt.ylabel('Execution Time')\n",
        "plt.title('Apriori vs FP_Growth')\n",
        "plt.show()\n",
        "if executiontime[0]<executiontime[1]:\n",
        "  print(\"Apriori is faster\")\n",
        "elif executiontime[0]>executiontime[1]:\n",
        "  print(\"FP_Growth is faster\")\n",
        "else:\n",
        "  print(\"Both are equal\")"
      ],
      "metadata": {
        "id": "ItnbSWU_RL1_",
        "colab": {
          "base_uri": "https://localhost:8080/",
          "height": 489
        },
        "outputId": "a7373e53-a32b-4d1c-d3ca-d88d12bc5459"
      },
      "execution_count": 16,
      "outputs": [
        {
          "output_type": "display_data",
          "data": {
            "text/plain": [
              "<Figure size 640x480 with 1 Axes>"
            ],
            "image/png": "[encoded data removed]"
          },
          "metadata": {}
        },
        {
          "output_type": "stream",
          "name": "stdout",
          "text": [
            "FP_Growth is faster\n"
          ]
        }
      ]
    },
    {
      "cell_type": "code",
      "source": [],
      "metadata": {
        "id": "Gmw4XIGjRdce"
      },
      "execution_count": 16,
      "outputs": []
    }
  ]
}