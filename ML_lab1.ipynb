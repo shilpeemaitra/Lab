{
  "nbformat": 4,
  "nbformat_minor": 0,
  "metadata": {
    "colab": {
      "provenance": [],
      "authorship_tag": "ABX9TyMrHoY2y0UZTg02JPHPFFCA",
      "include_colab_link": true
    },
    "kernelspec": {
      "name": "python3",
      "display_name": "Python 3"
    },
    "language_info": {
      "name": "python"
    }
  },
  "cells": [
    {
      "cell_type": "markdown",
      "metadata": {
        "id": "view-in-github",
        "colab_type": "text"
      },
      "source": [
        "<a href=\"https://colab.research.google.com/github/shilpeemaitra/Lab/blob/main/Churn_Modelling.ipynb\" target=\"_parent\"><img src=\"https://colab.research.google.com/assets/colab-badge.svg\" alt=\"Open In Colab\"/></a>"
      ]
    },
    {
      "cell_type": "markdown",
      "source": [
        "Importing Libraries\n"
      ],
      "metadata": {
        "id": "KGepa-0ZzDTN"
      }
    },
    {
      "cell_type": "code",
      "source": [
        "import pandas as pd # It has functions for analyzing, cleaning, exploring, and manipulating data\n",
        "import numpy as np #functions provided by NumPy that allow us to create and manipulate arrays, and perform different operations on them."
      ],
      "metadata": {
        "id": "0VMaVygMzJMX"
      },
      "execution_count": 237,
      "outputs": []
    },
    {
      "cell_type": "markdown",
      "source": [
        "Loading Dataset"
      ],
      "metadata": {
        "id": "wAkZV89SzQCs"
      }
    },
    {
      "cell_type": "code",
      "source": [
        "df=pd.read_csv('/content/Churn_Modelling.csv')\n",
        "df.head()"
      ],
      "metadata": {
        "colab": {
          "base_uri": "https://localhost:8080/",
          "height": 206
        },
        "id": "vknP8PI3zPMt",
        "outputId": "1f55287c-17b1-4e17-a91f-733ea1e7702d"
      },
      "execution_count": 238,
      "outputs": [
        {
          "output_type": "execute_result",
          "data": {
            "text/plain": [
              "   RowNumber  CustomerId   Surname  CreditScore Geography  Gender  Age  \\\n",
              "0          1    15634602  Hargrave          619    France  Female   42   \n",
              "1          2    15647311      Hill          608     Spain  Female   41   \n",
              "2          3    15619304      Onio          502    France  Female   42   \n",
              "3          4    15701354      Boni          699    France  Female   39   \n",
              "4          5    15737888  Mitchell          850     Spain  Female   43   \n",
              "\n",
              "   Tenure    Balance  NumOfProducts  HasCrCard  IsActiveMember  \\\n",
              "0       2       0.00              1          1               1   \n",
              "1       1   83807.86              1          0               1   \n",
              "2       8  159660.80              3          1               0   \n",
              "3       1       0.00              2          0               0   \n",
              "4       2  125510.82              1          1               1   \n",
              "\n",
              "   EstimatedSalary  Exited  \n",
              "0        101348.88       1  \n",
              "1        112542.58       0  \n",
              "2        113931.57       1  \n",
              "3         93826.63       0  \n",
              "4         79084.10       0  "
            ],
            "text/html": [
              "\n",
              "\n",
              "  <div id=\"df-32013a7e-08da-46bf-adab-ad44d7957c8f\">\n",
              "    <div class=\"colab-df-container\">\n",
              "      <div>\n",
              "<style scoped>\n",
              "    .dataframe tbody tr th:only-of-type {\n",
              "        vertical-align: middle;\n",
              "    }\n",
              "\n",
              "    .dataframe tbody tr th {\n",
              "        vertical-align: top;\n",
              "    }\n",
              "\n",
              "    .dataframe thead th {\n",
              "        text-align: right;\n",
              "    }\n",
              "</style>\n",
              "<table border=\"1\" class=\"dataframe\">\n",
              "  <thead>\n",
              "    <tr style=\"text-align: right;\">\n",
              "      <th></th>\n",
              "      <th>RowNumber</th>\n",
              "      <th>CustomerId</th>\n",
              "      <th>Surname</th>\n",
              "      <th>CreditScore</th>\n",
              "      <th>Geography</th>\n",
              "      <th>Gender</th>\n",
              "      <th>Age</th>\n",
              "      <th>Tenure</th>\n",
              "      <th>Balance</th>\n",
              "      <th>NumOfProducts</th>\n",
              "      <th>HasCrCard</th>\n",
              "      <th>IsActiveMember</th>\n",
              "      <th>EstimatedSalary</th>\n",
              "      <th>Exited</th>\n",
              "    </tr>\n",
              "  </thead>\n",
              "  <tbody>\n",
              "    <tr>\n",
              "      <th>0</th>\n",
              "      <td>1</td>\n",
              "      <td>15634602</td>\n",
              "      <td>Hargrave</td>\n",
              "      <td>619</td>\n",
              "      <td>France</td>\n",
              "      <td>Female</td>\n",
              "      <td>42</td>\n",
              "      <td>2</td>\n",
              "      <td>0.00</td>\n",
              "      <td>1</td>\n",
              "      <td>1</td>\n",
              "      <td>1</td>\n",
              "      <td>101348.88</td>\n",
              "      <td>1</td>\n",
              "    </tr>\n",
              "    <tr>\n",
              "      <th>1</th>\n",
              "      <td>2</td>\n",
              "      <td>15647311</td>\n",
              "      <td>Hill</td>\n",
              "      <td>608</td>\n",
              "      <td>Spain</td>\n",
              "      <td>Female</td>\n",
              "      <td>41</td>\n",
              "      <td>1</td>\n",
              "      <td>83807.86</td>\n",
              "      <td>1</td>\n",
              "      <td>0</td>\n",
              "      <td>1</td>\n",
              "      <td>112542.58</td>\n",
              "      <td>0</td>\n",
              "    </tr>\n",
              "    <tr>\n",
              "      <th>2</th>\n",
              "      <td>3</td>\n",
              "      <td>15619304</td>\n",
              "      <td>Onio</td>\n",
              "      <td>502</td>\n",
              "      <td>France</td>\n",
              "      <td>Female</td>\n",
              "      <td>42</td>\n",
              "      <td>8</td>\n",
              "      <td>159660.80</td>\n",
              "      <td>3</td>\n",
              "      <td>1</td>\n",
              "      <td>0</td>\n",
              "      <td>113931.57</td>\n",
              "      <td>1</td>\n",
              "    </tr>\n",
              "    <tr>\n",
              "      <th>3</th>\n",
              "      <td>4</td>\n",
              "      <td>15701354</td>\n",
              "      <td>Boni</td>\n",
              "      <td>699</td>\n",
              "      <td>France</td>\n",
              "      <td>Female</td>\n",
              "      <td>39</td>\n",
              "      <td>1</td>\n",
              "      <td>0.00</td>\n",
              "      <td>2</td>\n",
              "      <td>0</td>\n",
              "      <td>0</td>\n",
              "      <td>93826.63</td>\n",
              "      <td>0</td>\n",
              "    </tr>\n",
              "    <tr>\n",
              "      <th>4</th>\n",
              "      <td>5</td>\n",
              "      <td>15737888</td>\n",
              "      <td>Mitchell</td>\n",
              "      <td>850</td>\n",
              "      <td>Spain</td>\n",
              "      <td>Female</td>\n",
              "      <td>43</td>\n",
              "      <td>2</td>\n",
              "      <td>125510.82</td>\n",
              "      <td>1</td>\n",
              "      <td>1</td>\n",
              "      <td>1</td>\n",
              "      <td>79084.10</td>\n",
              "      <td>0</td>\n",
              "    </tr>\n",
              "  </tbody>\n",
              "</table>\n",
              "</div>\n",
              "      <button class=\"colab-df-convert\" onclick=\"convertToInteractive('df-32013a7e-08da-46bf-adab-ad44d7957c8f')\"\n",
              "              title=\"Convert this dataframe to an interactive table.\"\n",
              "              style=\"display:none;\">\n",
              "\n",
              "  <svg xmlns=\"http://www.w3.org/2000/svg\" height=\"24px\"viewBox=\"0 0 24 24\"\n",
              "       width=\"24px\">\n",
              "    <path d=\"M0 0h24v24H0V0z\" fill=\"none\"/>\n",
              "    <path d=\"M18.56 5.44l.94 2.06.94-2.06 2.06-.94-2.06-.94-.94-2.06-.94 2.06-2.06.94zm-11 1L8.5 8.5l.94-2.06 2.06-.94-2.06-.94L8.5 2.5l-.94 2.06-2.06.94zm10 10l.94 2.06.94-2.06 2.06-.94-2.06-.94-.94-2.06-.94 2.06-2.06.94z\"/><path d=\"M17.41 7.96l-1.37-1.37c-.4-.4-.92-.59-1.43-.59-.52 0-1.04.2-1.43.59L10.3 9.45l-7.72 7.72c-.78.78-.78 2.05 0 2.83L4 21.41c.39.39.9.59 1.41.59.51 0 1.02-.2 1.41-.59l7.78-7.78 2.81-2.81c.8-.78.8-2.07 0-2.86zM5.41 20L4 18.59l7.72-7.72 1.47 1.35L5.41 20z\"/>\n",
              "  </svg>\n",
              "      </button>\n",
              "\n",
              "\n",
              "\n",
              "    <div id=\"df-5f28aa28-d905-4c6c-b8d2-9a5d2aecd140\">\n",
              "      <button class=\"colab-df-quickchart\" onclick=\"quickchart('df-5f28aa28-d905-4c6c-b8d2-9a5d2aecd140')\"\n",
              "              title=\"Suggest charts.\"\n",
              "              style=\"display:none;\">\n",
              "\n",
              "<svg xmlns=\"http://www.w3.org/2000/svg\" height=\"24px\"viewBox=\"0 0 24 24\"\n",
              "     width=\"24px\">\n",
              "    <g>\n",
              "        <path d=\"M19 3H5c-1.1 0-2 .9-2 2v14c0 1.1.9 2 2 2h14c1.1 0 2-.9 2-2V5c0-1.1-.9-2-2-2zM9 17H7v-7h2v7zm4 0h-2V7h2v10zm4 0h-2v-4h2v4z\"/>\n",
              "    </g>\n",
              "</svg>\n",
              "      </button>\n",
              "    </div>\n",
              "\n",
              "<style>\n",
              "  .colab-df-quickchart {\n",
              "    background-color: #E8F0FE;\n",
              "    border: none;\n",
              "    border-radius: 50%;\n",
              "    cursor: pointer;\n",
              "    display: none;\n",
              "    fill: #1967D2;\n",
              "    height: 32px;\n",
              "    padding: 0 0 0 0;\n",
              "    width: 32px;\n",
              "  }\n",
              "\n",
              "  .colab-df-quickchart:hover {\n",
              "    background-color: #E2EBFA;\n",
              "    box-shadow: 0px 1px 2px rgba(60, 64, 67, 0.3), 0px 1px 3px 1px rgba(60, 64, 67, 0.15);\n",
              "    fill: #174EA6;\n",
              "  }\n",
              "\n",
              "  [theme=dark] .colab-df-quickchart {\n",
              "    background-color: #3B4455;\n",
              "    fill: #D2E3FC;\n",
              "  }\n",
              "\n",
              "  [theme=dark] .colab-df-quickchart:hover {\n",
              "    background-color: #434B5C;\n",
              "    box-shadow: 0px 1px 3px 1px rgba(0, 0, 0, 0.15);\n",
              "    filter: drop-shadow(0px 1px 2px rgba(0, 0, 0, 0.3));\n",
              "    fill: #FFFFFF;\n",
              "  }\n",
              "</style>\n",
              "\n",
              "    <script>\n",
              "      async function quickchart(key) {\n",
              "        const containerElement = document.querySelector('#' + key);\n",
              "        const charts = await google.colab.kernel.invokeFunction(\n",
              "            'suggestCharts', [key], {});\n",
              "      }\n",
              "    </script>\n",
              "\n",
              "      <script>\n",
              "\n",
              "function displayQuickchartButton(domScope) {\n",
              "  let quickchartButtonEl =\n",
              "    domScope.querySelector('#df-5f28aa28-d905-4c6c-b8d2-9a5d2aecd140 button.colab-df-quickchart');\n",
              "  quickchartButtonEl.style.display =\n",
              "    google.colab.kernel.accessAllowed ? 'block' : 'none';\n",
              "}\n",
              "\n",
              "        displayQuickchartButton(document);\n",
              "      </script>\n",
              "      <style>\n",
              "    .colab-df-container {\n",
              "      display:flex;\n",
              "      flex-wrap:wrap;\n",
              "      gap: 12px;\n",
              "    }\n",
              "\n",
              "    .colab-df-convert {\n",
              "      background-color: #E8F0FE;\n",
              "      border: none;\n",
              "      border-radius: 50%;\n",
              "      cursor: pointer;\n",
              "      display: none;\n",
              "      fill: #1967D2;\n",
              "      height: 32px;\n",
              "      padding: 0 0 0 0;\n",
              "      width: 32px;\n",
              "    }\n",
              "\n",
              "    .colab-df-convert:hover {\n",
              "      background-color: #E2EBFA;\n",
              "      box-shadow: 0px 1px 2px rgba(60, 64, 67, 0.3), 0px 1px 3px 1px rgba(60, 64, 67, 0.15);\n",
              "      fill: #174EA6;\n",
              "    }\n",
              "\n",
              "    [theme=dark] .colab-df-convert {\n",
              "      background-color: #3B4455;\n",
              "      fill: #D2E3FC;\n",
              "    }\n",
              "\n",
              "    [theme=dark] .colab-df-convert:hover {\n",
              "      background-color: #434B5C;\n",
              "      box-shadow: 0px 1px 3px 1px rgba(0, 0, 0, 0.15);\n",
              "      filter: drop-shadow(0px 1px 2px rgba(0, 0, 0, 0.3));\n",
              "      fill: #FFFFFF;\n",
              "    }\n",
              "  </style>\n",
              "\n",
              "      <script>\n",
              "        const buttonEl =\n",
              "          document.querySelector('#df-32013a7e-08da-46bf-adab-ad44d7957c8f button.colab-df-convert');\n",
              "        buttonEl.style.display =\n",
              "          google.colab.kernel.accessAllowed ? 'block' : 'none';\n",
              "\n",
              "        async function convertToInteractive(key) {\n",
              "          const element = document.querySelector('#df-32013a7e-08da-46bf-adab-ad44d7957c8f');\n",
              "          const dataTable =\n",
              "            await google.colab.kernel.invokeFunction('convertToInteractive',\n",
              "                                                     [key], {});\n",
              "          if (!dataTable) return;\n",
              "\n",
              "          const docLinkHtml = 'Like what you see? Visit the ' +\n",
              "            '<a target=\"_blank\" href=https://colab.research.google.com/notebooks/data_table.ipynb>data table notebook</a>'\n",
              "            + ' to learn more about interactive tables.';\n",
              "          element.innerHTML = '';\n",
              "          dataTable['output_type'] = 'display_data';\n",
              "          await google.colab.output.renderOutput(dataTable, element);\n",
              "          const docLink = document.createElement('div');\n",
              "          docLink.innerHTML = docLinkHtml;\n",
              "          element.appendChild(docLink);\n",
              "        }\n",
              "      </script>\n",
              "    </div>\n",
              "  </div>\n"
            ]
          },
          "metadata": {},
          "execution_count": 238
        }
      ]
    },
    {
      "cell_type": "code",
      "source": [
        "print(\"Total number of records/rows present in the dataset is:\",df.shape[0])\n",
        "print(\"Total number of attributes/columns present in the dataset is:\",df.shape[1])"
      ],
      "metadata": {
        "colab": {
          "base_uri": "https://localhost:8080/"
        },
        "id": "My2vGpvyzoMz",
        "outputId": "3013310e-50f3-4015-9441-4ec301dc7687"
      },
      "execution_count": 239,
      "outputs": [
        {
          "output_type": "stream",
          "name": "stdout",
          "text": [
            "Total number of records/rows present in the dataset is: 10000\n",
            "Total number of attributes/columns present in the dataset is: 14\n"
          ]
        }
      ]
    },
    {
      "cell_type": "code",
      "source": [
        "df.columns"
      ],
      "metadata": {
        "colab": {
          "base_uri": "https://localhost:8080/"
        },
        "id": "OAHdcjdd0PaJ",
        "outputId": "694696d4-31a3-4f1f-af4a-e0da38233252"
      },
      "execution_count": 240,
      "outputs": [
        {
          "output_type": "execute_result",
          "data": {
            "text/plain": [
              "Index(['RowNumber', 'CustomerId', 'Surname', 'CreditScore', 'Geography',\n",
              "       'Gender', 'Age', 'Tenure', 'Balance', 'NumOfProducts', 'HasCrCard',\n",
              "       'IsActiveMember', 'EstimatedSalary', 'Exited'],\n",
              "      dtype='object')"
            ]
          },
          "metadata": {},
          "execution_count": 240
        }
      ]
    },
    {
      "cell_type": "code",
      "source": [
        "df.info()"
      ],
      "metadata": {
        "colab": {
          "base_uri": "https://localhost:8080/"
        },
        "id": "wOK84WLO0RRJ",
        "outputId": "b05408aa-4051-4e42-fcfc-bfe06973d8ed"
      },
      "execution_count": 241,
      "outputs": [
        {
          "output_type": "stream",
          "name": "stdout",
          "text": [
            "<class 'pandas.core.frame.DataFrame'>\n",
            "RangeIndex: 10000 entries, 0 to 9999\n",
            "Data columns (total 14 columns):\n",
            " #   Column           Non-Null Count  Dtype  \n",
            "---  ------           --------------  -----  \n",
            " 0   RowNumber        10000 non-null  int64  \n",
            " 1   CustomerId       10000 non-null  int64  \n",
            " 2   Surname          10000 non-null  object \n",
            " 3   CreditScore      10000 non-null  int64  \n",
            " 4   Geography        10000 non-null  object \n",
            " 5   Gender           10000 non-null  object \n",
            " 6   Age              10000 non-null  int64  \n",
            " 7   Tenure           10000 non-null  int64  \n",
            " 8   Balance          10000 non-null  float64\n",
            " 9   NumOfProducts    10000 non-null  int64  \n",
            " 10  HasCrCard        10000 non-null  int64  \n",
            " 11  IsActiveMember   10000 non-null  int64  \n",
            " 12  EstimatedSalary  10000 non-null  float64\n",
            " 13  Exited           10000 non-null  int64  \n",
            "dtypes: float64(2), int64(9), object(3)\n",
            "memory usage: 1.1+ MB\n"
          ]
        }
      ]
    },
    {
      "cell_type": "markdown",
      "source": [
        "to show the missing values"
      ],
      "metadata": {
        "id": "ftOgUpkJoXFn"
      }
    },
    {
      "cell_type": "code",
      "source": [
        "df.isnull().sum().to_frame().rename(columns={0:\"Total No. of Missing Values\"})"
      ],
      "metadata": {
        "colab": {
          "base_uri": "https://localhost:8080/",
          "height": 488
        },
        "id": "kiEpThHI0Tyr",
        "outputId": "c96b97f7-55bf-426c-de60-07fda7c0a668"
      },
      "execution_count": 242,
      "outputs": [
        {
          "output_type": "execute_result",
          "data": {
            "text/plain": [
              "                 Total No. of Missing Values\n",
              "RowNumber                                  0\n",
              "CustomerId                                 0\n",
              "Surname                                    0\n",
              "CreditScore                                0\n",
              "Geography                                  0\n",
              "Gender                                     0\n",
              "Age                                        0\n",
              "Tenure                                     0\n",
              "Balance                                    0\n",
              "NumOfProducts                              0\n",
              "HasCrCard                                  0\n",
              "IsActiveMember                             0\n",
              "EstimatedSalary                            0\n",
              "Exited                                     0"
            ],
            "text/html": [
              "\n",
              "\n",
              "  <div id=\"df-00a853c1-b3cc-46da-957b-8b0f7dd9582b\">\n",
              "    <div class=\"colab-df-container\">\n",
              "      <div>\n",
              "<style scoped>\n",
              "    .dataframe tbody tr th:only-of-type {\n",
              "        vertical-align: middle;\n",
              "    }\n",
              "\n",
              "    .dataframe tbody tr th {\n",
              "        vertical-align: top;\n",
              "    }\n",
              "\n",
              "    .dataframe thead th {\n",
              "        text-align: right;\n",
              "    }\n",
              "</style>\n",
              "<table border=\"1\" class=\"dataframe\">\n",
              "  <thead>\n",
              "    <tr style=\"text-align: right;\">\n",
              "      <th></th>\n",
              "      <th>Total No. of Missing Values</th>\n",
              "    </tr>\n",
              "  </thead>\n",
              "  <tbody>\n",
              "    <tr>\n",
              "      <th>RowNumber</th>\n",
              "      <td>0</td>\n",
              "    </tr>\n",
              "    <tr>\n",
              "      <th>CustomerId</th>\n",
              "      <td>0</td>\n",
              "    </tr>\n",
              "    <tr>\n",
              "      <th>Surname</th>\n",
              "      <td>0</td>\n",
              "    </tr>\n",
              "    <tr>\n",
              "      <th>CreditScore</th>\n",
              "      <td>0</td>\n",
              "    </tr>\n",
              "    <tr>\n",
              "      <th>Geography</th>\n",
              "      <td>0</td>\n",
              "    </tr>\n",
              "    <tr>\n",
              "      <th>Gender</th>\n",
              "      <td>0</td>\n",
              "    </tr>\n",
              "    <tr>\n",
              "      <th>Age</th>\n",
              "      <td>0</td>\n",
              "    </tr>\n",
              "    <tr>\n",
              "      <th>Tenure</th>\n",
              "      <td>0</td>\n",
              "    </tr>\n",
              "    <tr>\n",
              "      <th>Balance</th>\n",
              "      <td>0</td>\n",
              "    </tr>\n",
              "    <tr>\n",
              "      <th>NumOfProducts</th>\n",
              "      <td>0</td>\n",
              "    </tr>\n",
              "    <tr>\n",
              "      <th>HasCrCard</th>\n",
              "      <td>0</td>\n",
              "    </tr>\n",
              "    <tr>\n",
              "      <th>IsActiveMember</th>\n",
              "      <td>0</td>\n",
              "    </tr>\n",
              "    <tr>\n",
              "      <th>EstimatedSalary</th>\n",
              "      <td>0</td>\n",
              "    </tr>\n",
              "    <tr>\n",
              "      <th>Exited</th>\n",
              "      <td>0</td>\n",
              "    </tr>\n",
              "  </tbody>\n",
              "</table>\n",
              "</div>\n",
              "      <button class=\"colab-df-convert\" onclick=\"convertToInteractive('df-00a853c1-b3cc-46da-957b-8b0f7dd9582b')\"\n",
              "              title=\"Convert this dataframe to an interactive table.\"\n",
              "              style=\"display:none;\">\n",
              "\n",
              "  <svg xmlns=\"http://www.w3.org/2000/svg\" height=\"24px\"viewBox=\"0 0 24 24\"\n",
              "       width=\"24px\">\n",
              "    <path d=\"M0 0h24v24H0V0z\" fill=\"none\"/>\n",
              "    <path d=\"M18.56 5.44l.94 2.06.94-2.06 2.06-.94-2.06-.94-.94-2.06-.94 2.06-2.06.94zm-11 1L8.5 8.5l.94-2.06 2.06-.94-2.06-.94L8.5 2.5l-.94 2.06-2.06.94zm10 10l.94 2.06.94-2.06 2.06-.94-2.06-.94-.94-2.06-.94 2.06-2.06.94z\"/><path d=\"M17.41 7.96l-1.37-1.37c-.4-.4-.92-.59-1.43-.59-.52 0-1.04.2-1.43.59L10.3 9.45l-7.72 7.72c-.78.78-.78 2.05 0 2.83L4 21.41c.39.39.9.59 1.41.59.51 0 1.02-.2 1.41-.59l7.78-7.78 2.81-2.81c.8-.78.8-2.07 0-2.86zM5.41 20L4 18.59l7.72-7.72 1.47 1.35L5.41 20z\"/>\n",
              "  </svg>\n",
              "      </button>\n",
              "\n",
              "\n",
              "\n",
              "    <div id=\"df-58b080e8-b978-4541-83d0-681c9f37e379\">\n",
              "      <button class=\"colab-df-quickchart\" onclick=\"quickchart('df-58b080e8-b978-4541-83d0-681c9f37e379')\"\n",
              "              title=\"Suggest charts.\"\n",
              "              style=\"display:none;\">\n",
              "\n",
              "<svg xmlns=\"http://www.w3.org/2000/svg\" height=\"24px\"viewBox=\"0 0 24 24\"\n",
              "     width=\"24px\">\n",
              "    <g>\n",
              "        <path d=\"M19 3H5c-1.1 0-2 .9-2 2v14c0 1.1.9 2 2 2h14c1.1 0 2-.9 2-2V5c0-1.1-.9-2-2-2zM9 17H7v-7h2v7zm4 0h-2V7h2v10zm4 0h-2v-4h2v4z\"/>\n",
              "    </g>\n",
              "</svg>\n",
              "      </button>\n",
              "    </div>\n",
              "\n",
              "<style>\n",
              "  .colab-df-quickchart {\n",
              "    background-color: #E8F0FE;\n",
              "    border: none;\n",
              "    border-radius: 50%;\n",
              "    cursor: pointer;\n",
              "    display: none;\n",
              "    fill: #1967D2;\n",
              "    height: 32px;\n",
              "    padding: 0 0 0 0;\n",
              "    width: 32px;\n",
              "  }\n",
              "\n",
              "  .colab-df-quickchart:hover {\n",
              "    background-color: #E2EBFA;\n",
              "    box-shadow: 0px 1px 2px rgba(60, 64, 67, 0.3), 0px 1px 3px 1px rgba(60, 64, 67, 0.15);\n",
              "    fill: #174EA6;\n",
              "  }\n",
              "\n",
              "  [theme=dark] .colab-df-quickchart {\n",
              "    background-color: #3B4455;\n",
              "    fill: #D2E3FC;\n",
              "  }\n",
              "\n",
              "  [theme=dark] .colab-df-quickchart:hover {\n",
              "    background-color: #434B5C;\n",
              "    box-shadow: 0px 1px 3px 1px rgba(0, 0, 0, 0.15);\n",
              "    filter: drop-shadow(0px 1px 2px rgba(0, 0, 0, 0.3));\n",
              "    fill: #FFFFFF;\n",
              "  }\n",
              "</style>\n",
              "\n",
              "    <script>\n",
              "      async function quickchart(key) {\n",
              "        const containerElement = document.querySelector('#' + key);\n",
              "        const charts = await google.colab.kernel.invokeFunction(\n",
              "            'suggestCharts', [key], {});\n",
              "      }\n",
              "    </script>\n",
              "\n",
              "      <script>\n",
              "\n",
              "function displayQuickchartButton(domScope) {\n",
              "  let quickchartButtonEl =\n",
              "    domScope.querySelector('#df-58b080e8-b978-4541-83d0-681c9f37e379 button.colab-df-quickchart');\n",
              "  quickchartButtonEl.style.display =\n",
              "    google.colab.kernel.accessAllowed ? 'block' : 'none';\n",
              "}\n",
              "\n",
              "        displayQuickchartButton(document);\n",
              "      </script>\n",
              "      <style>\n",
              "    .colab-df-container {\n",
              "      display:flex;\n",
              "      flex-wrap:wrap;\n",
              "      gap: 12px;\n",
              "    }\n",
              "\n",
              "    .colab-df-convert {\n",
              "      background-color: #E8F0FE;\n",
              "      border: none;\n",
              "      border-radius: 50%;\n",
              "      cursor: pointer;\n",
              "      display: none;\n",
              "      fill: #1967D2;\n",
              "      height: 32px;\n",
              "      padding: 0 0 0 0;\n",
              "      width: 32px;\n",
              "    }\n",
              "\n",
              "    .colab-df-convert:hover {\n",
              "      background-color: #E2EBFA;\n",
              "      box-shadow: 0px 1px 2px rgba(60, 64, 67, 0.3), 0px 1px 3px 1px rgba(60, 64, 67, 0.15);\n",
              "      fill: #174EA6;\n",
              "    }\n",
              "\n",
              "    [theme=dark] .colab-df-convert {\n",
              "      background-color: #3B4455;\n",
              "      fill: #D2E3FC;\n",
              "    }\n",
              "\n",
              "    [theme=dark] .colab-df-convert:hover {\n",
              "      background-color: #434B5C;\n",
              "      box-shadow: 0px 1px 3px 1px rgba(0, 0, 0, 0.15);\n",
              "      filter: drop-shadow(0px 1px 2px rgba(0, 0, 0, 0.3));\n",
              "      fill: #FFFFFF;\n",
              "    }\n",
              "  </style>\n",
              "\n",
              "      <script>\n",
              "        const buttonEl =\n",
              "          document.querySelector('#df-00a853c1-b3cc-46da-957b-8b0f7dd9582b button.colab-df-convert');\n",
              "        buttonEl.style.display =\n",
              "          google.colab.kernel.accessAllowed ? 'block' : 'none';\n",
              "\n",
              "        async function convertToInteractive(key) {\n",
              "          const element = document.querySelector('#df-00a853c1-b3cc-46da-957b-8b0f7dd9582b');\n",
              "          const dataTable =\n",
              "            await google.colab.kernel.invokeFunction('convertToInteractive',\n",
              "                                                     [key], {});\n",
              "          if (!dataTable) return;\n",
              "\n",
              "          const docLinkHtml = 'Like what you see? Visit the ' +\n",
              "            '<a target=\"_blank\" href=https://colab.research.google.com/notebooks/data_table.ipynb>data table notebook</a>'\n",
              "            + ' to learn more about interactive tables.';\n",
              "          element.innerHTML = '';\n",
              "          dataTable['output_type'] = 'display_data';\n",
              "          await google.colab.output.renderOutput(dataTable, element);\n",
              "          const docLink = document.createElement('div');\n",
              "          docLink.innerHTML = docLinkHtml;\n",
              "          element.appendChild(docLink);\n",
              "        }\n",
              "      </script>\n",
              "    </div>\n",
              "  </div>\n"
            ]
          },
          "metadata": {},
          "execution_count": 242
        }
      ]
    },
    {
      "cell_type": "markdown",
      "source": [
        "No Missing Values"
      ],
      "metadata": {
        "id": "OuRVwE230sBM"
      }
    },
    {
      "cell_type": "code",
      "source": [
        "df[df.duplicated()]"
      ],
      "metadata": {
        "colab": {
          "base_uri": "https://localhost:8080/",
          "height": 49
        },
        "id": "94J6lzkk0uU0",
        "outputId": "cc78ae73-e24c-4988-bf26-aebf83fe22c7"
      },
      "execution_count": 243,
      "outputs": [
        {
          "output_type": "execute_result",
          "data": {
            "text/plain": [
              "Empty DataFrame\n",
              "Columns: [RowNumber, CustomerId, Surname, CreditScore, Geography, Gender, Age, Tenure, Balance, NumOfProducts, HasCrCard, IsActiveMember, EstimatedSalary, Exited]\n",
              "Index: []"
            ],
            "text/html": [
              "\n",
              "\n",
              "  <div id=\"df-fd452f2f-aedf-48b8-a79b-f0a433d9e110\">\n",
              "    <div class=\"colab-df-container\">\n",
              "      <div>\n",
              "<style scoped>\n",
              "    .dataframe tbody tr th:only-of-type {\n",
              "        vertical-align: middle;\n",
              "    }\n",
              "\n",
              "    .dataframe tbody tr th {\n",
              "        vertical-align: top;\n",
              "    }\n",
              "\n",
              "    .dataframe thead th {\n",
              "        text-align: right;\n",
              "    }\n",
              "</style>\n",
              "<table border=\"1\" class=\"dataframe\">\n",
              "  <thead>\n",
              "    <tr style=\"text-align: right;\">\n",
              "      <th></th>\n",
              "      <th>RowNumber</th>\n",
              "      <th>CustomerId</th>\n",
              "      <th>Surname</th>\n",
              "      <th>CreditScore</th>\n",
              "      <th>Geography</th>\n",
              "      <th>Gender</th>\n",
              "      <th>Age</th>\n",
              "      <th>Tenure</th>\n",
              "      <th>Balance</th>\n",
              "      <th>NumOfProducts</th>\n",
              "      <th>HasCrCard</th>\n",
              "      <th>IsActiveMember</th>\n",
              "      <th>EstimatedSalary</th>\n",
              "      <th>Exited</th>\n",
              "    </tr>\n",
              "  </thead>\n",
              "  <tbody>\n",
              "  </tbody>\n",
              "</table>\n",
              "</div>\n",
              "      <button class=\"colab-df-convert\" onclick=\"convertToInteractive('df-fd452f2f-aedf-48b8-a79b-f0a433d9e110')\"\n",
              "              title=\"Convert this dataframe to an interactive table.\"\n",
              "              style=\"display:none;\">\n",
              "\n",
              "  <svg xmlns=\"http://www.w3.org/2000/svg\" height=\"24px\"viewBox=\"0 0 24 24\"\n",
              "       width=\"24px\">\n",
              "    <path d=\"M0 0h24v24H0V0z\" fill=\"none\"/>\n",
              "    <path d=\"M18.56 5.44l.94 2.06.94-2.06 2.06-.94-2.06-.94-.94-2.06-.94 2.06-2.06.94zm-11 1L8.5 8.5l.94-2.06 2.06-.94-2.06-.94L8.5 2.5l-.94 2.06-2.06.94zm10 10l.94 2.06.94-2.06 2.06-.94-2.06-.94-.94-2.06-.94 2.06-2.06.94z\"/><path d=\"M17.41 7.96l-1.37-1.37c-.4-.4-.92-.59-1.43-.59-.52 0-1.04.2-1.43.59L10.3 9.45l-7.72 7.72c-.78.78-.78 2.05 0 2.83L4 21.41c.39.39.9.59 1.41.59.51 0 1.02-.2 1.41-.59l7.78-7.78 2.81-2.81c.8-.78.8-2.07 0-2.86zM5.41 20L4 18.59l7.72-7.72 1.47 1.35L5.41 20z\"/>\n",
              "  </svg>\n",
              "      </button>\n",
              "\n",
              "\n",
              "\n",
              "    <div id=\"df-035c205c-5537-4803-9c89-2424c61c1530\">\n",
              "      <button class=\"colab-df-quickchart\" onclick=\"quickchart('df-035c205c-5537-4803-9c89-2424c61c1530')\"\n",
              "              title=\"Suggest charts.\"\n",
              "              style=\"display:none;\">\n",
              "\n",
              "<svg xmlns=\"http://www.w3.org/2000/svg\" height=\"24px\"viewBox=\"0 0 24 24\"\n",
              "     width=\"24px\">\n",
              "    <g>\n",
              "        <path d=\"M19 3H5c-1.1 0-2 .9-2 2v14c0 1.1.9 2 2 2h14c1.1 0 2-.9 2-2V5c0-1.1-.9-2-2-2zM9 17H7v-7h2v7zm4 0h-2V7h2v10zm4 0h-2v-4h2v4z\"/>\n",
              "    </g>\n",
              "</svg>\n",
              "      </button>\n",
              "    </div>\n",
              "\n",
              "<style>\n",
              "  .colab-df-quickchart {\n",
              "    background-color: #E8F0FE;\n",
              "    border: none;\n",
              "    border-radius: 50%;\n",
              "    cursor: pointer;\n",
              "    display: none;\n",
              "    fill: #1967D2;\n",
              "    height: 32px;\n",
              "    padding: 0 0 0 0;\n",
              "    width: 32px;\n",
              "  }\n",
              "\n",
              "  .colab-df-quickchart:hover {\n",
              "    background-color: #E2EBFA;\n",
              "    box-shadow: 0px 1px 2px rgba(60, 64, 67, 0.3), 0px 1px 3px 1px rgba(60, 64, 67, 0.15);\n",
              "    fill: #174EA6;\n",
              "  }\n",
              "\n",
              "  [theme=dark] .colab-df-quickchart {\n",
              "    background-color: #3B4455;\n",
              "    fill: #D2E3FC;\n",
              "  }\n",
              "\n",
              "  [theme=dark] .colab-df-quickchart:hover {\n",
              "    background-color: #434B5C;\n",
              "    box-shadow: 0px 1px 3px 1px rgba(0, 0, 0, 0.15);\n",
              "    filter: drop-shadow(0px 1px 2px rgba(0, 0, 0, 0.3));\n",
              "    fill: #FFFFFF;\n",
              "  }\n",
              "</style>\n",
              "\n",
              "    <script>\n",
              "      async function quickchart(key) {\n",
              "        const containerElement = document.querySelector('#' + key);\n",
              "        const charts = await google.colab.kernel.invokeFunction(\n",
              "            'suggestCharts', [key], {});\n",
              "      }\n",
              "    </script>\n",
              "\n",
              "      <script>\n",
              "\n",
              "function displayQuickchartButton(domScope) {\n",
              "  let quickchartButtonEl =\n",
              "    domScope.querySelector('#df-035c205c-5537-4803-9c89-2424c61c1530 button.colab-df-quickchart');\n",
              "  quickchartButtonEl.style.display =\n",
              "    google.colab.kernel.accessAllowed ? 'block' : 'none';\n",
              "}\n",
              "\n",
              "        displayQuickchartButton(document);\n",
              "      </script>\n",
              "      <style>\n",
              "    .colab-df-container {\n",
              "      display:flex;\n",
              "      flex-wrap:wrap;\n",
              "      gap: 12px;\n",
              "    }\n",
              "\n",
              "    .colab-df-convert {\n",
              "      background-color: #E8F0FE;\n",
              "      border: none;\n",
              "      border-radius: 50%;\n",
              "      cursor: pointer;\n",
              "      display: none;\n",
              "      fill: #1967D2;\n",
              "      height: 32px;\n",
              "      padding: 0 0 0 0;\n",
              "      width: 32px;\n",
              "    }\n",
              "\n",
              "    .colab-df-convert:hover {\n",
              "      background-color: #E2EBFA;\n",
              "      box-shadow: 0px 1px 2px rgba(60, 64, 67, 0.3), 0px 1px 3px 1px rgba(60, 64, 67, 0.15);\n",
              "      fill: #174EA6;\n",
              "    }\n",
              "\n",
              "    [theme=dark] .colab-df-convert {\n",
              "      background-color: #3B4455;\n",
              "      fill: #D2E3FC;\n",
              "    }\n",
              "\n",
              "    [theme=dark] .colab-df-convert:hover {\n",
              "      background-color: #434B5C;\n",
              "      box-shadow: 0px 1px 3px 1px rgba(0, 0, 0, 0.15);\n",
              "      filter: drop-shadow(0px 1px 2px rgba(0, 0, 0, 0.3));\n",
              "      fill: #FFFFFF;\n",
              "    }\n",
              "  </style>\n",
              "\n",
              "      <script>\n",
              "        const buttonEl =\n",
              "          document.querySelector('#df-fd452f2f-aedf-48b8-a79b-f0a433d9e110 button.colab-df-convert');\n",
              "        buttonEl.style.display =\n",
              "          google.colab.kernel.accessAllowed ? 'block' : 'none';\n",
              "\n",
              "        async function convertToInteractive(key) {\n",
              "          const element = document.querySelector('#df-fd452f2f-aedf-48b8-a79b-f0a433d9e110');\n",
              "          const dataTable =\n",
              "            await google.colab.kernel.invokeFunction('convertToInteractive',\n",
              "                                                     [key], {});\n",
              "          if (!dataTable) return;\n",
              "\n",
              "          const docLinkHtml = 'Like what you see? Visit the ' +\n",
              "            '<a target=\"_blank\" href=https://colab.research.google.com/notebooks/data_table.ipynb>data table notebook</a>'\n",
              "            + ' to learn more about interactive tables.';\n",
              "          element.innerHTML = '';\n",
              "          dataTable['output_type'] = 'display_data';\n",
              "          await google.colab.output.renderOutput(dataTable, element);\n",
              "          const docLink = document.createElement('div');\n",
              "          docLink.innerHTML = docLinkHtml;\n",
              "          element.appendChild(docLink);\n",
              "        }\n",
              "      </script>\n",
              "    </div>\n",
              "  </div>\n"
            ]
          },
          "metadata": {},
          "execution_count": 243
        }
      ]
    },
    {
      "cell_type": "markdown",
      "source": [
        "NO duplicate values\n",
        "\n",
        "\n"
      ],
      "metadata": {
        "id": "76uzCiI301X7"
      }
    },
    {
      "cell_type": "code",
      "source": [
        "df.describe(include=\"object\")"
      ],
      "metadata": {
        "colab": {
          "base_uri": "https://localhost:8080/",
          "height": 175
        },
        "id": "2rpnP9Up08uJ",
        "outputId": "63fec275-8563-4b5f-f166-137599f122ba"
      },
      "execution_count": 244,
      "outputs": [
        {
          "output_type": "execute_result",
          "data": {
            "text/plain": [
              "       Surname Geography Gender\n",
              "count    10000     10000  10000\n",
              "unique    2932         3      2\n",
              "top      Smith    France   Male\n",
              "freq        32      5014   5457"
            ],
            "text/html": [
              "\n",
              "\n",
              "  <div id=\"df-1d9a6b54-5a4e-4a36-98b2-4657fffe7e73\">\n",
              "    <div class=\"colab-df-container\">\n",
              "      <div>\n",
              "<style scoped>\n",
              "    .dataframe tbody tr th:only-of-type {\n",
              "        vertical-align: middle;\n",
              "    }\n",
              "\n",
              "    .dataframe tbody tr th {\n",
              "        vertical-align: top;\n",
              "    }\n",
              "\n",
              "    .dataframe thead th {\n",
              "        text-align: right;\n",
              "    }\n",
              "</style>\n",
              "<table border=\"1\" class=\"dataframe\">\n",
              "  <thead>\n",
              "    <tr style=\"text-align: right;\">\n",
              "      <th></th>\n",
              "      <th>Surname</th>\n",
              "      <th>Geography</th>\n",
              "      <th>Gender</th>\n",
              "    </tr>\n",
              "  </thead>\n",
              "  <tbody>\n",
              "    <tr>\n",
              "      <th>count</th>\n",
              "      <td>10000</td>\n",
              "      <td>10000</td>\n",
              "      <td>10000</td>\n",
              "    </tr>\n",
              "    <tr>\n",
              "      <th>unique</th>\n",
              "      <td>2932</td>\n",
              "      <td>3</td>\n",
              "      <td>2</td>\n",
              "    </tr>\n",
              "    <tr>\n",
              "      <th>top</th>\n",
              "      <td>Smith</td>\n",
              "      <td>France</td>\n",
              "      <td>Male</td>\n",
              "    </tr>\n",
              "    <tr>\n",
              "      <th>freq</th>\n",
              "      <td>32</td>\n",
              "      <td>5014</td>\n",
              "      <td>5457</td>\n",
              "    </tr>\n",
              "  </tbody>\n",
              "</table>\n",
              "</div>\n",
              "      <button class=\"colab-df-convert\" onclick=\"convertToInteractive('df-1d9a6b54-5a4e-4a36-98b2-4657fffe7e73')\"\n",
              "              title=\"Convert this dataframe to an interactive table.\"\n",
              "              style=\"display:none;\">\n",
              "\n",
              "  <svg xmlns=\"http://www.w3.org/2000/svg\" height=\"24px\"viewBox=\"0 0 24 24\"\n",
              "       width=\"24px\">\n",
              "    <path d=\"M0 0h24v24H0V0z\" fill=\"none\"/>\n",
              "    <path d=\"M18.56 5.44l.94 2.06.94-2.06 2.06-.94-2.06-.94-.94-2.06-.94 2.06-2.06.94zm-11 1L8.5 8.5l.94-2.06 2.06-.94-2.06-.94L8.5 2.5l-.94 2.06-2.06.94zm10 10l.94 2.06.94-2.06 2.06-.94-2.06-.94-.94-2.06-.94 2.06-2.06.94z\"/><path d=\"M17.41 7.96l-1.37-1.37c-.4-.4-.92-.59-1.43-.59-.52 0-1.04.2-1.43.59L10.3 9.45l-7.72 7.72c-.78.78-.78 2.05 0 2.83L4 21.41c.39.39.9.59 1.41.59.51 0 1.02-.2 1.41-.59l7.78-7.78 2.81-2.81c.8-.78.8-2.07 0-2.86zM5.41 20L4 18.59l7.72-7.72 1.47 1.35L5.41 20z\"/>\n",
              "  </svg>\n",
              "      </button>\n",
              "\n",
              "\n",
              "\n",
              "    <div id=\"df-355dc19a-60f3-4838-896c-333ea56012ee\">\n",
              "      <button class=\"colab-df-quickchart\" onclick=\"quickchart('df-355dc19a-60f3-4838-896c-333ea56012ee')\"\n",
              "              title=\"Suggest charts.\"\n",
              "              style=\"display:none;\">\n",
              "\n",
              "<svg xmlns=\"http://www.w3.org/2000/svg\" height=\"24px\"viewBox=\"0 0 24 24\"\n",
              "     width=\"24px\">\n",
              "    <g>\n",
              "        <path d=\"M19 3H5c-1.1 0-2 .9-2 2v14c0 1.1.9 2 2 2h14c1.1 0 2-.9 2-2V5c0-1.1-.9-2-2-2zM9 17H7v-7h2v7zm4 0h-2V7h2v10zm4 0h-2v-4h2v4z\"/>\n",
              "    </g>\n",
              "</svg>\n",
              "      </button>\n",
              "    </div>\n",
              "\n",
              "<style>\n",
              "  .colab-df-quickchart {\n",
              "    background-color: #E8F0FE;\n",
              "    border: none;\n",
              "    border-radius: 50%;\n",
              "    cursor: pointer;\n",
              "    display: none;\n",
              "    fill: #1967D2;\n",
              "    height: 32px;\n",
              "    padding: 0 0 0 0;\n",
              "    width: 32px;\n",
              "  }\n",
              "\n",
              "  .colab-df-quickchart:hover {\n",
              "    background-color: #E2EBFA;\n",
              "    box-shadow: 0px 1px 2px rgba(60, 64, 67, 0.3), 0px 1px 3px 1px rgba(60, 64, 67, 0.15);\n",
              "    fill: #174EA6;\n",
              "  }\n",
              "\n",
              "  [theme=dark] .colab-df-quickchart {\n",
              "    background-color: #3B4455;\n",
              "    fill: #D2E3FC;\n",
              "  }\n",
              "\n",
              "  [theme=dark] .colab-df-quickchart:hover {\n",
              "    background-color: #434B5C;\n",
              "    box-shadow: 0px 1px 3px 1px rgba(0, 0, 0, 0.15);\n",
              "    filter: drop-shadow(0px 1px 2px rgba(0, 0, 0, 0.3));\n",
              "    fill: #FFFFFF;\n",
              "  }\n",
              "</style>\n",
              "\n",
              "    <script>\n",
              "      async function quickchart(key) {\n",
              "        const containerElement = document.querySelector('#' + key);\n",
              "        const charts = await google.colab.kernel.invokeFunction(\n",
              "            'suggestCharts', [key], {});\n",
              "      }\n",
              "    </script>\n",
              "\n",
              "      <script>\n",
              "\n",
              "function displayQuickchartButton(domScope) {\n",
              "  let quickchartButtonEl =\n",
              "    domScope.querySelector('#df-355dc19a-60f3-4838-896c-333ea56012ee button.colab-df-quickchart');\n",
              "  quickchartButtonEl.style.display =\n",
              "    google.colab.kernel.accessAllowed ? 'block' : 'none';\n",
              "}\n",
              "\n",
              "        displayQuickchartButton(document);\n",
              "      </script>\n",
              "      <style>\n",
              "    .colab-df-container {\n",
              "      display:flex;\n",
              "      flex-wrap:wrap;\n",
              "      gap: 12px;\n",
              "    }\n",
              "\n",
              "    .colab-df-convert {\n",
              "      background-color: #E8F0FE;\n",
              "      border: none;\n",
              "      border-radius: 50%;\n",
              "      cursor: pointer;\n",
              "      display: none;\n",
              "      fill: #1967D2;\n",
              "      height: 32px;\n",
              "      padding: 0 0 0 0;\n",
              "      width: 32px;\n",
              "    }\n",
              "\n",
              "    .colab-df-convert:hover {\n",
              "      background-color: #E2EBFA;\n",
              "      box-shadow: 0px 1px 2px rgba(60, 64, 67, 0.3), 0px 1px 3px 1px rgba(60, 64, 67, 0.15);\n",
              "      fill: #174EA6;\n",
              "    }\n",
              "\n",
              "    [theme=dark] .colab-df-convert {\n",
              "      background-color: #3B4455;\n",
              "      fill: #D2E3FC;\n",
              "    }\n",
              "\n",
              "    [theme=dark] .colab-df-convert:hover {\n",
              "      background-color: #434B5C;\n",
              "      box-shadow: 0px 1px 3px 1px rgba(0, 0, 0, 0.15);\n",
              "      filter: drop-shadow(0px 1px 2px rgba(0, 0, 0, 0.3));\n",
              "      fill: #FFFFFF;\n",
              "    }\n",
              "  </style>\n",
              "\n",
              "      <script>\n",
              "        const buttonEl =\n",
              "          document.querySelector('#df-1d9a6b54-5a4e-4a36-98b2-4657fffe7e73 button.colab-df-convert');\n",
              "        buttonEl.style.display =\n",
              "          google.colab.kernel.accessAllowed ? 'block' : 'none';\n",
              "\n",
              "        async function convertToInteractive(key) {\n",
              "          const element = document.querySelector('#df-1d9a6b54-5a4e-4a36-98b2-4657fffe7e73');\n",
              "          const dataTable =\n",
              "            await google.colab.kernel.invokeFunction('convertToInteractive',\n",
              "                                                     [key], {});\n",
              "          if (!dataTable) return;\n",
              "\n",
              "          const docLinkHtml = 'Like what you see? Visit the ' +\n",
              "            '<a target=\"_blank\" href=https://colab.research.google.com/notebooks/data_table.ipynb>data table notebook</a>'\n",
              "            + ' to learn more about interactive tables.';\n",
              "          element.innerHTML = '';\n",
              "          dataTable['output_type'] = 'display_data';\n",
              "          await google.colab.output.renderOutput(dataTable, element);\n",
              "          const docLink = document.createElement('div');\n",
              "          docLink.innerHTML = docLinkHtml;\n",
              "          element.appendChild(docLink);\n",
              "        }\n",
              "      </script>\n",
              "    </div>\n",
              "  </div>\n"
            ]
          },
          "metadata": {},
          "execution_count": 244
        }
      ]
    },
    {
      "cell_type": "markdown",
      "source": [
        "dropping unique values because they are of no use"
      ],
      "metadata": {
        "id": "0VUw2NevonrJ"
      }
    },
    {
      "cell_type": "code",
      "source": [
        "df.drop(columns=[\"RowNumber\",\"CustomerId\",\"Surname\"],inplace=True)\n"
      ],
      "metadata": {
        "id": "Xa82-xoj1HhB"
      },
      "execution_count": 245,
      "outputs": []
    },
    {
      "cell_type": "markdown",
      "source": [
        "Renaming Exited to churned"
      ],
      "metadata": {
        "id": "5XFaQZl4ot0Z"
      }
    },
    {
      "cell_type": "code",
      "source": [
        "df.rename(columns={\"Exited\":\"Churned\"},inplace=True)"
      ],
      "metadata": {
        "id": "bn04X_Lo1N9Z"
      },
      "execution_count": 246,
      "outputs": []
    },
    {
      "cell_type": "markdown",
      "source": [
        "replacing Churned values from 0,1 to yes/no"
      ],
      "metadata": {
        "id": "E_7HtQdvoy1B"
      }
    },
    {
      "cell_type": "code",
      "source": [
        "df[\"Churned\"].replace({0:\"No\",1:\"Yes\"},inplace=True)"
      ],
      "metadata": {
        "id": "15GZGaUJ1ULf"
      },
      "execution_count": 247,
      "outputs": []
    },
    {
      "cell_type": "code",
      "source": [
        "df.head()\n"
      ],
      "metadata": {
        "colab": {
          "base_uri": "https://localhost:8080/",
          "height": 206
        },
        "id": "SWU42L351XJI",
        "outputId": "b01b0251-e3d1-4bb5-ed67-fa623f629075"
      },
      "execution_count": 248,
      "outputs": [
        {
          "output_type": "execute_result",
          "data": {
            "text/plain": [
              "   CreditScore Geography  Gender  Age  Tenure    Balance  NumOfProducts  \\\n",
              "0          619    France  Female   42       2       0.00              1   \n",
              "1          608     Spain  Female   41       1   83807.86              1   \n",
              "2          502    France  Female   42       8  159660.80              3   \n",
              "3          699    France  Female   39       1       0.00              2   \n",
              "4          850     Spain  Female   43       2  125510.82              1   \n",
              "\n",
              "   HasCrCard  IsActiveMember  EstimatedSalary Churned  \n",
              "0          1               1        101348.88     Yes  \n",
              "1          0               1        112542.58      No  \n",
              "2          1               0        113931.57     Yes  \n",
              "3          0               0         93826.63      No  \n",
              "4          1               1         79084.10      No  "
            ],
            "text/html": [
              "\n",
              "\n",
              "  <div id=\"df-b805cd7e-c1ad-4ae7-b356-5c416cc2a4ff\">\n",
              "    <div class=\"colab-df-container\">\n",
              "      <div>\n",
              "<style scoped>\n",
              "    .dataframe tbody tr th:only-of-type {\n",
              "        vertical-align: middle;\n",
              "    }\n",
              "\n",
              "    .dataframe tbody tr th {\n",
              "        vertical-align: top;\n",
              "    }\n",
              "\n",
              "    .dataframe thead th {\n",
              "        text-align: right;\n",
              "    }\n",
              "</style>\n",
              "<table border=\"1\" class=\"dataframe\">\n",
              "  <thead>\n",
              "    <tr style=\"text-align: right;\">\n",
              "      <th></th>\n",
              "      <th>CreditScore</th>\n",
              "      <th>Geography</th>\n",
              "      <th>Gender</th>\n",
              "      <th>Age</th>\n",
              "      <th>Tenure</th>\n",
              "      <th>Balance</th>\n",
              "      <th>NumOfProducts</th>\n",
              "      <th>HasCrCard</th>\n",
              "      <th>IsActiveMember</th>\n",
              "      <th>EstimatedSalary</th>\n",
              "      <th>Churned</th>\n",
              "    </tr>\n",
              "  </thead>\n",
              "  <tbody>\n",
              "    <tr>\n",
              "      <th>0</th>\n",
              "      <td>619</td>\n",
              "      <td>France</td>\n",
              "      <td>Female</td>\n",
              "      <td>42</td>\n",
              "      <td>2</td>\n",
              "      <td>0.00</td>\n",
              "      <td>1</td>\n",
              "      <td>1</td>\n",
              "      <td>1</td>\n",
              "      <td>101348.88</td>\n",
              "      <td>Yes</td>\n",
              "    </tr>\n",
              "    <tr>\n",
              "      <th>1</th>\n",
              "      <td>608</td>\n",
              "      <td>Spain</td>\n",
              "      <td>Female</td>\n",
              "      <td>41</td>\n",
              "      <td>1</td>\n",
              "      <td>83807.86</td>\n",
              "      <td>1</td>\n",
              "      <td>0</td>\n",
              "      <td>1</td>\n",
              "      <td>112542.58</td>\n",
              "      <td>No</td>\n",
              "    </tr>\n",
              "    <tr>\n",
              "      <th>2</th>\n",
              "      <td>502</td>\n",
              "      <td>France</td>\n",
              "      <td>Female</td>\n",
              "      <td>42</td>\n",
              "      <td>8</td>\n",
              "      <td>159660.80</td>\n",
              "      <td>3</td>\n",
              "      <td>1</td>\n",
              "      <td>0</td>\n",
              "      <td>113931.57</td>\n",
              "      <td>Yes</td>\n",
              "    </tr>\n",
              "    <tr>\n",
              "      <th>3</th>\n",
              "      <td>699</td>\n",
              "      <td>France</td>\n",
              "      <td>Female</td>\n",
              "      <td>39</td>\n",
              "      <td>1</td>\n",
              "      <td>0.00</td>\n",
              "      <td>2</td>\n",
              "      <td>0</td>\n",
              "      <td>0</td>\n",
              "      <td>93826.63</td>\n",
              "      <td>No</td>\n",
              "    </tr>\n",
              "    <tr>\n",
              "      <th>4</th>\n",
              "      <td>850</td>\n",
              "      <td>Spain</td>\n",
              "      <td>Female</td>\n",
              "      <td>43</td>\n",
              "      <td>2</td>\n",
              "      <td>125510.82</td>\n",
              "      <td>1</td>\n",
              "      <td>1</td>\n",
              "      <td>1</td>\n",
              "      <td>79084.10</td>\n",
              "      <td>No</td>\n",
              "    </tr>\n",
              "  </tbody>\n",
              "</table>\n",
              "</div>\n",
              "      <button class=\"colab-df-convert\" onclick=\"convertToInteractive('df-b805cd7e-c1ad-4ae7-b356-5c416cc2a4ff')\"\n",
              "              title=\"Convert this dataframe to an interactive table.\"\n",
              "              style=\"display:none;\">\n",
              "\n",
              "  <svg xmlns=\"http://www.w3.org/2000/svg\" height=\"24px\"viewBox=\"0 0 24 24\"\n",
              "       width=\"24px\">\n",
              "    <path d=\"M0 0h24v24H0V0z\" fill=\"none\"/>\n",
              "    <path d=\"M18.56 5.44l.94 2.06.94-2.06 2.06-.94-2.06-.94-.94-2.06-.94 2.06-2.06.94zm-11 1L8.5 8.5l.94-2.06 2.06-.94-2.06-.94L8.5 2.5l-.94 2.06-2.06.94zm10 10l.94 2.06.94-2.06 2.06-.94-2.06-.94-.94-2.06-.94 2.06-2.06.94z\"/><path d=\"M17.41 7.96l-1.37-1.37c-.4-.4-.92-.59-1.43-.59-.52 0-1.04.2-1.43.59L10.3 9.45l-7.72 7.72c-.78.78-.78 2.05 0 2.83L4 21.41c.39.39.9.59 1.41.59.51 0 1.02-.2 1.41-.59l7.78-7.78 2.81-2.81c.8-.78.8-2.07 0-2.86zM5.41 20L4 18.59l7.72-7.72 1.47 1.35L5.41 20z\"/>\n",
              "  </svg>\n",
              "      </button>\n",
              "\n",
              "\n",
              "\n",
              "    <div id=\"df-8a1f61a0-c652-49eb-8658-c10a2de61f9c\">\n",
              "      <button class=\"colab-df-quickchart\" onclick=\"quickchart('df-8a1f61a0-c652-49eb-8658-c10a2de61f9c')\"\n",
              "              title=\"Suggest charts.\"\n",
              "              style=\"display:none;\">\n",
              "\n",
              "<svg xmlns=\"http://www.w3.org/2000/svg\" height=\"24px\"viewBox=\"0 0 24 24\"\n",
              "     width=\"24px\">\n",
              "    <g>\n",
              "        <path d=\"M19 3H5c-1.1 0-2 .9-2 2v14c0 1.1.9 2 2 2h14c1.1 0 2-.9 2-2V5c0-1.1-.9-2-2-2zM9 17H7v-7h2v7zm4 0h-2V7h2v10zm4 0h-2v-4h2v4z\"/>\n",
              "    </g>\n",
              "</svg>\n",
              "      </button>\n",
              "    </div>\n",
              "\n",
              "<style>\n",
              "  .colab-df-quickchart {\n",
              "    background-color: #E8F0FE;\n",
              "    border: none;\n",
              "    border-radius: 50%;\n",
              "    cursor: pointer;\n",
              "    display: none;\n",
              "    fill: #1967D2;\n",
              "    height: 32px;\n",
              "    padding: 0 0 0 0;\n",
              "    width: 32px;\n",
              "  }\n",
              "\n",
              "  .colab-df-quickchart:hover {\n",
              "    background-color: #E2EBFA;\n",
              "    box-shadow: 0px 1px 2px rgba(60, 64, 67, 0.3), 0px 1px 3px 1px rgba(60, 64, 67, 0.15);\n",
              "    fill: #174EA6;\n",
              "  }\n",
              "\n",
              "  [theme=dark] .colab-df-quickchart {\n",
              "    background-color: #3B4455;\n",
              "    fill: #D2E3FC;\n",
              "  }\n",
              "\n",
              "  [theme=dark] .colab-df-quickchart:hover {\n",
              "    background-color: #434B5C;\n",
              "    box-shadow: 0px 1px 3px 1px rgba(0, 0, 0, 0.15);\n",
              "    filter: drop-shadow(0px 1px 2px rgba(0, 0, 0, 0.3));\n",
              "    fill: #FFFFFF;\n",
              "  }\n",
              "</style>\n",
              "\n",
              "    <script>\n",
              "      async function quickchart(key) {\n",
              "        const containerElement = document.querySelector('#' + key);\n",
              "        const charts = await google.colab.kernel.invokeFunction(\n",
              "            'suggestCharts', [key], {});\n",
              "      }\n",
              "    </script>\n",
              "\n",
              "      <script>\n",
              "\n",
              "function displayQuickchartButton(domScope) {\n",
              "  let quickchartButtonEl =\n",
              "    domScope.querySelector('#df-8a1f61a0-c652-49eb-8658-c10a2de61f9c button.colab-df-quickchart');\n",
              "  quickchartButtonEl.style.display =\n",
              "    google.colab.kernel.accessAllowed ? 'block' : 'none';\n",
              "}\n",
              "\n",
              "        displayQuickchartButton(document);\n",
              "      </script>\n",
              "      <style>\n",
              "    .colab-df-container {\n",
              "      display:flex;\n",
              "      flex-wrap:wrap;\n",
              "      gap: 12px;\n",
              "    }\n",
              "\n",
              "    .colab-df-convert {\n",
              "      background-color: #E8F0FE;\n",
              "      border: none;\n",
              "      border-radius: 50%;\n",
              "      cursor: pointer;\n",
              "      display: none;\n",
              "      fill: #1967D2;\n",
              "      height: 32px;\n",
              "      padding: 0 0 0 0;\n",
              "      width: 32px;\n",
              "    }\n",
              "\n",
              "    .colab-df-convert:hover {\n",
              "      background-color: #E2EBFA;\n",
              "      box-shadow: 0px 1px 2px rgba(60, 64, 67, 0.3), 0px 1px 3px 1px rgba(60, 64, 67, 0.15);\n",
              "      fill: #174EA6;\n",
              "    }\n",
              "\n",
              "    [theme=dark] .colab-df-convert {\n",
              "      background-color: #3B4455;\n",
              "      fill: #D2E3FC;\n",
              "    }\n",
              "\n",
              "    [theme=dark] .colab-df-convert:hover {\n",
              "      background-color: #434B5C;\n",
              "      box-shadow: 0px 1px 3px 1px rgba(0, 0, 0, 0.15);\n",
              "      filter: drop-shadow(0px 1px 2px rgba(0, 0, 0, 0.3));\n",
              "      fill: #FFFFFF;\n",
              "    }\n",
              "  </style>\n",
              "\n",
              "      <script>\n",
              "        const buttonEl =\n",
              "          document.querySelector('#df-b805cd7e-c1ad-4ae7-b356-5c416cc2a4ff button.colab-df-convert');\n",
              "        buttonEl.style.display =\n",
              "          google.colab.kernel.accessAllowed ? 'block' : 'none';\n",
              "\n",
              "        async function convertToInteractive(key) {\n",
              "          const element = document.querySelector('#df-b805cd7e-c1ad-4ae7-b356-5c416cc2a4ff');\n",
              "          const dataTable =\n",
              "            await google.colab.kernel.invokeFunction('convertToInteractive',\n",
              "                                                     [key], {});\n",
              "          if (!dataTable) return;\n",
              "\n",
              "          const docLinkHtml = 'Like what you see? Visit the ' +\n",
              "            '<a target=\"_blank\" href=https://colab.research.google.com/notebooks/data_table.ipynb>data table notebook</a>'\n",
              "            + ' to learn more about interactive tables.';\n",
              "          element.innerHTML = '';\n",
              "          dataTable['output_type'] = 'display_data';\n",
              "          await google.colab.output.renderOutput(dataTable, element);\n",
              "          const docLink = document.createElement('div');\n",
              "          docLink.innerHTML = docLinkHtml;\n",
              "          element.appendChild(docLink);\n",
              "        }\n",
              "      </script>\n",
              "    </div>\n",
              "  </div>\n"
            ]
          },
          "metadata": {},
          "execution_count": 248
        }
      ]
    },
    {
      "cell_type": "code",
      "source": [
        "import seaborn as sns #to make statistical graphs\n",
        "import matplotlib.pyplot as plt #for creating static, animated, and interactive visualizations\n",
        "# Seaborn is a visualization library that is built on top of Matplotlib"
      ],
      "metadata": {
        "id": "psss-wK11YhK"
      },
      "execution_count": 249,
      "outputs": []
    },
    {
      "cell_type": "markdown",
      "source": [
        "scikit-learn is a free software machine learning library for the Python programming language. It features various classification, regression and clustering algorithms"
      ],
      "metadata": {
        "id": "lI-ojCzwibS5"
      }
    },
    {
      "cell_type": "markdown",
      "source": [],
      "metadata": {
        "id": "gPrgoJSniOjz"
      }
    },
    {
      "cell_type": "code",
      "source": [
        "from scipy import stats #probabilistic distributions and statistical operations\n",
        "import warnings\n",
        "warnings.filterwarnings(\"ignore\")\n",
        "sns.set(style=\"darkgrid\",font_scale=1.5)\n",
        "\n",
        "from sklearn.tree import DecisionTreeClassifier # rule-based approach to classification and regression problems.\n",
        "from sklearn.ensemble import RandomForestClassifier #classification and regression\n",
        "\n",
        "from sklearn.preprocessing import LabelEncoder, OneHotEncoder\n",
        "from sklearn.model_selection import train_test_split, GridSearchCV\n",
        "from sklearn.metrics import accuracy_score, precision_score, recall_score ,f1_score\n",
        "from sklearn.metrics import confusion_matrix, roc_curve, roc_auc_score"
      ],
      "metadata": {
        "id": "s2RLiONN3for"
      },
      "execution_count": 250,
      "outputs": []
    },
    {
      "cell_type": "code",
      "source": [
        "#checking outliers\n",
        "zscore = stats.zscore(df[['CreditScore', 'Balance', 'EstimatedSalary']])\n",
        "outliers = zscore[np.abs(zscore.values)>3]\n",
        "outliers"
      ],
      "metadata": {
        "colab": {
          "base_uri": "https://localhost:8080/",
          "height": 300
        },
        "id": "8piY8DLmluNM",
        "outputId": "f3355ebb-5ff2-46b2-d338-731f0f519c7b"
      },
      "execution_count": 251,
      "outputs": [
        {
          "output_type": "execute_result",
          "data": {
            "text/plain": [
              "      CreditScore   Balance  EstimatedSalary\n",
              "1405    -3.016383  0.837606         0.814944\n",
              "1631    -3.109504  1.221131         1.597758\n",
              "1838    -3.109504  0.532858         0.408848\n",
              "1962    -3.026730  1.074721         0.728058\n",
              "2473    -3.099157  1.388918         1.209082\n",
              "8723    -3.109504 -1.225848         0.447481\n",
              "8762    -3.109504 -1.225848         0.238332\n",
              "9624    -3.109504  0.554746         1.256024"
            ],
            "text/html": [
              "\n",
              "\n",
              "  <div id=\"df-7347c417-2a8b-4bfb-a2b9-b02908d8906d\">\n",
              "    <div class=\"colab-df-container\">\n",
              "      <div>\n",
              "<style scoped>\n",
              "    .dataframe tbody tr th:only-of-type {\n",
              "        vertical-align: middle;\n",
              "    }\n",
              "\n",
              "    .dataframe tbody tr th {\n",
              "        vertical-align: top;\n",
              "    }\n",
              "\n",
              "    .dataframe thead th {\n",
              "        text-align: right;\n",
              "    }\n",
              "</style>\n",
              "<table border=\"1\" class=\"dataframe\">\n",
              "  <thead>\n",
              "    <tr style=\"text-align: right;\">\n",
              "      <th></th>\n",
              "      <th>CreditScore</th>\n",
              "      <th>Balance</th>\n",
              "      <th>EstimatedSalary</th>\n",
              "    </tr>\n",
              "  </thead>\n",
              "  <tbody>\n",
              "    <tr>\n",
              "      <th>1405</th>\n",
              "      <td>-3.016383</td>\n",
              "      <td>0.837606</td>\n",
              "      <td>0.814944</td>\n",
              "    </tr>\n",
              "    <tr>\n",
              "      <th>1631</th>\n",
              "      <td>-3.109504</td>\n",
              "      <td>1.221131</td>\n",
              "      <td>1.597758</td>\n",
              "    </tr>\n",
              "    <tr>\n",
              "      <th>1838</th>\n",
              "      <td>-3.109504</td>\n",
              "      <td>0.532858</td>\n",
              "      <td>0.408848</td>\n",
              "    </tr>\n",
              "    <tr>\n",
              "      <th>1962</th>\n",
              "      <td>-3.026730</td>\n",
              "      <td>1.074721</td>\n",
              "      <td>0.728058</td>\n",
              "    </tr>\n",
              "    <tr>\n",
              "      <th>2473</th>\n",
              "      <td>-3.099157</td>\n",
              "      <td>1.388918</td>\n",
              "      <td>1.209082</td>\n",
              "    </tr>\n",
              "    <tr>\n",
              "      <th>8723</th>\n",
              "      <td>-3.109504</td>\n",
              "      <td>-1.225848</td>\n",
              "      <td>0.447481</td>\n",
              "    </tr>\n",
              "    <tr>\n",
              "      <th>8762</th>\n",
              "      <td>-3.109504</td>\n",
              "      <td>-1.225848</td>\n",
              "      <td>0.238332</td>\n",
              "    </tr>\n",
              "    <tr>\n",
              "      <th>9624</th>\n",
              "      <td>-3.109504</td>\n",
              "      <td>0.554746</td>\n",
              "      <td>1.256024</td>\n",
              "    </tr>\n",
              "  </tbody>\n",
              "</table>\n",
              "</div>\n",
              "      <button class=\"colab-df-convert\" onclick=\"convertToInteractive('df-7347c417-2a8b-4bfb-a2b9-b02908d8906d')\"\n",
              "              title=\"Convert this dataframe to an interactive table.\"\n",
              "              style=\"display:none;\">\n",
              "\n",
              "  <svg xmlns=\"http://www.w3.org/2000/svg\" height=\"24px\"viewBox=\"0 0 24 24\"\n",
              "       width=\"24px\">\n",
              "    <path d=\"M0 0h24v24H0V0z\" fill=\"none\"/>\n",
              "    <path d=\"M18.56 5.44l.94 2.06.94-2.06 2.06-.94-2.06-.94-.94-2.06-.94 2.06-2.06.94zm-11 1L8.5 8.5l.94-2.06 2.06-.94-2.06-.94L8.5 2.5l-.94 2.06-2.06.94zm10 10l.94 2.06.94-2.06 2.06-.94-2.06-.94-.94-2.06-.94 2.06-2.06.94z\"/><path d=\"M17.41 7.96l-1.37-1.37c-.4-.4-.92-.59-1.43-.59-.52 0-1.04.2-1.43.59L10.3 9.45l-7.72 7.72c-.78.78-.78 2.05 0 2.83L4 21.41c.39.39.9.59 1.41.59.51 0 1.02-.2 1.41-.59l7.78-7.78 2.81-2.81c.8-.78.8-2.07 0-2.86zM5.41 20L4 18.59l7.72-7.72 1.47 1.35L5.41 20z\"/>\n",
              "  </svg>\n",
              "      </button>\n",
              "\n",
              "\n",
              "\n",
              "    <div id=\"df-cce8545e-1ace-4562-a419-cb92725d40b7\">\n",
              "      <button class=\"colab-df-quickchart\" onclick=\"quickchart('df-cce8545e-1ace-4562-a419-cb92725d40b7')\"\n",
              "              title=\"Suggest charts.\"\n",
              "              style=\"display:none;\">\n",
              "\n",
              "<svg xmlns=\"http://www.w3.org/2000/svg\" height=\"24px\"viewBox=\"0 0 24 24\"\n",
              "     width=\"24px\">\n",
              "    <g>\n",
              "        <path d=\"M19 3H5c-1.1 0-2 .9-2 2v14c0 1.1.9 2 2 2h14c1.1 0 2-.9 2-2V5c0-1.1-.9-2-2-2zM9 17H7v-7h2v7zm4 0h-2V7h2v10zm4 0h-2v-4h2v4z\"/>\n",
              "    </g>\n",
              "</svg>\n",
              "      </button>\n",
              "    </div>\n",
              "\n",
              "<style>\n",
              "  .colab-df-quickchart {\n",
              "    background-color: #E8F0FE;\n",
              "    border: none;\n",
              "    border-radius: 50%;\n",
              "    cursor: pointer;\n",
              "    display: none;\n",
              "    fill: #1967D2;\n",
              "    height: 32px;\n",
              "    padding: 0 0 0 0;\n",
              "    width: 32px;\n",
              "  }\n",
              "\n",
              "  .colab-df-quickchart:hover {\n",
              "    background-color: #E2EBFA;\n",
              "    box-shadow: 0px 1px 2px rgba(60, 64, 67, 0.3), 0px 1px 3px 1px rgba(60, 64, 67, 0.15);\n",
              "    fill: #174EA6;\n",
              "  }\n",
              "\n",
              "  [theme=dark] .colab-df-quickchart {\n",
              "    background-color: #3B4455;\n",
              "    fill: #D2E3FC;\n",
              "  }\n",
              "\n",
              "  [theme=dark] .colab-df-quickchart:hover {\n",
              "    background-color: #434B5C;\n",
              "    box-shadow: 0px 1px 3px 1px rgba(0, 0, 0, 0.15);\n",
              "    filter: drop-shadow(0px 1px 2px rgba(0, 0, 0, 0.3));\n",
              "    fill: #FFFFFF;\n",
              "  }\n",
              "</style>\n",
              "\n",
              "    <script>\n",
              "      async function quickchart(key) {\n",
              "        const containerElement = document.querySelector('#' + key);\n",
              "        const charts = await google.colab.kernel.invokeFunction(\n",
              "            'suggestCharts', [key], {});\n",
              "      }\n",
              "    </script>\n",
              "\n",
              "      <script>\n",
              "\n",
              "function displayQuickchartButton(domScope) {\n",
              "  let quickchartButtonEl =\n",
              "    domScope.querySelector('#df-cce8545e-1ace-4562-a419-cb92725d40b7 button.colab-df-quickchart');\n",
              "  quickchartButtonEl.style.display =\n",
              "    google.colab.kernel.accessAllowed ? 'block' : 'none';\n",
              "}\n",
              "\n",
              "        displayQuickchartButton(document);\n",
              "      </script>\n",
              "      <style>\n",
              "    .colab-df-container {\n",
              "      display:flex;\n",
              "      flex-wrap:wrap;\n",
              "      gap: 12px;\n",
              "    }\n",
              "\n",
              "    .colab-df-convert {\n",
              "      background-color: #E8F0FE;\n",
              "      border: none;\n",
              "      border-radius: 50%;\n",
              "      cursor: pointer;\n",
              "      display: none;\n",
              "      fill: #1967D2;\n",
              "      height: 32px;\n",
              "      padding: 0 0 0 0;\n",
              "      width: 32px;\n",
              "    }\n",
              "\n",
              "    .colab-df-convert:hover {\n",
              "      background-color: #E2EBFA;\n",
              "      box-shadow: 0px 1px 2px rgba(60, 64, 67, 0.3), 0px 1px 3px 1px rgba(60, 64, 67, 0.15);\n",
              "      fill: #174EA6;\n",
              "    }\n",
              "\n",
              "    [theme=dark] .colab-df-convert {\n",
              "      background-color: #3B4455;\n",
              "      fill: #D2E3FC;\n",
              "    }\n",
              "\n",
              "    [theme=dark] .colab-df-convert:hover {\n",
              "      background-color: #434B5C;\n",
              "      box-shadow: 0px 1px 3px 1px rgba(0, 0, 0, 0.15);\n",
              "      filter: drop-shadow(0px 1px 2px rgba(0, 0, 0, 0.3));\n",
              "      fill: #FFFFFF;\n",
              "    }\n",
              "  </style>\n",
              "\n",
              "      <script>\n",
              "        const buttonEl =\n",
              "          document.querySelector('#df-7347c417-2a8b-4bfb-a2b9-b02908d8906d button.colab-df-convert');\n",
              "        buttonEl.style.display =\n",
              "          google.colab.kernel.accessAllowed ? 'block' : 'none';\n",
              "\n",
              "        async function convertToInteractive(key) {\n",
              "          const element = document.querySelector('#df-7347c417-2a8b-4bfb-a2b9-b02908d8906d');\n",
              "          const dataTable =\n",
              "            await google.colab.kernel.invokeFunction('convertToInteractive',\n",
              "                                                     [key], {});\n",
              "          if (!dataTable) return;\n",
              "\n",
              "          const docLinkHtml = 'Like what you see? Visit the ' +\n",
              "            '<a target=\"_blank\" href=https://colab.research.google.com/notebooks/data_table.ipynb>data table notebook</a>'\n",
              "            + ' to learn more about interactive tables.';\n",
              "          element.innerHTML = '';\n",
              "          dataTable['output_type'] = 'display_data';\n",
              "          await google.colab.output.renderOutput(dataTable, element);\n",
              "          const docLink = document.createElement('div');\n",
              "          docLink.innerHTML = docLinkHtml;\n",
              "          element.appendChild(docLink);\n",
              "        }\n",
              "      </script>\n",
              "    </div>\n",
              "  </div>\n"
            ]
          },
          "metadata": {},
          "execution_count": 251
        }
      ]
    },
    {
      "cell_type": "code",
      "source": [
        "plt.hist(zscore)\n",
        "plt.legend(zscore.columns)\n",
        "plt.show()"
      ],
      "metadata": {
        "colab": {
          "base_uri": "https://localhost:8080/",
          "height": 442
        },
        "id": "7mqJ6NTal7eh",
        "outputId": "b55c035d-ea01-4762-f252-854bd313d85b"
      },
      "execution_count": 252,
      "outputs": [
        {
          "output_type": "display_data",
          "data": {
            "text/plain": [
              "<Figure size 640x480 with 1 Axes>"
            ],
            "image/png": "[encoded data removed]"
          },
          "metadata": {}
        }
      ]
    },
    {
      "cell_type": "code",
      "source": [
        "def countplot(column):\n",
        "    mtp.figure(figsize=(10,3))\n",
        "    ax = sns.countplot(x=column, data=df, hue=\"Churned\",palette=\"Set1\")\n",
        "    for value in ax.patches:\n",
        "        percentage = \"{:.1f}%\".format(100*value.get_height()/len(df[column]))\n",
        "        x = value.get_x() + value.get_width() / 2 - 0.05\n",
        "        y = value.get_y() + value.get_height()\n",
        "        ax.annotate(percentage, (x,y), fontweight=\"black\",size=10)\n",
        "\n",
        "    mtp.title(f\"Customer Churned by {column}\",fontweight=\"black\",size=10,pad=10)\n",
        "    mtp.show()"
      ],
      "metadata": {
        "id": "Xqd_YqzM1krD"
      },
      "execution_count": 253,
      "outputs": []
    },
    {
      "cell_type": "code",
      "source": [
        "sns.boxplot(df.CreditScore)\n",
        "plt.show()\n",
        "#boxplot- used when outlier values are spread out and compare to each other"
      ],
      "metadata": {
        "colab": {
          "base_uri": "https://localhost:8080/",
          "height": 442
        },
        "id": "epnPCKW4lg72",
        "outputId": "418cd884-90c4-4aa2-d376-68dc686041d5"
      },
      "execution_count": 254,
      "outputs": [
        {
          "output_type": "display_data",
          "data": {
            "text/plain": [
              "<Figure size 640x480 with 1 Axes>"
            ],
            "image/png": "[encoded data removed]"
          },
          "metadata": {}
        }
      ]
    },
    {
      "cell_type": "code",
      "source": [
        "from sklearn.preprocessing import StandardScaler\n",
        "scaling_req = []\n",
        "for _ in df.columns:\n",
        "    if df[_].dtype!=object and df[_].max()-df[_].min()>=10:\n",
        "        scaling_req.append(_)\n",
        "\n",
        "scaling_req"
      ],
      "metadata": {
        "colab": {
          "base_uri": "https://localhost:8080/"
        },
        "id": "RLAThiMxmo7h",
        "outputId": "893fd21f-3a7d-4f37-b7d5-6eaea247d2c4"
      },
      "execution_count": 255,
      "outputs": [
        {
          "output_type": "execute_result",
          "data": {
            "text/plain": [
              "['CreditScore', 'Age', 'Tenure', 'Balance', 'EstimatedSalary']"
            ]
          },
          "metadata": {},
          "execution_count": 255
        }
      ]
    },
    {
      "cell_type": "code",
      "source": [
        "sc = StandardScaler()\n",
        "df[scaling_req] = sc.fit_transform(df[scaling_req])"
      ],
      "metadata": {
        "id": "t4-lSJb1mjs1"
      },
      "execution_count": 256,
      "outputs": []
    },
    {
      "cell_type": "code",
      "source": [
        "plt.figure(figsize=(17, 15))\n",
        "sns.heatmap(df.corr(), annot=True, cmap='jet')\n",
        "plt.show()"
      ],
      "metadata": {
        "colab": {
          "base_uri": "https://localhost:8080/",
          "height": 1000
        },
        "id": "l6cwTHXomGxk",
        "outputId": "eb4a6d18-063c-47f8-96b3-01575172d814"
      },
      "execution_count": 257,
      "outputs": [
        {
          "output_type": "display_data",
          "data": {
            "text/plain": [
              "<Figure size 1700x1500 with 2 Axes>"
            ],
            "image/png": "[encoded data removed]"
          },
          "metadata": {}
        }
      ]
    },
    {
      "cell_type": "markdown",
      "source": [
        "visualising customer churned by gender"
      ],
      "metadata": {
        "id": "QclqPtLR5SZV"
      }
    },
    {
      "cell_type": "code",
      "source": [
        "countplot(\"Gender\")"
      ],
      "metadata": {
        "colab": {
          "base_uri": "https://localhost:8080/",
          "height": 358
        },
        "id": "imiA_1YM3jrO",
        "outputId": "5f6f6b44-9fcf-426b-c447-6c6ed8b54487"
      },
      "execution_count": 258,
      "outputs": [
        {
          "output_type": "display_data",
          "data": {
            "text/plain": [
              "<Figure size 1000x300 with 1 Axes>"
            ],
            "image/png": "[encoded data removed]"
          },
          "metadata": {}
        }
      ]
    },
    {
      "cell_type": "code",
      "source": [],
      "metadata": {
        "id": "Xda5T5zy4VC9"
      },
      "execution_count": 258,
      "outputs": []
    },
    {
      "cell_type": "markdown",
      "source": [
        "Visualising customer churned by geography"
      ],
      "metadata": {
        "id": "nbERn6Lp8Bai"
      }
    },
    {
      "cell_type": "code",
      "source": [
        "countplot(\"Geography\")"
      ],
      "metadata": {
        "colab": {
          "base_uri": "https://localhost:8080/",
          "height": 358
        },
        "id": "DI4omyKp8FNx",
        "outputId": "b3a79a00-24ea-4a22-ab7d-a0b7eb25ba1d"
      },
      "execution_count": 259,
      "outputs": [
        {
          "output_type": "display_data",
          "data": {
            "text/plain": [
              "<Figure size 1000x300 with 1 Axes>"
            ],
            "image/png": "[encoded data removed]"
          },
          "metadata": {}
        }
      ]
    },
    {
      "cell_type": "markdown",
      "source": [
        "Visualising customer by hascrcard"
      ],
      "metadata": {
        "id": "-dessLQn8gY3"
      }
    },
    {
      "cell_type": "code",
      "source": [
        "countplot(\"HasCrCard\")"
      ],
      "metadata": {
        "colab": {
          "base_uri": "https://localhost:8080/",
          "height": 358
        },
        "id": "j3jI0xhF8M4l",
        "outputId": "2d4fcda5-5020-4566-89da-3b1fd12c9364"
      },
      "execution_count": 260,
      "outputs": [
        {
          "output_type": "display_data",
          "data": {
            "text/plain": [
              "<Figure size 1000x300 with 1 Axes>"
            ],
            "image/png": "[encoded data removed]"
          },
          "metadata": {}
        }
      ]
    },
    {
      "cell_type": "markdown",
      "source": [
        " Visualizing Customer Churned by \"NumOfProducts\"."
      ],
      "metadata": {
        "id": "egDid8Tg-9BM"
      }
    },
    {
      "cell_type": "code",
      "source": [
        "countplot(\"NumOfProducts\")"
      ],
      "metadata": {
        "colab": {
          "base_uri": "https://localhost:8080/",
          "height": 358
        },
        "id": "QdP0gfwo8a3J",
        "outputId": "295ad67e-a466-4314-ce21-c76e7997215b"
      },
      "execution_count": 261,
      "outputs": [
        {
          "output_type": "display_data",
          "data": {
            "text/plain": [
              "<Figure size 1000x300 with 1 Axes>"
            ],
            "image/png": "[encoded data removed]"
          },
          "metadata": {}
        }
      ]
    },
    {
      "cell_type": "markdown",
      "source": [
        "visualising customer by 'IsActiveMember'"
      ],
      "metadata": {
        "id": "_TF1CQhL_KVR"
      }
    },
    {
      "cell_type": "code",
      "source": [
        "  countplot(\"IsActiveMember\")"
      ],
      "metadata": {
        "colab": {
          "base_uri": "https://localhost:8080/",
          "height": 358
        },
        "id": "qDDNutUW---Q",
        "outputId": "56a1ab2e-cc06-45ed-bedf-34e722050023"
      },
      "execution_count": 262,
      "outputs": [
        {
          "output_type": "display_data",
          "data": {
            "text/plain": [
              "<Figure size 1000x300 with 1 Axes>"
            ],
            "image/png": "[encoded data removed]"
          },
          "metadata": {}
        }
      ]
    },
    {
      "cell_type": "code",
      "source": [
        "plt.figure(figsize=(20,5))\n",
        "ax = sns.countplot(x=\"Tenure\", data=df, hue=\"Churned\",palette=\"Set1\")\n",
        "for value in ax.patches:\n",
        "    percentage = \"{:.1f}%\".format(100*value.get_height()/len(df[\"Tenure\"]))\n",
        "    x = value.get_x() + value.get_width() / 2 - 0.05\n",
        "    y = value.get_y() + value.get_height()\n",
        "    ax.annotate(percentage, (x,y), fontweight=\"black\",size=12, ha=\"center\")\n",
        "\n",
        "plt.title(\"Customer Churned by Tenure\",fontweight=\"black\",size=20,pad=20)\n",
        "plt.show()"
      ],
      "metadata": {
        "colab": {
          "base_uri": "https://localhost:8080/",
          "height": 461
        },
        "id": "9kwvpT3A_B-2",
        "outputId": "876f6d55-dbbf-4089-8d25-1810585be286"
      },
      "execution_count": 278,
      "outputs": [
        {
          "output_type": "display_data",
          "data": {
            "text/plain": [
              "<Figure size 2000x500 with 1 Axes>"
            ],
            "image/png": "[encoded data removed]"
          },
          "metadata": {}
        }
      ]
    },
    {
      "cell_type": "code",
      "source": [
        "from sklearn.preprocessing import LabelEncoder\n",
        "for col in df.columns:\n",
        "  le=LabelEncoder()\n",
        "  df[col]=le.fit_transform(df[col])\n",
        "\n",
        "  #Label encoding is a simple and effective way to convert categorical variables into numerical form"
      ],
      "metadata": {
        "id": "lqtrXeqeA753"
      },
      "execution_count": 264,
      "outputs": []
    },
    {
      "cell_type": "code",
      "source": [
        "df.head()"
      ],
      "metadata": {
        "colab": {
          "base_uri": "https://localhost:8080/",
          "height": 206
        },
        "id": "Ne1nN4LyEFSD",
        "outputId": "74c1b422-18fb-48a5-ae49-841153987f5e"
      },
      "execution_count": 265,
      "outputs": [
        {
          "output_type": "execute_result",
          "data": {
            "text/plain": [
              "   CreditScore  Geography  Gender  Age  Tenure  Balance  NumOfProducts  \\\n",
              "0          228          0       0   24       2        0              0   \n",
              "1          217          2       0   23       1      743              0   \n",
              "2          111          0       0   24       8     5793              2   \n",
              "3          308          0       0   21       1        0              1   \n",
              "4          459          2       0   25       2     3696              0   \n",
              "\n",
              "   HasCrCard  IsActiveMember  EstimatedSalary  Churned  \n",
              "0          1               1             5068        1  \n",
              "1          0               1             5639        0  \n",
              "2          1               0             5707        1  \n",
              "3          0               0             4704        0  \n",
              "4          1               1             3925        0  "
            ],
            "text/html": [
              "\n",
              "\n",
              "  <div id=\"df-d7d11908-1f7d-4a62-9f44-a3cbb2d62c47\">\n",
              "    <div class=\"colab-df-container\">\n",
              "      <div>\n",
              "<style scoped>\n",
              "    .dataframe tbody tr th:only-of-type {\n",
              "        vertical-align: middle;\n",
              "    }\n",
              "\n",
              "    .dataframe tbody tr th {\n",
              "        vertical-align: top;\n",
              "    }\n",
              "\n",
              "    .dataframe thead th {\n",
              "        text-align: right;\n",
              "    }\n",
              "</style>\n",
              "<table border=\"1\" class=\"dataframe\">\n",
              "  <thead>\n",
              "    <tr style=\"text-align: right;\">\n",
              "      <th></th>\n",
              "      <th>CreditScore</th>\n",
              "      <th>Geography</th>\n",
              "      <th>Gender</th>\n",
              "      <th>Age</th>\n",
              "      <th>Tenure</th>\n",
              "      <th>Balance</th>\n",
              "      <th>NumOfProducts</th>\n",
              "      <th>HasCrCard</th>\n",
              "      <th>IsActiveMember</th>\n",
              "      <th>EstimatedSalary</th>\n",
              "      <th>Churned</th>\n",
              "    </tr>\n",
              "  </thead>\n",
              "  <tbody>\n",
              "    <tr>\n",
              "      <th>0</th>\n",
              "      <td>228</td>\n",
              "      <td>0</td>\n",
              "      <td>0</td>\n",
              "      <td>24</td>\n",
              "      <td>2</td>\n",
              "      <td>0</td>\n",
              "      <td>0</td>\n",
              "      <td>1</td>\n",
              "      <td>1</td>\n",
              "      <td>5068</td>\n",
              "      <td>1</td>\n",
              "    </tr>\n",
              "    <tr>\n",
              "      <th>1</th>\n",
              "      <td>217</td>\n",
              "      <td>2</td>\n",
              "      <td>0</td>\n",
              "      <td>23</td>\n",
              "      <td>1</td>\n",
              "      <td>743</td>\n",
              "      <td>0</td>\n",
              "      <td>0</td>\n",
              "      <td>1</td>\n",
              "      <td>5639</td>\n",
              "      <td>0</td>\n",
              "    </tr>\n",
              "    <tr>\n",
              "      <th>2</th>\n",
              "      <td>111</td>\n",
              "      <td>0</td>\n",
              "      <td>0</td>\n",
              "      <td>24</td>\n",
              "      <td>8</td>\n",
              "      <td>5793</td>\n",
              "      <td>2</td>\n",
              "      <td>1</td>\n",
              "      <td>0</td>\n",
              "      <td>5707</td>\n",
              "      <td>1</td>\n",
              "    </tr>\n",
              "    <tr>\n",
              "      <th>3</th>\n",
              "      <td>308</td>\n",
              "      <td>0</td>\n",
              "      <td>0</td>\n",
              "      <td>21</td>\n",
              "      <td>1</td>\n",
              "      <td>0</td>\n",
              "      <td>1</td>\n",
              "      <td>0</td>\n",
              "      <td>0</td>\n",
              "      <td>4704</td>\n",
              "      <td>0</td>\n",
              "    </tr>\n",
              "    <tr>\n",
              "      <th>4</th>\n",
              "      <td>459</td>\n",
              "      <td>2</td>\n",
              "      <td>0</td>\n",
              "      <td>25</td>\n",
              "      <td>2</td>\n",
              "      <td>3696</td>\n",
              "      <td>0</td>\n",
              "      <td>1</td>\n",
              "      <td>1</td>\n",
              "      <td>3925</td>\n",
              "      <td>0</td>\n",
              "    </tr>\n",
              "  </tbody>\n",
              "</table>\n",
              "</div>\n",
              "      <button class=\"colab-df-convert\" onclick=\"convertToInteractive('df-d7d11908-1f7d-4a62-9f44-a3cbb2d62c47')\"\n",
              "              title=\"Convert this dataframe to an interactive table.\"\n",
              "              style=\"display:none;\">\n",
              "\n",
              "  <svg xmlns=\"http://www.w3.org/2000/svg\" height=\"24px\"viewBox=\"0 0 24 24\"\n",
              "       width=\"24px\">\n",
              "    <path d=\"M0 0h24v24H0V0z\" fill=\"none\"/>\n",
              "    <path d=\"M18.56 5.44l.94 2.06.94-2.06 2.06-.94-2.06-.94-.94-2.06-.94 2.06-2.06.94zm-11 1L8.5 8.5l.94-2.06 2.06-.94-2.06-.94L8.5 2.5l-.94 2.06-2.06.94zm10 10l.94 2.06.94-2.06 2.06-.94-2.06-.94-.94-2.06-.94 2.06-2.06.94z\"/><path d=\"M17.41 7.96l-1.37-1.37c-.4-.4-.92-.59-1.43-.59-.52 0-1.04.2-1.43.59L10.3 9.45l-7.72 7.72c-.78.78-.78 2.05 0 2.83L4 21.41c.39.39.9.59 1.41.59.51 0 1.02-.2 1.41-.59l7.78-7.78 2.81-2.81c.8-.78.8-2.07 0-2.86zM5.41 20L4 18.59l7.72-7.72 1.47 1.35L5.41 20z\"/>\n",
              "  </svg>\n",
              "      </button>\n",
              "\n",
              "\n",
              "\n",
              "    <div id=\"df-ecd2aba4-d1dc-4af7-bee1-12fc427ac680\">\n",
              "      <button class=\"colab-df-quickchart\" onclick=\"quickchart('df-ecd2aba4-d1dc-4af7-bee1-12fc427ac680')\"\n",
              "              title=\"Suggest charts.\"\n",
              "              style=\"display:none;\">\n",
              "\n",
              "<svg xmlns=\"http://www.w3.org/2000/svg\" height=\"24px\"viewBox=\"0 0 24 24\"\n",
              "     width=\"24px\">\n",
              "    <g>\n",
              "        <path d=\"M19 3H5c-1.1 0-2 .9-2 2v14c0 1.1.9 2 2 2h14c1.1 0 2-.9 2-2V5c0-1.1-.9-2-2-2zM9 17H7v-7h2v7zm4 0h-2V7h2v10zm4 0h-2v-4h2v4z\"/>\n",
              "    </g>\n",
              "</svg>\n",
              "      </button>\n",
              "    </div>\n",
              "\n",
              "<style>\n",
              "  .colab-df-quickchart {\n",
              "    background-color: #E8F0FE;\n",
              "    border: none;\n",
              "    border-radius: 50%;\n",
              "    cursor: pointer;\n",
              "    display: none;\n",
              "    fill: #1967D2;\n",
              "    height: 32px;\n",
              "    padding: 0 0 0 0;\n",
              "    width: 32px;\n",
              "  }\n",
              "\n",
              "  .colab-df-quickchart:hover {\n",
              "    background-color: #E2EBFA;\n",
              "    box-shadow: 0px 1px 2px rgba(60, 64, 67, 0.3), 0px 1px 3px 1px rgba(60, 64, 67, 0.15);\n",
              "    fill: #174EA6;\n",
              "  }\n",
              "\n",
              "  [theme=dark] .colab-df-quickchart {\n",
              "    background-color: #3B4455;\n",
              "    fill: #D2E3FC;\n",
              "  }\n",
              "\n",
              "  [theme=dark] .colab-df-quickchart:hover {\n",
              "    background-color: #434B5C;\n",
              "    box-shadow: 0px 1px 3px 1px rgba(0, 0, 0, 0.15);\n",
              "    filter: drop-shadow(0px 1px 2px rgba(0, 0, 0, 0.3));\n",
              "    fill: #FFFFFF;\n",
              "  }\n",
              "</style>\n",
              "\n",
              "    <script>\n",
              "      async function quickchart(key) {\n",
              "        const containerElement = document.querySelector('#' + key);\n",
              "        const charts = await google.colab.kernel.invokeFunction(\n",
              "            'suggestCharts', [key], {});\n",
              "      }\n",
              "    </script>\n",
              "\n",
              "      <script>\n",
              "\n",
              "function displayQuickchartButton(domScope) {\n",
              "  let quickchartButtonEl =\n",
              "    domScope.querySelector('#df-ecd2aba4-d1dc-4af7-bee1-12fc427ac680 button.colab-df-quickchart');\n",
              "  quickchartButtonEl.style.display =\n",
              "    google.colab.kernel.accessAllowed ? 'block' : 'none';\n",
              "}\n",
              "\n",
              "        displayQuickchartButton(document);\n",
              "      </script>\n",
              "      <style>\n",
              "    .colab-df-container {\n",
              "      display:flex;\n",
              "      flex-wrap:wrap;\n",
              "      gap: 12px;\n",
              "    }\n",
              "\n",
              "    .colab-df-convert {\n",
              "      background-color: #E8F0FE;\n",
              "      border: none;\n",
              "      border-radius: 50%;\n",
              "      cursor: pointer;\n",
              "      display: none;\n",
              "      fill: #1967D2;\n",
              "      height: 32px;\n",
              "      padding: 0 0 0 0;\n",
              "      width: 32px;\n",
              "    }\n",
              "\n",
              "    .colab-df-convert:hover {\n",
              "      background-color: #E2EBFA;\n",
              "      box-shadow: 0px 1px 2px rgba(60, 64, 67, 0.3), 0px 1px 3px 1px rgba(60, 64, 67, 0.15);\n",
              "      fill: #174EA6;\n",
              "    }\n",
              "\n",
              "    [theme=dark] .colab-df-convert {\n",
              "      background-color: #3B4455;\n",
              "      fill: #D2E3FC;\n",
              "    }\n",
              "\n",
              "    [theme=dark] .colab-df-convert:hover {\n",
              "      background-color: #434B5C;\n",
              "      box-shadow: 0px 1px 3px 1px rgba(0, 0, 0, 0.15);\n",
              "      filter: drop-shadow(0px 1px 2px rgba(0, 0, 0, 0.3));\n",
              "      fill: #FFFFFF;\n",
              "    }\n",
              "  </style>\n",
              "\n",
              "      <script>\n",
              "        const buttonEl =\n",
              "          document.querySelector('#df-d7d11908-1f7d-4a62-9f44-a3cbb2d62c47 button.colab-df-convert');\n",
              "        buttonEl.style.display =\n",
              "          google.colab.kernel.accessAllowed ? 'block' : 'none';\n",
              "\n",
              "        async function convertToInteractive(key) {\n",
              "          const element = document.querySelector('#df-d7d11908-1f7d-4a62-9f44-a3cbb2d62c47');\n",
              "          const dataTable =\n",
              "            await google.colab.kernel.invokeFunction('convertToInteractive',\n",
              "                                                     [key], {});\n",
              "          if (!dataTable) return;\n",
              "\n",
              "          const docLinkHtml = 'Like what you see? Visit the ' +\n",
              "            '<a target=\"_blank\" href=https://colab.research.google.com/notebooks/data_table.ipynb>data table notebook</a>'\n",
              "            + ' to learn more about interactive tables.';\n",
              "          element.innerHTML = '';\n",
              "          dataTable['output_type'] = 'display_data';\n",
              "          await google.colab.output.renderOutput(dataTable, element);\n",
              "          const docLink = document.createElement('div');\n",
              "          docLink.innerHTML = docLinkHtml;\n",
              "          element.appendChild(docLink);\n",
              "        }\n",
              "      </script>\n",
              "    </div>\n",
              "  </div>\n"
            ]
          },
          "metadata": {},
          "execution_count": 265
        }
      ]
    },
    {
      "cell_type": "markdown",
      "source": [
        "Data Scaling -\n",
        "extremely high or low values (outliers) then standardization is more preferred because"
      ],
      "metadata": {
        "id": "xD36w10xGFfD"
      }
    },
    {
      "cell_type": "code",
      "source": [
        "from sklearn.preprocessing import StandardScaler\n",
        "scaler = StandardScaler()\n",
        "# transform data\n",
        "scaled = scaler.fit_transform(df)\n",
        "print(scaled)"
      ],
      "metadata": {
        "colab": {
          "base_uri": "https://localhost:8080/"
        },
        "id": "iInN_5yCEI1m",
        "outputId": "0a0cb6bb-dbb9-4101-86c6-add3db6271d2"
      },
      "execution_count": 266,
      "outputs": [
        {
          "output_type": "stream",
          "name": "stdout",
          "text": [
            "[[-0.32733113 -0.90188624 -1.09598752 ...  0.97024255  0.02403506\n",
            "   1.97716468]\n",
            " [-0.44133106  1.51506738 -1.09598752 ...  0.97024255  0.2218479\n",
            "  -0.50577476]\n",
            " [-1.53987591 -0.90188624 -1.09598752 ... -1.03067011  0.2454053\n",
            "   1.97716468]\n",
            " ...\n",
            " [ 0.60539563 -0.90188624 -1.09598752 ...  0.97024255 -1.01734044\n",
            "   1.97716468]\n",
            " [ 1.25830436  0.30659057  0.91241915 ... -1.03067011 -0.1245844\n",
            "   1.97716468]\n",
            " [ 1.46557697 -0.90188624 -1.09598752 ... -1.03067011 -1.08108398\n",
            "  -0.50577476]]\n"
          ]
        }
      ]
    },
    {
      "cell_type": "markdown",
      "source": [
        "PCA - Principal Component Analysis"
      ],
      "metadata": {
        "id": "Buk9XLvCGnzY"
      }
    },
    {
      "cell_type": "markdown",
      "source": [
        "Dimentionality Reduction"
      ],
      "metadata": {
        "id": "NcxsI7SQHAG7"
      }
    },
    {
      "cell_type": "code",
      "source": [
        "from sklearn.decomposition import PCA\n",
        "pca = PCA(n_components=2)\n",
        "pca.fit(df)\n",
        "\n",
        "\n",
        "# pca used for reducing the dimensionality of data"
      ],
      "metadata": {
        "colab": {
          "base_uri": "https://localhost:8080/",
          "height": 74
        },
        "id": "gHKQY2wlE_HU",
        "outputId": "08d832a6-dfa8-4319-de72-17100f2054d2"
      },
      "execution_count": 279,
      "outputs": [
        {
          "output_type": "execute_result",
          "data": {
            "text/plain": [
              "PCA(n_components=2)"
            ],
            "text/html": [
              "<style>#sk-container-id-7 {color: black;background-color: white;}#sk-container-id-7 pre{padding: 0;}#sk-container-id-7 div.sk-toggleable {background-color: white;}#sk-container-id-7 label.sk-toggleable__label {cursor: pointer;display: block;width: 100%;margin-bottom: 0;padding: 0.3em;box-sizing: border-box;text-align: center;}#sk-container-id-7 label.sk-toggleable__label-arrow:before {content: \"▸\";float: left;margin-right: 0.25em;color: #696969;}#sk-container-id-7 label.sk-toggleable__label-arrow:hover:before {color: black;}#sk-container-id-7 div.sk-estimator:hover label.sk-toggleable__label-arrow:before {color: black;}#sk-container-id-7 div.sk-toggleable__content {max-height: 0;max-width: 0;overflow: hidden;text-align: left;background-color: #f0f8ff;}#sk-container-id-7 div.sk-toggleable__content pre {margin: 0.2em;color: black;border-radius: 0.25em;background-color: #f0f8ff;}#sk-container-id-7 input.sk-toggleable__control:checked~div.sk-toggleable__content {max-height: 200px;max-width: 100%;overflow: auto;}#sk-container-id-7 input.sk-toggleable__control:checked~label.sk-toggleable__label-arrow:before {content: \"▾\";}#sk-container-id-7 div.sk-estimator input.sk-toggleable__control:checked~label.sk-toggleable__label {background-color: #d4ebff;}#sk-container-id-7 div.sk-label input.sk-toggleable__control:checked~label.sk-toggleable__label {background-color: #d4ebff;}#sk-container-id-7 input.sk-hidden--visually {border: 0;clip: rect(1px 1px 1px 1px);clip: rect(1px, 1px, 1px, 1px);height: 1px;margin: -1px;overflow: hidden;padding: 0;position: absolute;width: 1px;}#sk-container-id-7 div.sk-estimator {font-family: monospace;background-color: #f0f8ff;border: 1px dotted black;border-radius: 0.25em;box-sizing: border-box;margin-bottom: 0.5em;}#sk-container-id-7 div.sk-estimator:hover {background-color: #d4ebff;}#sk-container-id-7 div.sk-parallel-item::after {content: \"\";width: 100%;border-bottom: 1px solid gray;flex-grow: 1;}#sk-container-id-7 div.sk-label:hover label.sk-toggleable__label {background-color: #d4ebff;}#sk-container-id-7 div.sk-serial::before {content: \"\";position: absolute;border-left: 1px solid gray;box-sizing: border-box;top: 0;bottom: 0;left: 50%;z-index: 0;}#sk-container-id-7 div.sk-serial {display: flex;flex-direction: column;align-items: center;background-color: white;padding-right: 0.2em;padding-left: 0.2em;position: relative;}#sk-container-id-7 div.sk-item {position: relative;z-index: 1;}#sk-container-id-7 div.sk-parallel {display: flex;align-items: stretch;justify-content: center;background-color: white;position: relative;}#sk-container-id-7 div.sk-item::before, #sk-container-id-7 div.sk-parallel-item::before {content: \"\";position: absolute;border-left: 1px solid gray;box-sizing: border-box;top: 0;bottom: 0;left: 50%;z-index: -1;}#sk-container-id-7 div.sk-parallel-item {display: flex;flex-direction: column;z-index: 1;position: relative;background-color: white;}#sk-container-id-7 div.sk-parallel-item:first-child::after {align-self: flex-end;width: 50%;}#sk-container-id-7 div.sk-parallel-item:last-child::after {align-self: flex-start;width: 50%;}#sk-container-id-7 div.sk-parallel-item:only-child::after {width: 0;}#sk-container-id-7 div.sk-dashed-wrapped {border: 1px dashed gray;margin: 0 0.4em 0.5em 0.4em;box-sizing: border-box;padding-bottom: 0.4em;background-color: white;}#sk-container-id-7 div.sk-label label {font-family: monospace;font-weight: bold;display: inline-block;line-height: 1.2em;}#sk-container-id-7 div.sk-label-container {text-align: center;}#sk-container-id-7 div.sk-container {/* jupyter's `normalize.less` sets `[hidden] { display: none; }` but bootstrap.min.css set `[hidden] { display: none !important; }` so we also need the `!important` here to be able to override the default hidden behavior on the sphinx rendered scikit-learn.org. See: https://github.com/scikit-learn/scikit-learn/issues/21755 */display: inline-block !important;position: relative;}#sk-container-id-7 div.sk-text-repr-fallback {display: none;}</style><div id=\"sk-container-id-7\" class=\"sk-top-container\"><div class=\"sk-text-repr-fallback\"><pre>PCA(n_components=2)</pre><b>In a Jupyter environment, please rerun this cell to show the HTML representation or trust the notebook. <br />On GitHub, the HTML representation is unable to render, please try loading this page with nbviewer.org.</b></div><div class=\"sk-container\" hidden><div class=\"sk-item\"><div class=\"sk-estimator sk-toggleable\"><input class=\"sk-toggleable__control sk-hidden--visually\" id=\"sk-estimator-id-7\" type=\"checkbox\" checked><label for=\"sk-estimator-id-7\" class=\"sk-toggleable__label sk-toggleable__label-arrow\">PCA</label><div class=\"sk-toggleable__content\"><pre>PCA(n_components=2)</pre></div></div></div></div></div>"
            ]
          },
          "metadata": {},
          "execution_count": 279
        }
      ]
    },
    {
      "cell_type": "code",
      "source": [
        "print(pca.explained_variance_)"
      ],
      "metadata": {
        "colab": {
          "base_uri": "https://localhost:8080/"
        },
        "id": "6L-KtHdiIYRc",
        "outputId": "6fe8b18b-98a3-40ad-81f6-3de0e520c872"
      },
      "execution_count": 268,
      "outputs": [
        {
          "output_type": "stream",
          "name": "stdout",
          "text": [
            "[8334038.68992262 4515676.3473695 ]\n"
          ]
        }
      ]
    },
    {
      "cell_type": "code",
      "source": [
        "pca = PCA(n_components=1)\n",
        "pca.fit(df)\n",
        "df_pca = pca.transform(df)\n",
        "print(\"original shape:   \", df.shape)\n",
        "print(\"transformed shape:\", df_pca.shape)"
      ],
      "metadata": {
        "colab": {
          "base_uri": "https://localhost:8080/"
        },
        "id": "70iFeuOAIeTD",
        "outputId": "22961703-5565-48b4-d603-f14ee0043a86"
      },
      "execution_count": 269,
      "outputs": [
        {
          "output_type": "stream",
          "name": "stdout",
          "text": [
            "original shape:    (10000, 11)\n",
            "transformed shape: (10000, 1)\n"
          ]
        }
      ]
    },
    {
      "cell_type": "code",
      "source": [
        "df_new = pca.inverse_transform(df_pca)"
      ],
      "metadata": {
        "id": "z06r2b6oI-eJ"
      },
      "execution_count": 270,
      "outputs": []
    },
    {
      "cell_type": "markdown",
      "source": [
        "Class imbalance"
      ],
      "metadata": {
        "id": "4aqntJ5NJuIs"
      }
    },
    {
      "cell_type": "code",
      "source": [
        "from imblearn.over_sampling import SMOTE"
      ],
      "metadata": {
        "id": "o9DI8DYcIzRN"
      },
      "execution_count": 271,
      "outputs": []
    },
    {
      "cell_type": "code",
      "source": [
        "smt = SMOTE(random_state=42)\n",
        "#synthetic minority oversampling technique"
      ],
      "metadata": {
        "id": "_yjdP64UKtsx"
      },
      "execution_count": 272,
      "outputs": []
    },
    {
      "cell_type": "code",
      "source": [
        "X = df.drop(columns=[\"Churned\"])\n",
        "y = df[\"Churned\"]"
      ],
      "metadata": {
        "id": "G6LYwJIpLnyP"
      },
      "execution_count": 273,
      "outputs": []
    },
    {
      "cell_type": "code",
      "source": [
        "x_train,x_test,y_train,y_test = train_test_split(X,y,test_size=0.2,random_state=0)"
      ],
      "metadata": {
        "id": "DZOCyYSBLeng"
      },
      "execution_count": 274,
      "outputs": []
    },
    {
      "cell_type": "code",
      "source": [
        "x_train_resampled,y_train_resampled = smt.fit_resample(x_train,y_train)"
      ],
      "metadata": {
        "id": "bncBPZAnKxTo"
      },
      "execution_count": 275,
      "outputs": []
    },
    {
      "cell_type": "code",
      "source": [
        "print(x_train_resampled.shape ,y_train_resampled.shape)"
      ],
      "metadata": {
        "colab": {
          "base_uri": "https://localhost:8080/"
        },
        "id": "s0bm1kZJKyzA",
        "outputId": "43017dcd-c32b-4234-9c62-6f9d5a51066f"
      },
      "execution_count": 276,
      "outputs": [
        {
          "output_type": "stream",
          "name": "stdout",
          "text": [
            "(12736, 10) (12736,)\n"
          ]
        }
      ]
    },
    {
      "cell_type": "code",
      "source": [
        "y_train_resampled.value_counts().to_frame()"
      ],
      "metadata": {
        "colab": {
          "base_uri": "https://localhost:8080/",
          "height": 368
        },
        "id": "sBK6Ag0_L5tY",
        "outputId": "ea07d294-b17c-42b7-eb8f-9dad7d912eb6"
      },
      "execution_count": 277,
      "outputs": [
        {
          "output_type": "execute_result",
          "data": {
            "text/plain": [
              "   Churned\n",
              "0     6368\n",
              "1     6368"
            ],
            "text/html": [
              "\n",
              "\n",
              "  <div id=\"df-7e913be1-83c2-404b-b488-3315d6106eec\">\n",
              "    <div class=\"colab-df-container\">\n",
              "      <div>\n",
              "<style scoped>\n",
              "    .dataframe tbody tr th:only-of-type {\n",
              "        vertical-align: middle;\n",
              "    }\n",
              "\n",
              "    .dataframe tbody tr th {\n",
              "        vertical-align: top;\n",
              "    }\n",
              "\n",
              "    .dataframe thead th {\n",
              "        text-align: right;\n",
              "    }\n",
              "</style>\n",
              "<table border=\"1\" class=\"dataframe\">\n",
              "  <thead>\n",
              "    <tr style=\"text-align: right;\">\n",
              "      <th></th>\n",
              "      <th>Churned</th>\n",
              "    </tr>\n",
              "  </thead>\n",
              "  <tbody>\n",
              "    <tr>\n",
              "      <th>0</th>\n",
              "      <td>6368</td>\n",
              "    </tr>\n",
              "    <tr>\n",
              "      <th>1</th>\n",
              "      <td>6368</td>\n",
              "    </tr>\n",
              "  </tbody>\n",
              "</table>\n",
              "</div>\n",
              "      <button class=\"colab-df-convert\" onclick=\"convertToInteractive('df-7e913be1-83c2-404b-b488-3315d6106eec')\"\n",
              "              title=\"Convert this dataframe to an interactive table.\"\n",
              "              style=\"display:none;\">\n",
              "\n",
              "  <svg xmlns=\"http://www.w3.org/2000/svg\" height=\"24px\"viewBox=\"0 0 24 24\"\n",
              "       width=\"24px\">\n",
              "    <path d=\"M0 0h24v24H0V0z\" fill=\"none\"/>\n",
              "    <path d=\"M18.56 5.44l.94 2.06.94-2.06 2.06-.94-2.06-.94-.94-2.06-.94 2.06-2.06.94zm-11 1L8.5 8.5l.94-2.06 2.06-.94-2.06-.94L8.5 2.5l-.94 2.06-2.06.94zm10 10l.94 2.06.94-2.06 2.06-.94-2.06-.94-.94-2.06-.94 2.06-2.06.94z\"/><path d=\"M17.41 7.96l-1.37-1.37c-.4-.4-.92-.59-1.43-.59-.52 0-1.04.2-1.43.59L10.3 9.45l-7.72 7.72c-.78.78-.78 2.05 0 2.83L4 21.41c.39.39.9.59 1.41.59.51 0 1.02-.2 1.41-.59l7.78-7.78 2.81-2.81c.8-.78.8-2.07 0-2.86zM5.41 20L4 18.59l7.72-7.72 1.47 1.35L5.41 20z\"/>\n",
              "  </svg>\n",
              "      </button>\n",
              "\n",
              "\n",
              "\n",
              "    <div id=\"df-98e17d96-91da-49c6-be68-f58760f5df09\">\n",
              "      <button class=\"colab-df-quickchart\" onclick=\"quickchart('df-98e17d96-91da-49c6-be68-f58760f5df09')\"\n",
              "              title=\"Suggest charts.\"\n",
              "              style=\"display:none;\">\n",
              "\n",
              "<svg xmlns=\"http://www.w3.org/2000/svg\" height=\"24px\"viewBox=\"0 0 24 24\"\n",
              "     width=\"24px\">\n",
              "    <g>\n",
              "        <path d=\"M19 3H5c-1.1 0-2 .9-2 2v14c0 1.1.9 2 2 2h14c1.1 0 2-.9 2-2V5c0-1.1-.9-2-2-2zM9 17H7v-7h2v7zm4 0h-2V7h2v10zm4 0h-2v-4h2v4z\"/>\n",
              "    </g>\n",
              "</svg>\n",
              "      </button>\n",
              "    </div>\n",
              "\n",
              "<style>\n",
              "  .colab-df-quickchart {\n",
              "    background-color: #E8F0FE;\n",
              "    border: none;\n",
              "    border-radius: 50%;\n",
              "    cursor: pointer;\n",
              "    display: none;\n",
              "    fill: #1967D2;\n",
              "    height: 32px;\n",
              "    padding: 0 0 0 0;\n",
              "    width: 32px;\n",
              "  }\n",
              "\n",
              "  .colab-df-quickchart:hover {\n",
              "    background-color: #E2EBFA;\n",
              "    box-shadow: 0px 1px 2px rgba(60, 64, 67, 0.3), 0px 1px 3px 1px rgba(60, 64, 67, 0.15);\n",
              "    fill: #174EA6;\n",
              "  }\n",
              "\n",
              "  [theme=dark] .colab-df-quickchart {\n",
              "    background-color: #3B4455;\n",
              "    fill: #D2E3FC;\n",
              "  }\n",
              "\n",
              "  [theme=dark] .colab-df-quickchart:hover {\n",
              "    background-color: #434B5C;\n",
              "    box-shadow: 0px 1px 3px 1px rgba(0, 0, 0, 0.15);\n",
              "    filter: drop-shadow(0px 1px 2px rgba(0, 0, 0, 0.3));\n",
              "    fill: #FFFFFF;\n",
              "  }\n",
              "</style>\n",
              "\n",
              "    <script>\n",
              "      async function quickchart(key) {\n",
              "        const containerElement = document.querySelector('#' + key);\n",
              "        const charts = await google.colab.kernel.invokeFunction(\n",
              "            'suggestCharts', [key], {});\n",
              "      }\n",
              "    </script>\n",
              "\n",
              "      <script>\n",
              "\n",
              "function displayQuickchartButton(domScope) {\n",
              "  let quickchartButtonEl =\n",
              "    domScope.querySelector('#df-98e17d96-91da-49c6-be68-f58760f5df09 button.colab-df-quickchart');\n",
              "  quickchartButtonEl.style.display =\n",
              "    google.colab.kernel.accessAllowed ? 'block' : 'none';\n",
              "}\n",
              "\n",
              "        displayQuickchartButton(document);\n",
              "      </script>\n",
              "      <style>\n",
              "    .colab-df-container {\n",
              "      display:flex;\n",
              "      flex-wrap:wrap;\n",
              "      gap: 12px;\n",
              "    }\n",
              "\n",
              "    .colab-df-convert {\n",
              "      background-color: #E8F0FE;\n",
              "      border: none;\n",
              "      border-radius: 50%;\n",
              "      cursor: pointer;\n",
              "      display: none;\n",
              "      fill: #1967D2;\n",
              "      height: 32px;\n",
              "      padding: 0 0 0 0;\n",
              "      width: 32px;\n",
              "    }\n",
              "\n",
              "    .colab-df-convert:hover {\n",
              "      background-color: #E2EBFA;\n",
              "      box-shadow: 0px 1px 2px rgba(60, 64, 67, 0.3), 0px 1px 3px 1px rgba(60, 64, 67, 0.15);\n",
              "      fill: #174EA6;\n",
              "    }\n",
              "\n",
              "    [theme=dark] .colab-df-convert {\n",
              "      background-color: #3B4455;\n",
              "      fill: #D2E3FC;\n",
              "    }\n",
              "\n",
              "    [theme=dark] .colab-df-convert:hover {\n",
              "      background-color: #434B5C;\n",
              "      box-shadow: 0px 1px 3px 1px rgba(0, 0, 0, 0.15);\n",
              "      filter: drop-shadow(0px 1px 2px rgba(0, 0, 0, 0.3));\n",
              "      fill: #FFFFFF;\n",
              "    }\n",
              "  </style>\n",
              "\n",
              "      <script>\n",
              "        const buttonEl =\n",
              "          document.querySelector('#df-7e913be1-83c2-404b-b488-3315d6106eec button.colab-df-convert');\n",
              "        buttonEl.style.display =\n",
              "          google.colab.kernel.accessAllowed ? 'block' : 'none';\n",
              "\n",
              "        async function convertToInteractive(key) {\n",
              "          const element = document.querySelector('#df-7e913be1-83c2-404b-b488-3315d6106eec');\n",
              "          const dataTable =\n",
              "            await google.colab.kernel.invokeFunction('convertToInteractive',\n",
              "                                                     [key], {});\n",
              "          if (!dataTable) return;\n",
              "\n",
              "          const docLinkHtml = 'Like what you see? Visit the ' +\n",
              "            '<a target=\"_blank\" href=https://colab.research.google.com/notebooks/data_table.ipynb>data table notebook</a>'\n",
              "            + ' to learn more about interactive tables.';\n",
              "          element.innerHTML = '';\n",
              "          dataTable['output_type'] = 'display_data';\n",
              "          await google.colab.output.renderOutput(dataTable, element);\n",
              "          const docLink = document.createElement('div');\n",
              "          docLink.innerHTML = docLinkHtml;\n",
              "          element.appendChild(docLink);\n",
              "        }\n",
              "      </script>\n",
              "    </div>\n",
              "  </div>\n"
            ]
          },
          "metadata": {},
          "execution_count": 277
        },
        {
          "output_type": "display_data",
          "data": {
            "text/plain": [
              "<google.colab._quickchart_helpers.SectionTitle at 0x7b42f776d2d0>"
            ],
            "text/html": [
              "<h4 class=\"colab-quickchart-section-title\">Time series</h4>\n",
              "<style>\n",
              "  .colab-quickchart-section-title {\n",
              "      clear: both;\n",
              "  }\n",
              "</style>"
            ]
          },
          "metadata": {}
        },
        {
          "output_type": "display_data",
          "data": {
            "text/plain": [
              "import numpy as np\n",
              "from google.colab import autoviz\n",
              "\n",
              "def time_series_multiline(df, timelike_colname, value_colname, series_colname, figscale=1, mpl_palette_name='Dark2'):\n",
              "  from matplotlib import pyplot as plt\n",
              "  import seaborn as sns\n",
              "  figsize = (10 * figscale, 5.2 * figscale)\n",
              "  palette = list(sns.palettes.mpl_palette(mpl_palette_name))\n",
              "  def _plot_series(series, series_name, series_index=0):\n",
              "    if value_colname == 'count()':\n",
              "      counted = (series[timelike_colname]\n",
              "                 .value_counts()\n",
              "                 .reset_index(name='counts')\n",
              "                 .rename({'index': timelike_colname}, axis=1)\n",
              "                 .sort_values(timelike_colname, ascending=True))\n",
              "      xs = counted[timelike_colname]\n",
              "      ys = counted['counts']\n",
              "    else:\n",
              "      xs = series[timelike_colname]\n",
              "      ys = series[value_colname]\n",
              "    plt.plot(xs, ys, label=series_name, color=palette[series_index % len(palette)])\n",
              "\n",
              "  fig, ax = plt.subplots(figsize=figsize, layout='constrained')\n",
              "  df = df.sort_values(timelike_colname, ascending=True)\n",
              "  if series_colname:\n",
              "    for i, (series_name, series) in enumerate(df.groupby(series_colname)):\n",
              "      _plot_series(series, series_name, i)\n",
              "    fig.legend(title=series_colname, bbox_to_anchor=(1, 1), loc='upper left')\n",
              "  else:\n",
              "    _plot_series(df, '')\n",
              "  sns.despine(fig=fig, ax=ax)\n",
              "  plt.xlabel(timelike_colname)\n",
              "  plt.ylabel(value_colname)\n",
              "  return autoviz.MplChart.from_current_mpl_state()\n",
              "\n",
              "chart = time_series_multiline(_df_0, *['Churned', 'count()', None], **{})\n",
              "chart"
            ],
            "text/html": [
              "      <div class=\"colab-quickchart-chart-with-code\" id=\"chart-a57c3be4-fdf7-4906-8922-fedf0a5a1606\">\n",
              "        <img src=\"data:image/png;base64,iVBORw0KGgoAAAANSUhEUgAAAQUAAACNCAYAAAC+Am+QAAAAOXRFWHRTb2Z0d2FyZQBNYXRwbG90\n",
              "bGliIHZlcnNpb24zLjcuMSwgaHR0cHM6Ly9tYXRwbG90bGliLm9yZy/bCgiHAAAACXBIWXMAAA9h\n",
              "AAAPYQGoP6dpAAAi9ElEQVR4nO3deVzU1f748dewyY64l+LugAvuQip53ZcUBMPMvlqWS2mumYV6\n",
              "zZtpaqUmmZkLije7GWpuuOBu7sgi4Ib7AuICIsg2w/D5/cFvJkaGdQbE4Twfjx45n+2cY817Pp/P\n",
              "Wd4ySZIkBEEQ/j+Tl10BQRAqFhEUBEHQYmaIi9y8eZPQ0FAiIyN59OgRSUlJZGVlUbVqVapVq0aT\n",
              "Jk3o1KkT7du3x9ra2hBFCoJQRmSlfafw5MkTtm7dyp9//kl8fLxmu67LyWQyAExNTenZsyfDhg2j\n",
              "a9eupayyIAhlqcRB4dGjRyxfvpwdO3agUqk0QaBWrVq0aNECR0dHHBwcqFKlCs+ePePZs2fcv3+f\n",
              "K1euoFQqcwuVyahfvz5Tp05lwIABhm+VIAilVqKg4O/vz/r168nIyMDMzAwPDw8GDRpEp06dqF27\n",
              "dqHnKhQKLl++zKFDh9i9ezfx8fHIZDLatGnD119/jbOzs96NEQRBfyUKCi4uLjg6OvLhhx8ydOhQ\n",
              "HB0dS11waGgov/76KydOnGDixIlMnDix1NcSBMFwShQUVq9ezYgRIwz6sjAqKoqkpCS6d+9usGsK\n",
              "glB6pX7RKAiCcRLjFARB0GKQcQqGJkkSERERHD58mLCwMG7evMnz58+xs7OjRYsWeHt74+npqenq\n",
              "LK779+9z+vRpoqOjiYmJITY2FqVSiY+PD4sWLSqj1gjCq6VEQSEjIwMrKyuDV+LF6545c4ZRo0Zp\n",
              "Pjs5OVG3bl3i4uI4efIkJ0+eJDg4mJ9++gkLC4tilxMYGMjGjRsNWXVBMDolenzo1asX69evJysr\n",
              "yyCFR0dH8/HHHxMQEKC1XZIk6tWrx+zZszl16hQHDx5k27ZtnD17lsWLF2NhYcHRo0dZvnx5icpz\n",
              "dHSke/fuTJo0idWrV+Pr62uQdgiCMSnRnYJSqeS7775j7dq1+Pj44OnpWeLxBWlpaRw4cIDt27dz\n",
              "9uxZJEnKN7qxdevW7Nu3D3Nz83zne3t7k5CQwLJly9iyZQvTp0/HxKR4sW3ChAlan8+cOVOiugtC\n",
              "ZVCioBASEsKKFSvYvHkz69atY926dTRt2pQOHTrQunVrXFxcqFatGg4ODlhYWGhGNN67d4+oqCii\n",
              "oqIIDQ0lMzMTSZJo2rQpM2bM4F//+pdWOba2toXWo1u3bixbtozk5GSSkpKoUaNGyVsuCIJOJQoK\n",
              "jo6OzJkzh5EjRxIQEMDu3bu5du0a169fZ/PmzUWer+79bN26Ne+99x5eXl7F/pXPKzMzU/NnS0vL\n",
              "Ep9f1p4/zyQjQ/myq2FwJiYyqlWzISkpjZwc4+/JNsb21qxpV+Qxpep9aNiwIfPmzePLL79kz549\n",
              "/P3335w/f56kpCTdhZiZ0aJFC9zc3Bg0aBAuLi6lKVYjODgYyB1hWdRdxctgamqCmZnx9faampog\n",
              "k8kwNzdFpcp52dUpc5WtvWp6dUna2NgwdOhQhg4dCsC9e/d49OgRT58+1Zo63aBBA4ONgoyJieGP\n",
              "P/4AYNy4cQa5pqFZWppjZVX8XpFXjb294XugKrLK1l6DjlNwcnLCycnJkJfU8uTJEyZNmkR2djZ9\n",
              "+vRh4MCBZVaWPjIzlWRmGt/jg6mpCfb2VqSkZFSKX05jbK+jo02Rx1TIwUu6pKamMnbsWOLj42nZ\n",
              "smWFHmwkSZCdbRz/E+miUuUYdfteVNnaq/eDb69evXjnnXeKffx7771H7969S1RGWloaY8aM4dKl\n",
              "SzRr1ox169ZVyHcJgmAM9L5TiIuLK9FgpoSEBB48eFDs4zMyMvj444+JjIykYcOGrF+/Xq8p24Ig\n",
              "FK7cX5GrVKpid0NmZWUxfvx4QkNDqVu3Lhs2bKBmzZplXENBqNzKNShkZmaSmJiIjU3RLzuUSiWT\n",
              "Jk3i9OnT1K5dm8DAQF577bVyqKUgVG4lfnyIj48nLi5Oa5tSqeT8+fM6F22F3EFLKSkp7Nq1i+zs\n",
              "bORyeaFlqFQqpk+fzrFjx6hZsyaBgYHF7tXo2bMnAF988QX9+/cv1jmCIPyjxEFh27Zt/Pzzz1rb\n",
              "UlJSGDlyZJHnSpKETCZj2LBhhR63d+9e9u/fD4CFhQWzZs0q8Ng5c+bQokULzWd1wEpPT893bFhY\n",
              "mNb8B/XIyODgYI4cOaLZ/tVXX1XY7k5BKGuletGY945AJpMVeIeQ9xhbW1uaNWvGu+++i6enZ6HH\n",
              "KxQKzZ/j4uLy3ZnklZqaWsxaQ3Z2NsnJyTrLy1umoWaBCsKrSO/l2FxcXKhRowYnTpwwVJ1eeenp\n",
              "CtLSjC+wmJmZ4Ohow9OnaZWi394Y21tmcx/y8vb2xs6u6IIEQXg1iIVby4C4UzAOxtje4twpGN9U\n",
              "PkEQ9GKwuQ/Pnz/n6NGjXL16lWfPnmlSxOkik8n49ttvDVW0IAgGZJCgsG3bNhYsWKDVDVhQoll1\n",
              "t6QICoJQMekdFP7++29mz56NJElUqVKFtm3bUqtWLczMXpkJmIIg5KH3N3ft2rVIkkTbtm1ZuXIl\n",
              "1apV07tSZZX3QW3//v389ttvmkzYDRo0wMvLi/fff1/nYrGCUJno3fvQsWNH0tLS2Lt3Lw0bNjRI\n",
              "pU6fPp0v74O9vT1xcXGawUfdu3cvcd4HgMWLF2uWlK9fvz5WVlZcv34dlUpFp06dCAgIKPE1XyR6\n",
              "H4yDMba3XHofVCoV1tbWBgsIUHZ5Hw4cOKD50q9cuZIDBw6wc+dOdu3aRb169QgNDWXp0qUGa4cg\n",
              "vIr0DgpOTk4oFApUKpUh6gP8k/fh/fffp3r16lr7vL29+fTTTwHYsmULOTnFj+ArVqwAYOzYsfTq\n",
              "1UuzvUmTJsyfPx+ATZs2FbgArSBUBnoHBS8vL7Kzszl+/Lgh6gPk5n0o7Nm+W7duAJq8D8Vx+/Zt\n",
              "rly5AqBzQlbnzp1p0KABCoWCQ4cOlaLWgmAc9A4KH3zwAa6urnz99dfcvn3bAFUqWmnyPkRGRgK5\n",
              "dza1a9fWeUyHDh0AuHDhgn4VFIRXmN69D8HBwQwePBh/f38GDx5Mv379aNOmTZELqXh7e+tVJpQs\n",
              "74M6YNWvX7/AY9T7bt26Veq6CcKrTu+g4Ofnp+kalCSJXbt2sWvXrkLPkclkpQ4Kpc378OzZMwAc\n",
              "HBwKPEa9LyUlpVR1U5PJMNpkMHn/bewqW3vV9A4Kr7/+uiHqUSz65H1Qr5FQ2LsKdVdk3seT0hDJ\n",
              "YIxLZWuv3kHh8OHDhqhHkfTN+1ClShWAQudkqBda0Tc/pUgGYxyMsb1GkwzGEHkf7O3tgX8eI3RR\n",
              "71MfW1oiGYxxqWztrfAPS4bK+9CoUSMA7ty5U+Axd+/eBTDoQCxBeNVU6KBgyLwPbdq0AeD+/fs8\n",
              "fPhQ5zFhYWEAtG3btlRlCIIx0PvxYebMmSU+pzhTpw2d96FRo0bI5XJiY2PZvHkzkydP1tp/+vRp\n",
              "7ty5g7m5udZoR0GobPQOCn/99VehKzq/OJOxOOsplFXeh4kTJzJ58mTWrFlDq1atNMfevHmTf//7\n",
              "30BurktDzPQUhFeVQRZuLWwKc2pqKjExMSQkJFC1alV69OhR5DXLKu9Dv379+OCDDwgMDGT8+PHU\n",
              "r18fa2trrl27hkqlokOHDkyfPr3I+gmCMdM7KBSna1CSJLZt28Z//vMfbG1tmT17dqHHl1XeB4BZ\n",
              "s2bRrl07fv/9dy5fvsyjR49o0qQJXl5ejBo1SqynIFR65bqa84YNG1i8eDHLly+nb9++5VVsuRPr\n",
              "KRgHY2xvhVvN2dfXF5lMxn//+9/yLFYQhBIo16Bga2uLra2tZgqzIAgVT7kGheTkZFJSUsjOzi7P\n",
              "YgVBKIFyDQpLliwB/hldKAhCxaN378P27dsL3Z+VlcWDBw84ePAgN27cQCaTMWTIEH2LFQShjBh0\n",
              "PYXCqDs5vL29GTFihL7FCoJQRsp8PQUzMzPs7e1xcXFh4MCBdO7cWd8iBUEoQxV2PYXHjx9z8uRJ\n",
              "YmJiiI6O5vLly2RlZeHm5qZXl2Z6ejq//fYbe/fu1VqibdCgQXzwwQd653wQhFddhV1PITg4mIUL\n",
              "Fxr0momJiYwaNYrY2FhMTExo2rQpJiYmXLt2jR9++IF9+/YRGBhY4rUaBMGYVNigYGtrS5cuXXB1\n",
              "dcXV1ZVLly6xcuVKva75xRdfEBsbS+PGjVm1ahUNGjQAcodST5gwgZiYGObNm8d3331niCYIwivJ\n",
              "oEFBoVBw6tQpYmJiSExMBKB69eq4urrSuXPnEt2a+/r64uvrq/lc0BoIxXX16lVOnDgBwIIFCzQB\n",
              "AaBu3bosXrwYHx8fdu7cyccff0yTJk30Kk8QXlUGCwqbN29m+fLlPH36VOd+R0dHpk6dyjvvvGOo\n",
              "IktEvYBK7dq1ad++fb79Li4uNG7cmOvXr7N3714mTpxY3lUUhArBIEHh+++/JyAgQNPtWLt2berU\n",
              "qQNAQkICDx8+JCkpiblz53L37l0+//xzQxRbIur1FwtKBANQp04drl+/TkRERHlVSxAqHL2Dwrlz\n",
              "51i3bh0Affv2ZcqUKfluvW/evMny5cvZv38/69ato3v37nTs2FHfoktEvRhrYY8hCQkJQG599SHy\n",
              "PhiHytZeNb2DwqZNm4DcdwDqJK0vaty4McuXL+ff//43W7Zs4bfffiv3oODq6grkBoXIyMh86zBe\n",
              "vXpVkxmqsBWfi0PkfTAula29egeFiIgITExMmDZtWpHHTp06la1btxIeHq5vsSXWunVrXF1diY6O\n",
              "xs/PD39/f+RyOZCbUu7zzz/XZM7WNxmMyPtgHIyxveWS9+Hp06fY2dnlSxmvS40aNbC3ty/wZWRZ\n",
              "++GHHxg5ciS3bt3Cy8sLJycnTExMuHv3Lubm5nh5ebFz584i82AWxcrKQtwpGJHK1l69H5ZsbGxI\n",
              "S0vTpGUrTGZmJmlpaVhbW+tbbKk0bNiQ7du38+GHH1K/fn0SEhJITk6mT58+bN26lWbNmgG5wUsQ\n",
              "Kiu9g4KzszMqlYotW7YUeezWrVvJzs7GxcVF32JLrXr16vj5+RESEkJ0dDRnz57F39+fZs2acf36\n",
              "deCf9w+CUBnpHRQ8PT2RJInFixcTFBRU4HFBQUEsWrQImUzG4MGD9S3W4JRKJX///TeAyPsgVGp6\n",
              "v1MYMmQIO3bsIDQ0lK+++oqVK1fi7u6uGQ+QkJDA2bNnefjwIZIk4ebmho+Pj94VN7T169eTlJSE\n",
              "k5OTJh+EIFRGegcFExMTfvnlF2bNmkVISAgPHjxgx44dWseoBzX17duXb7/9tljrL5TW8OHDefjw\n",
              "Ie+//z6jRo3S2nf+/HkyMjLo0qULpqamQO57jsDAQH788UdMTU2ZP3++WOZdqNQMMqLR1tYWf39/\n",
              "oqKi2LNnT765D61ateKtt96idevWxb7mgwcP8Pb21nxW54IIDw/H3d1ds33MmDGMHTtW8/nhw4fE\n",
              "xcXpzAcRExPDwoULsbKyol69epibm3Pr1i0yMjKwsrJi4cKFvPHGGyVtviAYFYNOiGrdunWJvviF\n",
              "UalUJCcn59uenZ2ttb0kYwrc3d0ZMmQIERERxMfHo1KpqFOnDt26dWPUqFHUrVvXADUXhFeb3slg\n",
              "FAoFN2/exNzcvMiZhTdu3ECpVNKkSRNxiy4IFZTevQ979uzBx8eHwMDAIo9dtWoVPj4+mjyRgiBU\n",
              "PHoHhZCQEACt5/+C+Pr6IkmSCAqCUIHpHRSuXbuGqalpsd4ltG/fHjMzM2JjY/UtVhCEMqJ3UHj0\n",
              "6BF2dnaYmRX9ztLc3BxbW1sePXqkb7GCIJQRvYOCubk5aWlpxTpWkiTS09PLdJyCIAj60Tso1KtX\n",
              "D6VSWazVisLDw1EoFKLrTxAqML3HKXTp0oUrV66wZMkSNmzYUOBjRHZ2NkuXLkUmk9G1a1d9ixUK\n",
              "cezYMYKCgoiMjCQ5ORkHBwecnJxwd3dn0qRJmv9Gz58/58iRI5w4cYLo6Gji4uLIycmhdu3auLm5\n",
              "MWrUKM2aEy/atm0bM2fOLLQeY8eOLXDpPUmS2LJlC0FBQZqJaE2bNmXo0KH4+voW+26yuG0F6Nmz\n",
              "J3FxcYVeLyoqiipVqujcd+/ePVauXMnJkydJSkqievXqdO3alfHjx+Pk5FTgNQ3V1vKi9ziFhIQE\n",
              "+vXrh0KhoGPHjsycOZMWLVpoHXPx4kUWLlzI+fPnqVKlCnv37i0ys5RQctnZ2cycOZOdO3cC8Npr\n",
              "r1GjRg2Sk5NJSEhAqVQSHh6uWS9ixowZmmMtLS1p0KABkiRx+/ZtFAoF5ubmfP3117z99tv5ylIH\n",
              "BVtb2wIDh5eXF8OHD8+3PScnh2nTprFv3z4g9wsCaL4wAwcOZMmSJYV+WUraVvgnKMjl8gJzewQG\n",
              "BupcdTwiIoKPPvqI9PR0HBwcqFevHvfu3SMlJQUbGxs2bNig82W7Idpa7iQD+OuvvyQXFxfNPx4e\n",
              "HtKwYcOkYcOGSR4eHpKLi4vk7Owsubi4SNu3bzdEkYIOs2fPluRyufT2229LFy9e1NqXnp4uHTx4\n",
              "UFIoFJptn3/+uTRu3Djp6NGjUlZWlmb706dPpc8++0ySy+VS8+bNpStXruQra+vWrZJcLpdGjBhR\n",
              "4nquX79eksvlkpubmxQeHq7ZHh4eLrm5uUlyuVzauHGjQdsqSZLUo0cPSS6XS2fOnClRfdPS0qSu\n",
              "XbtKcrlcmjlzppSZmSlJkiRlZmZKfn5+klwul7p16yZlZGSUSVvLm0GCgiRJ0pEjR6SePXtKzs7O\n",
              "Ov/p3bu3dOzYMUMVJ7zg9OnTklwul3r06CGlpqYW65ykpKQC9ykUCmngwIGSXC6X5s+fn29/aYOC\n",
              "QqGQ3N3dJblcLm3ZsiXf/qCgIEkul0udO3eWlEqlzmuUpq2SVPqgoP5i9+nTJ1+gycrKknr37q3z\n",
              "y22Itr4MBlumtnv37oSEhBAQEMDEiRN59913GT58OJMmTWL9+vXs37+fbt26Gao44QXr168H4KOP\n",
              "Pip22jtHR8cC95mbm2smh6kXtDWEc+fO8fTpU6ytrfH09My338vLC2traxITEwkNDdV5jdK0VR/q\n",
              "W38fH598w/MtLCwYMmQIAHv37tXaZ4i2vgwGnRBlampKly5d6NKliyEvKxQhKyuLkydPAtC5c2eu\n",
              "X7/O5s2buXHjBhYWFjRv3hxfX98S9/qol9izsip4jcL4+Hj8/Px48OABlpaWNG7cmH79+uVbLVst\n",
              "MjISyJ08p+vZ3cLCAldXV86ePUtkZGS+LOWGaOsff/xBQEAAmZmZ1KhRg44dO+Lp6akzwKhUKmJi\n",
              "YgDo1KmTzuupVyaPjo5GpVJppuXr29aXpcLmkhSK78qVKyiVuatHh4WFMW/ePM1ngCNHjrB27VoW\n",
              "LlzIoEGDinXNjIwMDh06BECHDh0KPO7+/fvcv39f8/no0aMEBAQwcOBAFixYkC+g5M30XZD69etz\n",
              "9uxZnXcohmjrnj17tD7v3r2b5cuXs2TJknw9Y3FxcZrrF9TDoG6LQqEgPj5ec5y+bX1ZKleWCyP1\n",
              "+PFjzZ/nzZtHixYtCAoKIjo6mpCQEAYMGIBCocDPz49Lly4V65rLli0jMTGRatWqaeX0VLO3t2fM\n",
              "mDFs2rRJ06W5b98+PvnkE8zMzAgODsbPzy/feeqcGg4ODgWWrd6XkpJi0La6ubmxePFi9uzZQ2Rk\n",
              "JKGhoaxatYoWLVrw9OlTxo8fz8WLF7XOyTtNv2rVqoXWN2/7DNHWl0UEBSOQd0SppaUla9as0dyy\n",
              "NmjQgKVLl9K8eXOUSiWrVq0q8nq7d+/WzHr95ptvdN5W9+7dmxkzZtCxY0dq1qyJhYUFjRo1Ytq0\n",
              "aXz//fdA7rP4+fPntc5TP5IUNnVefauta60Mfdq6aNEivL29adKkCVZWVtjb29OjRw/+97//0bJl\n",
              "S7KysjR1V1Mv7lNYnfM+GuSts75tfVlEUDACeQfb+Pj45PtlMjEx0SxNd+LECXJyCk5scvLkSc0v\n",
              "/LRp0+jdu3eJ6/PWW2/Rpk0bAA4cOKCzrnlv+V+k/iJaWlrm22fItqpZWloydepUAM6ePav1a5/3\n",
              "C19QnfMGjrx11retL4sICkYg7xejoIVuGjduDOT+0upa0QogNDSUTz/9FKVSybhx4/jkk09KXad2\n",
              "7doBcOfOHa3t6pyehaXmU+9TH5uXodr6InUm8pycHO7du6ezvIKulbcteY/Xt60viwgKRkD9JYCC\n",
              "b1Xz/sLq+vWMiIhg3LhxZGRkMHLkSKZPn65XndT1yM7O1tresGFDIH+wyOvu3btax+ZliLYWVl9A\n",
              "kz4QoG7dupp96noVVF8LCwutkbr6tvVlEUHBCNSuXVvTBZf3Vy4v9fYqVarke2EWExPD2LFjSU9P\n",
              "x9fXl9mzZ+tdp2vXrgFQp04dre3qrsro6Git2241hUJBdHQ08M/dRl76trUgedf4yFtnMzMzWrVq\n",
              "BZDv/Yiaerurq6umOxL0b+vLIoKCkRgwYAAAu3btyvfrDGgyeHXq1ElrktDVq1cZPXo0qampeHp6\n",
              "8s033+g9Dv/KlSuaxDovdvG5u7tTtWpV0tPT2bVrV75zd+7cSXp6OtWqVStwXEBp21qYNWvWALlz\n",
              "E9Q5S9T69esHwF9//ZXv/YBCoWDbtm0A9O/fX2ufIdr6UrzsIZWCYSQmJkodOnSQ5HK5NGfOHM34\n",
              "/JycHCkwMFCSy+WSs7Oz1hDfW7duSV26dJHkcrk0efJkKTs7u1hlpaamSlOmTJHCwsKknJwcrX3H\n",
              "jx+XPDw8JLlcLnl5eem85rp164qcD7BhwwaDtnXt2rXSxo0b8w3tTkpKkubMmSPJ5XJJLpdL+/bt\n",
              "y1deceY+eHh4SOnp6QZv68ug9yxJoeI4deoU48ePJzMzEzs7Oxo2bEhCQgKPHz9GJpMxY8YMRo8e\n",
              "rTl+9OjRnDhxAsgddVfQr2rNmjXx9/fXfE5JSdH8stnY2ODk5ISFhQXx8fE8efIEgGbNmrF69Wqd\n",
              "s2FzcnKYMmWKZn3PF2cO9u/fn2XLlmFiUvCNbEnbumDBAjZu3IhMJqNu3bpUq1aNzMxMbt68SXZ2\n",
              "NiYmJnz22WdaOUTyCgsLY8yYMVqzJO/fv8+zZ8+wtrZm/fr1OkdxGqKt5U0EBSNz+/Ztfv31V06d\n",
              "OkViYiK2tra0a9eODz/8EDc3N61jR44cyblz54q8Zt26dTl8+LDms1KpZOPGjURGRhIbG0tSUhLp\n",
              "6enY2tri7OxMv3798PX1LXBdAshdY+DPP/8kKCiIGzduALm9Ce+88w5Dhw4t1iNMSdoaGRlJcHAw\n",
              "UVFRxMfHk5ycjKmpqWbtiPfee4/mzZsXWt7du3c16yk8ffoUR0dHPDw8mDBhQpHrKejb1vIkgoIg\n",
              "CFoqzj2LIAgVgggKgiBoEUFBEAQtIigIgqBFBAVBELSIoCAIghYRFASdtm3bhrOzMz179nzZVXml\n",
              "vYp/j2I5tkpApVKxf/9+jh49yoULF0hMTNQaCaheo7Cg/A1C5SKCgpGLjIzkyy+/1KwXCLnThG1s\n",
              "bEhOTiY8PJzw8HBWr15N3759WbJkic5FRoXKQwQFI3b48GGmTJmCQqGgatWqjB49mr59+2rm7qtU\n",
              "Ki5dukRISAi///47ISEhZGZmiqBQyYmgYKRu377NjBkzUCgUNG3alHXr1uVb28DU1BRXV1dcXV0Z\n",
              "PXo0s2bNekm1FSoS8aLRSP344488f/6cKlWqsGLFinwB4UVVq1Zl5cqV2NnZ6dwfExPDlClT8PDw\n",
              "oFWrVvTq1YuFCxcWuNSYn58fzs7OOld0VivsJVze8yVJIigoiOHDh+Pu7o6zs7NmDYORI0fi7OzM\n",
              "Tz/9pJl4NHToUNq3b0+7du0YNmwYO3bsKLTtkLvIypw5c+jbty9t2rShXbt2eHp6smzZMpKSkgo9\n",
              "NzIykgkTJuDu7k7r1q3p168fy5Yt01pk9lUi7hSM0JMnT9i/fz8Anp6eNGrUqNjn6pqxt2vXLmbO\n",
              "nIlSqcTOzg6VSsX9+/fZsGEDJ0+eZPPmzVqJXA1JkiSmTJnC/v37MTExwc7OTuc0Y5VKxaeffsqh\n",
              "Q4cwMzPD0tKStLQ0IiMjiYyM5M6dO0yePFlnGWvWrGHp0qWapdusrKxQKpXExsYSGxvL1q1bWb16\n",
              "db7EyZC7oMucOXM059rZ2REXF8eqVasICQlh2LBhBvzbKB/iTsEInT17VvM/aZ8+ffS6VlJSErNm\n",
              "zcLb25ujR49y/vx5wsPD+eqrrzA3N+fatWusXbvWENXWKSQkhEOHDvHll18SGhrKuXPnOH/+PB4e\n",
              "HlrH/f7775w7d45FixYRFhZGWFgYx44do0ePHgD88ssvWi9b1YKCgvjhhx+wtLRk2rRpnDhxgsjI\n",
              "SC5cuMDWrVt54403ePz4MePHj8/3y3/x4kXmzp1LTk4Obm5u7Nmzh/PnzxMREcHSpUt58uQJP//8\n",
              "c5n93ZQVERSMkHp9RKDINQKKkpGRwcCBA5k/fz6vvfYakPtL+n//93+MGDECgODgYL3KKEx6ejp+\n",
              "fn5aeSNtbGyoVauW1nHPnj1jxYoV+Pj4aJZLr1OnDv7+/tSqVYucnJx8uR6fP3/Od999B4C/vz+f\n",
              "fPIJNWvWBHLft7Rq1Yp169bRsmVLEhISCAoK0jr/xx9/JDs7m4YNG7JmzRrN6tLm5uYMHDiQpUuX\n",
              "VqgkL8UlgoIRKk5Wo5IYP368zu29evUCclcrzsjI0LscXRwcHIp1C96+fXtNQty8LCwsNHcVV69e\n",
              "1doXEhJCSkoKLVq04M0339R5XTMzM036OfUqVZC7+pT685gxY3TmbXjzzTcr1IKsxSXeKQiFqlq1\n",
              "Kg0aNNC5L++vdUpKSqGJaEvL1dW1WF2k6uQzuqjr+eJL0fDwcABu3LiRb4HZvNTZm+Lj4zXbLl68\n",
              "qHlE0xWM1Nzd3YmIiCii9hWLCApGKO/dQXJycr7ViUuisBeIeZczLywLkj6qVatWrOMKq6d67ckX\n",
              "V35+9OgRkJveTZ3irTB5U7vl7ZEo7O+3qF6fikgEBSPUrFkzzZ8vX76sV1B42fIGHkNTJ3156623\n",
              "WLZsWZmV86oR7xSMkLu7u6bb7sVcjuVF/WUu7Bc4NTW1vKqjk/qlYt7HguLKewfz8OHDAo8rbF9F\n",
              "JYKCEapRowZ9+/YFcjNI37p1q9jnGmodX3VuxAcPHhR4TFRUlEHKKi11/siLFy9qHiWKq2XLlprA\n",
              "e+bMmQKPK2xfRSWCgpGaOnUq1tbWZGZmMmnSpCJ/sZ49e8akSZMM9uvt4uIC5I6E1BUYbty4ocmF\n",
              "8LL0798fe3t7lEolixYtKjQg5uTkaHUv2tvba15OBgQE6LwjOnXq1Cv3khFEUDBajRo14vvvv9cM\n",
              "MBo8eDCrV6/WSnaqnhC1fPlyevfubdAvac+ePbG2tkapVDJ16lRu3rwJ5L6QPHjwIKNGjcLa2tpg\n",
              "5ZWGvb29Zr5HcHAw48aN48KFC5pehZycHG7cuEFAQAADBw7kyJEjWudPmTIFU1NTbt68ybhx4zRt\n",
              "zM7OZs+ePUydOrVCZZMuLvGi0Yj17t2bwMBAZs6cyZ07d1iyZAlLlizRTJ1OSUnRfAFkMhmDBg0y\n",
              "WLeinZ0ds2bNYs6cOURGRjJgwABsbGxQKBQolUratm2Ll5cX8+bNM0h5peXj40NmZiYLFizg+PHj\n",
              "HD9+HAsLC6ytrUlLS9PqVXlxCLirqytz585l7ty5nDlzhgEDBmBnZ0dWVhYKhYLGjRszbNgwFi5c\n",
              "WN7N0osICkauQ4cO7N27l3379nHkyBGioqJITEwkLS0NBwcHGjduTKdOnRg8eLBWmndDGDp0KLVq\n",
              "1SIgIICYmBiys7Np1KgRnp6ejBo1it27dxu0vNIaPnw4b775Jps2beLUqVPcv3+f1NRUbG1tcXJy\n",
              "ol27dvTs2VPneIRhw4Yhl8v59ddfiYiIICMjg9dff51+/foxbty4l/6IVBoiQ5QgCFrEOwVBELSI\n",
              "oCAIghYRFARB0CKCgiAIWkRQEARBiwgKgiBoEUFBEAQtIigIgqBFBAVBELSIoCAIghYRFARB0CKC\n",
              "giAIWkRQEARBy/8D1nNrDc1jK4YAAAAASUVORK5CYII=\n",
              "\">\n",
              "        \n",
              "      </div>\n",
              "      <script></script>\n",
              "      <script type=\"text/javascript\">\n",
              "        (() => {\n",
              "          const chartElement = document.getElementById(\"chart-a57c3be4-fdf7-4906-8922-fedf0a5a1606\");\n",
              "          async function getCodeForChartHandler(event) {\n",
              "            const chartCodeResponse =  await google.colab.kernel.invokeFunction(\n",
              "                'getCodeForChart', [\"chart-a57c3be4-fdf7-4906-8922-fedf0a5a1606\"], {});\n",
              "            const responseJson = chartCodeResponse.data['application/json'];\n",
              "            await google.colab.notebook.addCell(responseJson.code, 'code');\n",
              "          }\n",
              "          chartElement.onclick = getCodeForChartHandler;\n",
              "        })();\n",
              "      </script>\n",
              "      <style>\n",
              "        .colab-quickchart-chart-with-code  {\n",
              "            display: block;\n",
              "            float: left;\n",
              "            border: 1px solid transparent;\n",
              "        }\n",
              "\n",
              "        .colab-quickchart-chart-with-code:hover {\n",
              "            cursor: pointer;\n",
              "            border: 1px solid #aaa;\n",
              "        }\n",
              "      </style>"
            ]
          },
          "metadata": {}
        }
      ]
    }
  ]
}
